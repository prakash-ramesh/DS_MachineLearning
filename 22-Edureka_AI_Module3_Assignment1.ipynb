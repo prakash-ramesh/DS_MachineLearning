{
 "cells": [
  {
   "cell_type": "code",
   "execution_count": 1,
   "metadata": {},
   "outputs": [],
   "source": [
    "import nltk\n",
    "from nltk.tokenize import word_tokenize, sent_tokenize, regexp_tokenize\n",
    "from nltk.probability import FreqDist"
   ]
  },
  {
   "cell_type": "code",
   "execution_count": 2,
   "metadata": {},
   "outputs": [
    {
     "name": "stdout",
     "output_type": "stream",
     "text": [
      "2018 FIFA World CUP is an international tournament where all teams compete religously and they showcase beautiful talent. It took place in Russia from 14 June to 15 July 2018. It was the first World Cup to be held in Eastern Europe, and the 11th time that it had been held in Europe. At an estimated cost of over 14.2 billion, it was the most expensive World Cup. It was also the first World Cup to use the video assistant referee  system. \n",
      "The finals involved 32 teams, of which 31 came through qualifying competitions, while the host nation qualified automatically. Of the 32 teams, 20 had also appeared in the previous tournament in 2014, while both Iceland and Panama made their first appearances at a FIFA World Cup. A total of 64 matches were played in 12 venues across 11 cities. \n",
      "The final took place on 15 July at the Luzhniki Stadium in Moscow, between France and Croatia. France won the match 4–2 to claim their second World Cup title, marking the fourth consecutive title won by a European team.\n",
      "The bidding procedure to host the 2018 and 2022 FIFA World Cup tournaments began in January 2009, and national associations had until 2 February 2009 to register their interest. Initially, nine countries placed bids for the 2018 FIFA World Cup, but Mexico later withdrew from proceedings,  and Indonesia's bid was rejected by FIFA in February 2010 after the Indonesian government failed to submit a letter to support the bid.  During the bidding process, the three remaining non-UEFA nations (Australia, Japan, and the United States) gradually withdrew from the 2018 bids, and the UEFA nations were thus ruled out of the 2022 bid. As such, there were eventually four bids for the 2018 FIFA World Cup, two of which were joint bids: England, Russia, Netherlands/Belgium, and Portugal/Spain.\n",
      "The 22-member FIFA Executive Committee convened in Zürich on 2 December 2010 to vote to select the hosts of both tournaments. Russia won the right to be the 2018 host in the second round of voting. The Portugal/Spain bid came second, and that from Belgium/Netherlands third. England, which was bidding to host its second tournament, was eliminated in the first round\n",
      "The English Football Association and others raised concerns of bribery on the part of the Russian team and corruption from FIFA members. They claimed that four members of the executive committee had requested bribes to vote for England, and Sepp Blatter had said that it had already been arranged before the vote that Russia would win.  The 2014 Garcia Report, an internal investigation led by Michael J. Garcia, was withheld from public release by Hans-Joachim Eckert, FIFA's head of adjudication on ethical matters. Eckert instead released a shorter revised summary, and his (and therefore FIFA's) reluctance to publish the full report caused Garcia to resign in protest. Because of the controversy, the FA refused to accept Eckert's absolving of Russia from blame, with Greg Dyke calling for a re-examination of the affair and David Bernstein calling for a boycott of the World Cup.\n",
      "At an estimated cost of over $14.2 billion as of June 2018,  it is the most expensive World Cup in history, surpassing the cost of the 2014 FIFA World Cup in Brazil. \n",
      "The Russian government had originally earmarked a budget of around $20 billion which was later slashed to $10 billion for the preparations of the World Cup, of which half is spent on transport infrastructure. As part of the program for preparation to the 2018 FIFA World Cup, a federal sub-program \"Construction and Renovation of Transport Infrastructure\" was implemented with a total budget of 352.5 billion rubles, with 170.3 billion coming from the federal budget, 35.1 billion from regional budgets, and 147.1 billion from investors. The biggest item of federal spending was the aviation infrastructure (117.8 billion rubles).[86] Construction of new hotels was a crucial area of infrastructure development in the World Cup host cities. Costs continued to balloon as preparations were underway\n",
      "There were 169 goals scored in 64 matches, for an average of 2.64 goals per match.\n",
      "Twelve own goals were scored during the tournament, doubling the record of six set in 1998\n",
      "\n",
      "\n"
     ]
    }
   ],
   "source": [
    "f = open('datasets/FIFAWorldCup2018.txt')\n",
    "fifa_txt = f.read()\n",
    "f.seek(0)\n",
    "f.close()\n",
    "\n",
    "print(fifa_txt)"
   ]
  },
  {
   "cell_type": "markdown",
   "metadata": {},
   "source": [
    "Question 1:"
   ]
  },
  {
   "cell_type": "code",
   "execution_count": 3,
   "metadata": {},
   "outputs": [],
   "source": [
    "def GetNMostFrequentNouns(txt, n):\n",
    "    fdist = FreqDist()\n",
    "    pos = nltk.pos_tag(word_tokenize(txt))\n",
    "    for word, tag in pos:\n",
    "        if tag in ['NN', 'NNP', 'NNS', 'NNPS']:\n",
    "            fdist[word.upper()] += 1\n",
    "    \n",
    "    return fdist.most_common(n)\n",
    "\n",
    "def GetNMostFrequentVerbs(txt, n):\n",
    "    fdist = FreqDist()\n",
    "    pos = nltk.pos_tag(word_tokenize(txt))\n",
    "    for word, tag in pos:\n",
    "        if tag in ['VB', 'VBD', 'VBG', 'VBN', 'VBP', 'VBZ']:\n",
    "            fdist[word.upper()] += 1\n",
    "    \n",
    "    return fdist.most_common(n)\n",
    "\n",
    "def GetNMostFrequentDeterminers(txt, n):\n",
    "    fdist = FreqDist()\n",
    "    pos = nltk.pos_tag(word_tokenize(txt))\n",
    "    for word, tag in pos:\n",
    "        if tag in ['DT']:\n",
    "            fdist[word.upper()] += 1\n",
    "    \n",
    "    return fdist.most_common(n)\n",
    "\n",
    "def GetNMostFrequentPrepositions(txt, n):\n",
    "    fdist = FreqDist()\n",
    "    pos = nltk.pos_tag(word_tokenize(txt))\n",
    "    for word, tag in pos:\n",
    "        if tag in ['IN']:\n",
    "            fdist[word.upper()] += 1\n",
    "    \n",
    "    return fdist.most_common(n)"
   ]
  },
  {
   "cell_type": "code",
   "execution_count": 4,
   "metadata": {},
   "outputs": [
    {
     "name": "stdout",
     "output_type": "stream",
     "text": [
      "GetNMostFrequentNouns:  [('WORLD', 15), ('CUP', 15), ('FIFA', 12)]\n",
      "GetNMostFrequentVerbs:  [('WAS', 11), ('HAD', 7), ('WERE', 7)]\n",
      "GetNMostFrequentDeterminers:  [('THE', 57), ('A', 10), ('AN', 5)]\n",
      "GetNMostFrequentPrepositions:  [('OF', 30), ('IN', 18), ('FROM', 10)]\n"
     ]
    }
   ],
   "source": [
    "print(\"GetNMostFrequentNouns: \", GetNMostFrequentNouns(fifa_txt, 3))\n",
    "print(\"GetNMostFrequentVerbs: \", GetNMostFrequentVerbs(fifa_txt, 3))\n",
    "print(\"GetNMostFrequentDeterminers: \", GetNMostFrequentDeterminers(fifa_txt, 3))\n",
    "print(\"GetNMostFrequentPrepositions: \", GetNMostFrequentPrepositions(fifa_txt, 3))"
   ]
  },
  {
   "cell_type": "markdown",
   "metadata": {},
   "source": [
    "Question 2:"
   ]
  },
  {
   "cell_type": "code",
   "execution_count": 5,
   "metadata": {},
   "outputs": [
    {
     "name": "stdout",
     "output_type": "stream",
     "text": [
      "[('2018', 'CD'), ('FIFA', 'NNP'), ('World', 'NNP'), ('CUP', 'NNP'), ('is', 'VBZ'), ('an', 'DT'), ('international', 'JJ'), ('tournament', 'NN'), ('where', 'WRB'), ('all', 'DT'), ('teams', 'NNS'), ('compete', 'VBP'), ('religously', 'RB'), ('and', 'CC'), ('they', 'PRP'), ('showcase', 'VBP'), ('beautiful', 'JJ'), ('talent', 'NN'), ('.', '.')]\n"
     ]
    }
   ],
   "source": [
    "def PrintSyntaxTree(txt):\n",
    "    tokens = sent_tokenize(txt)\n",
    "    pos = nltk.pos_tag(word_tokenize(tokens[0]))\n",
    "    print(pos)\n",
    "\n",
    "PrintSyntaxTree(fifa_txt)"
   ]
  },
  {
   "cell_type": "markdown",
   "metadata": {},
   "source": [
    "Question 3:"
   ]
  },
  {
   "cell_type": "code",
   "execution_count": 6,
   "metadata": {},
   "outputs": [
    {
     "name": "stdout",
     "output_type": "stream",
     "text": [
      "TextAfterRemovingPunctuations: \n",
      " 2018 FIFA World CUP is an international tournament where all teams compete religously and they showcase beautiful talent It took place in Russia from 14 June to 15 July 2018 It was the first World Cup to be held in Eastern Europe and the 11th time that it had been held in Europe At an estimated cost of over 14 2 billion it was the most expensive World Cup It was also the first World Cup to use the video assistant referee system The finals involved 32 teams of which 31 came through qualifying competitions while the host nation qualified automatically Of the 32 teams 20 had also appeared in the previous tournament in 2014 while both Iceland and Panama made their first appearances at a FIFA World Cup A total of 64 matches were played in 12 venues across 11 cities The final took place on 15 July at the Luzhniki Stadium in Moscow between France and Croatia France won the match 4 2 to claim their second World Cup title marking the fourth consecutive title won by a European team The bidding procedure to host the 2018 and 2022 FIFA World Cup tournaments began in January 2009 and national associations had until 2 February 2009 to register their interest Initially nine countries placed bids for the 2018 FIFA World Cup but Mexico later withdrew from proceedings and Indonesia s bid was rejected by FIFA in February 2010 after the Indonesian government failed to submit a letter to support the bid During the bidding process the three remaining non UEFA nations Australia Japan and the United States gradually withdrew from the 2018 bids and the UEFA nations were thus ruled out of the 2022 bid As such there were eventually four bids for the 2018 FIFA World Cup two of which were joint bids England Russia Netherlands Belgium and Portugal Spain The 22 member FIFA Executive Committee convened in Zürich on 2 December 2010 to vote to select the hosts of both tournaments Russia won the right to be the 2018 host in the second round of voting The Portugal Spain bid came second and that from Belgium Netherlands third England which was bidding to host its second tournament was eliminated in the first round The English Football Association and others raised concerns of bribery on the part of the Russian team and corruption from FIFA members They claimed that four members of the executive committee had requested bribes to vote for England and Sepp Blatter had said that it had already been arranged before the vote that Russia would win The 2014 Garcia Report an internal investigation led by Michael J Garcia was withheld from public release by Hans Joachim Eckert FIFA s head of adjudication on ethical matters Eckert instead released a shorter revised summary and his and therefore FIFA s reluctance to publish the full report caused Garcia to resign in protest Because of the controversy the FA refused to accept Eckert s absolving of Russia from blame with Greg Dyke calling for a re examination of the affair and David Bernstein calling for a boycott of the World Cup At an estimated cost of over 14 2 billion as of June 2018 it is the most expensive World Cup in history surpassing the cost of the 2014 FIFA World Cup in Brazil The Russian government had originally earmarked a budget of around 20 billion which was later slashed to 10 billion for the preparations of the World Cup of which half is spent on transport infrastructure As part of the program for preparation to the 2018 FIFA World Cup a federal sub program Construction and Renovation of Transport Infrastructure was implemented with a total budget of 352 5 billion rubles with 170 3 billion coming from the federal budget 35 1 billion from regional budgets and 147 1 billion from investors The biggest item of federal spending was the aviation infrastructure 117 8 billion rubles 86 Construction of new hotels was a crucial area of infrastructure development in the World Cup host cities Costs continued to balloon as preparations were underway There were 169 goals scored in 64 matches for an average of 2 64 goals per match Twelve own goals were scored during the tournament doubling the record of six set in 1998 \n",
      "\n",
      "TextAfterRemovingDigits: \n",
      "  FIFA World CUP is an international tournament where all teams compete religously and they showcase beautiful talent. It took place in Russia from   June to   July  . It was the first World Cup to be held in Eastern Europe, and the  th time that it had been held in Europe. At an estimated cost of over  .  billion, it was the most expensive World Cup. It was also the first World Cup to use the video assistant referee  system. \n",
      "The finals involved   teams, of which   came through qualifying competitions, while the host nation qualified automatically. Of the   teams,   had also appeared in the previous tournament in  , while both Iceland and Panama made their first appearances at a FIFA World Cup. A total of   matches were played in   venues across   cities. \n",
      "The final took place on   July at the Luzhniki Stadium in Moscow, between France and Croatia. France won the match  –  to claim their second World Cup title, marking the fourth consecutive title won by a European team.\n",
      "The bidding procedure to host the   and   FIFA World Cup tournaments began in January  , and national associations had until   February   to register their interest. Initially, nine countries placed bids for the   FIFA World Cup, but Mexico later withdrew from proceedings,  and Indonesia's bid was rejected by FIFA in February   after the Indonesian government failed to submit a letter to support the bid.  During the bidding process, the three remaining non-UEFA nations (Australia, Japan, and the United States) gradually withdrew from the   bids, and the UEFA nations were thus ruled out of the   bid. As such, there were eventually four bids for the   FIFA World Cup, two of which were joint bids: England, Russia, Netherlands/Belgium, and Portugal/Spain.\n",
      "The  -member FIFA Executive Committee convened in Zürich on   December   to vote to select the hosts of both tournaments. Russia won the right to be the   host in the second round of voting. The Portugal/Spain bid came second, and that from Belgium/Netherlands third. England, which was bidding to host its second tournament, was eliminated in the first round\n",
      "The English Football Association and others raised concerns of bribery on the part of the Russian team and corruption from FIFA members. They claimed that four members of the executive committee had requested bribes to vote for England, and Sepp Blatter had said that it had already been arranged before the vote that Russia would win.  The   Garcia Report, an internal investigation led by Michael J. Garcia, was withheld from public release by Hans-Joachim Eckert, FIFA's head of adjudication on ethical matters. Eckert instead released a shorter revised summary, and his (and therefore FIFA's) reluctance to publish the full report caused Garcia to resign in protest. Because of the controversy, the FA refused to accept Eckert's absolving of Russia from blame, with Greg Dyke calling for a re-examination of the affair and David Bernstein calling for a boycott of the World Cup.\n",
      "At an estimated cost of over $ .  billion as of June  ,  it is the most expensive World Cup in history, surpassing the cost of the   FIFA World Cup in Brazil. \n",
      "The Russian government had originally earmarked a budget of around $  billion which was later slashed to $  billion for the preparations of the World Cup, of which half is spent on transport infrastructure. As part of the program for preparation to the   FIFA World Cup, a federal sub-program \"Construction and Renovation of Transport Infrastructure\" was implemented with a total budget of  .  billion rubles, with  .  billion coming from the federal budget,  .  billion from regional budgets, and  .  billion from investors. The biggest item of federal spending was the aviation infrastructure ( .  billion rubles).[ ] Construction of new hotels was a crucial area of infrastructure development in the World Cup host cities. Costs continued to balloon as preparations were underway\n",
      "There were   goals scored in   matches, for an average of  .  goals per match.\n",
      "Twelve own goals were scored during the tournament, doubling the record of six set in  \n",
      "\n",
      "\n",
      "AllCapitalizedWordsFromText: \n",
      " ['World', 'Russia', 'June', 'July', 'World', 'Cup', 'Eastern', 'Europe', 'Europe', 'World', 'Cup', 'World', 'Cup', 'Iceland', 'Panama', 'World', 'Cup', 'July', 'Luzhniki', 'Stadium', 'Moscow', 'France', 'Croatia', 'World', 'Cup', 'European', 'World', 'Cup', 'January', 'February', 'World', 'Cup', 'Mexico', 'Indonesia', 'February', 'Indonesian', 'During', 'Australia', 'Japan', 'United', 'States', 'World', 'Cup', 'England', 'Russia', 'Netherlands', 'Belgium', 'Portugal', 'Spain', 'Executive', 'Committee', 'December', 'Portugal', 'Spain', 'Belgium', 'Netherlands', 'English', 'Football', 'Association', 'Russian', 'England', 'Sepp', 'Blatter', 'Russia', 'The', 'Garcia', 'Report', 'Michael', 'Hans', 'Joachim', 'Eckert', 'Garcia', 'Eckert', 'Russia', 'Greg', 'Dyke', 'David', 'Bernstein', 'World', 'Cup', 'June', 'World', 'Cup', 'World', 'Cup', 'Brazil', 'Russian', 'World', 'Cup', 'World', 'Cup', 'Construction', 'Renovation', 'Transport', 'Infrastructure', 'Construction', 'World', 'Cup'] \n",
      "\n",
      "AllEmailsFromText: \n",
      " []\n"
     ]
    }
   ],
   "source": [
    "def TextAfterRemovingPunctuations(txt):\n",
    "    tokens = regexp_tokenize(txt, pattern=r'\\w+')\n",
    "    return ' '.join(tokens)\n",
    "\n",
    "def TextAfterRemovingDigits(txt):\n",
    "    tokens = regexp_tokenize(txt, pattern=r'\\D+')\n",
    "    return ' '.join(tokens)\n",
    "\n",
    "def AllCapitalizedWordsFromText(txt):\n",
    "    tokens = regexp_tokenize(txt, pattern=r'(?<!^)(?<!\\. )[A-Z][a-z]+')\n",
    "    return tokens\n",
    "\n",
    "def AllEmailsFromText(txt):\n",
    "    tokens = regexp_tokenize(txt, pattern=r'\\S+@\\S+')\n",
    "    return tokens\n",
    "\n",
    "print(\"TextAfterRemovingPunctuations: \\n\",TextAfterRemovingPunctuations(fifa_txt), \"\\n\")\n",
    "print(\"TextAfterRemovingDigits: \\n\",TextAfterRemovingDigits(fifa_txt))\n",
    "print(\"AllCapitalizedWordsFromText: \\n\",AllCapitalizedWordsFromText(fifa_txt), \"\\n\")\n",
    "print(\"AllEmailsFromText: \\n\",AllEmailsFromText(fifa_txt))"
   ]
  },
  {
   "cell_type": "markdown",
   "metadata": {},
   "source": [
    "Question 4:"
   ]
  },
  {
   "cell_type": "code",
   "execution_count": 7,
   "metadata": {},
   "outputs": [],
   "source": [
    "def ChunkingVer1(txt):\n",
    "    tokens = nltk.word_tokenize(txt)\n",
    "    tagged_tokens = nltk.pos_tag(tokens)\n",
    "    \n",
    "    chunks = []\n",
    "    current_chunk = []\n",
    "    \n",
    "    for word, pos in tagged_tokens:\n",
    "        if pos.startswith('NNP'):  # Proper noun\n",
    "            current_chunk.append(word)\n",
    "        elif pos.startswith('VB'):  # Verb\n",
    "            if current_chunk:\n",
    "                chunks.append(' '.join(current_chunk))\n",
    "                current_chunk = []\n",
    "    \n",
    "    if current_chunk:\n",
    "        chunks.append(' '.join(current_chunk))\n",
    "    \n",
    "    return chunks\n",
    "\n",
    "def ChunkingVer2(txt):\n",
    "    tokens = nltk.word_tokenize(txt)\n",
    "    tagged_tokens = nltk.pos_tag(tokens)\n",
    "    \n",
    "    chunks = []\n",
    "    current_chunk = []\n",
    "    \n",
    "    for word, pos in tagged_tokens:\n",
    "        if pos.startswith('VB'):  # Verb\n",
    "            current_chunk.append(word)\n",
    "        elif pos.startswith('JJ'):  # Adjective\n",
    "            if current_chunk:\n",
    "                chunks.append(' '.join(current_chunk))\n",
    "                current_chunk = []\n",
    "    \n",
    "    if current_chunk:\n",
    "        chunks.append(' '.join(current_chunk))\n",
    "    \n",
    "    return chunks\n",
    "\n",
    "def ChunkingVer3(txt):\n",
    "    tokens = nltk.word_tokenize(txt)\n",
    "    tagged_tokens = nltk.pos_tag(tokens)\n",
    "    \n",
    "    chunks = []\n",
    "    current_chunk = []\n",
    "    \n",
    "    for word, pos in tagged_tokens:\n",
    "        if pos.startswith('DT'):  # Determiner\n",
    "            current_chunk.append(word)\n",
    "        elif pos.startswith('NN'):  # Noun\n",
    "            if current_chunk:\n",
    "                chunks.append(' '.join(current_chunk))\n",
    "                current_chunk = []\n",
    "    \n",
    "    if current_chunk:\n",
    "        chunks.append(' '.join(current_chunk))\n",
    "    \n",
    "    return chunks\n",
    "\n",
    "def ChunkingVer4(txt):\n",
    "    tokens = nltk.word_tokenize(txt)\n",
    "    tagged_tokens = nltk.pos_tag(tokens)\n",
    "    \n",
    "    chunks = []\n",
    "    current_chunk = []\n",
    "    \n",
    "    for word, pos in tagged_tokens:\n",
    "        if pos.startswith('VB'):  # Verb\n",
    "            current_chunk.append(word)\n",
    "        elif pos.startswith('RB'):  # Adverb\n",
    "            if current_chunk:\n",
    "                chunks.append(' '.join(current_chunk))\n",
    "                current_chunk = []\n",
    "    \n",
    "    if current_chunk:\n",
    "        chunks.append(' '.join(current_chunk))\n",
    "    \n",
    "    return chunks\n",
    "\n",
    "def ChunkingVer5(txt):\n",
    "    tokens = nltk.word_tokenize(txt)\n",
    "    tagged_tokens = nltk.pos_tag(tokens)\n",
    "    \n",
    "    chunks = []\n",
    "    current_chunk = []\n",
    "    \n",
    "    for word, pos in tagged_tokens:\n",
    "        if pos.startswith('DT') or pos.startswith('IN'):  # Determiner or Preposition\n",
    "            current_chunk.append(word)\n",
    "        elif pos.startswith('JJ'):  # Adjective\n",
    "            current_chunk.append(word)\n",
    "        elif pos.startswith('NN'):  # Noun\n",
    "            current_chunk.append(word)\n",
    "            chunks.append(' '.join(current_chunk))\n",
    "            current_chunk = []\n",
    "    \n",
    "    return chunks\n",
    "\n",
    "def ChunkingVer6(input_string):\n",
    "    tokens = nltk.word_tokenize(input_string)\n",
    "    tagged_tokens = nltk.pos_tag(tokens)\n",
    "    \n",
    "    chunks = []\n",
    "    current_chunk = []\n",
    "    \n",
    "    for word, pos in tagged_tokens:\n",
    "        if pos.startswith('JJ'):  # Adjective\n",
    "            current_chunk.append(word)\n",
    "        elif pos.startswith('NN'):  # Noun\n",
    "            current_chunk.append(word)\n",
    "            chunks.append(' '.join(current_chunk))\n",
    "            current_chunk = []\n",
    "    \n",
    "    return chunks\n"
   ]
  },
  {
   "cell_type": "code",
   "execution_count": 8,
   "metadata": {},
   "outputs": [
    {
     "name": "stdout",
     "output_type": "stream",
     "text": [
      "ChunkingVer1:  ['FIFA World CUP', 'Russia June July', 'World Cup', 'Eastern Europe', 'Europe', 'World Cup', 'World Cup', 'Iceland Panama', 'FIFA World Cup A', 'July Luzhniki Stadium Moscow France Croatia France', 'World Cup', 'FIFA World Cup', 'January', 'February', 'FIFA World Cup Mexico', 'Indonesia', 'FIFA February', 'Australia Japan United States', 'UEFA', 'FIFA World Cup', 'England Russia Netherlands/Belgium Portugal/Spain FIFA Executive Committee', 'Zürich December', 'Russia', 'Portugal/Spain', 'Belgium/Netherlands England', 'English Football Association', 'Russian FIFA', 'England Sepp Blatter', 'Russia', 'Garcia Report', 'Michael J. Garcia', 'Hans-Joachim Eckert FIFA Eckert', 'FIFA', 'Garcia', 'FA', 'Eckert Russia Greg Dyke', 'David Bernstein', 'World Cup June', 'World Cup', 'FIFA World Cup Brazil', 'World Cup', 'FIFA World Cup Construction Renovation Transport Infrastructure', 'Construction', 'World Cup', 'Twelve']\n",
      "ChunkingVer2:  ['is', 'compete showcase', 'took was', 'be held had been held', 'was', 'was', 'use involved came qualifying qualified had appeared', 'made', 'were played', 'took won claim', 'marking', 'won', 'host began', 'had register placed withdrew was rejected', 'failed submit support remaining', 'withdrew were ruled', 'were were', 'convened vote select won be', 'came', 'was bidding host', 'was eliminated', 'raised claimed', 'had requested vote had said had been arranged win', 'led was withheld', 'released revised', 'publish', 'caused resign refused accept calling calling', 'is', 'surpassing', 'had earmarked was slashed is spent', 'was implemented', 'coming', 'was', 'was', 'continued balloon were were scored', 'were scored doubling']\n",
      "ChunkingVer3:  ['an', 'all', 'the', 'the', 'an', 'the', 'the', 'the', 'The', 'the', 'the', 'the', 'both', 'a', 'The', 'the', 'the', 'the', 'a', 'The', 'the', 'the', 'the', 'a', 'the', 'the', 'the', 'the', 'the', 'the', 'the', 'the', 'The', 'the', 'both', 'the', 'the', 'the', 'The', 'the', 'The', 'the', 'the', 'the', 'the', 'The', 'an', 'a', 'the', 'the', 'the', 'a', 'the', 'a', 'the', 'an', 'the', 'the', 'the', 'The', 'a', 'the', 'the', 'the', 'the', 'a', 'a', 'the', 'The', 'the', 'a', 'the', 'an', 'the', 'the']\n",
      "ChunkingVer4:  ['is compete', 'showcase took was be held had been held was', 'was', 'use involved came qualifying qualified', 'had', 'appeared made were played took won claim marking won host began had register', 'placed', 'withdrew was rejected failed submit support remaining', 'withdrew were', 'ruled were', 'were convened vote select won be came was bidding host was eliminated raised claimed had requested vote had said had', 'been arranged win led was withheld', 'released revised', 'publish caused resign refused accept calling calling is', 'surpassing had', 'earmarked was', 'slashed is spent was implemented coming was was continued balloon were', 'were scored were scored doubling']\n",
      "ChunkingVer5:  ['FIFA', 'World', 'CUP', 'an international tournament', 'all teams', 'beautiful talent', 'place', 'in Russia', 'from June', 'July', 'the first World', 'Cup', 'in Eastern', 'Europe', 'the time', 'that in Europe', 'At an estimated cost', 'of over the expensive World', 'Cup', 'the first World', 'Cup', 'the video', 'assistant', 'referee', 'system', 'The finals', 'teams', 'of through competitions', 'while the host', 'nation', 'Of the teams', 'in the previous tournament', 'in while both Iceland', 'Panama', 'first appearances', 'at a FIFA', 'World', 'Cup', 'A', 'total', 'of matches', 'in venues', 'across cities', 'The final place', 'on July', 'at the Luzhniki', 'Stadium', 'in Moscow', 'between France', 'Croatia', 'France', 'the match', 'second World', 'Cup', 'title', 'the fourth consecutive title', 'by a European team', 'The bidding', 'procedure', 'the FIFA', 'World', 'Cup', 'tournaments', 'in January', 'national associations', 'until February', 'interest', 'countries', 'bids', 'for the FIFA', 'World', 'Cup', 'Mexico', 'from proceedings', 'Indonesia', 'bid', 'by FIFA', 'in February', 'after the Indonesian government', 'a letter', 'the bid', 'During the bidding', 'process', 'the non-UEFA nations', 'Australia', 'Japan', 'the United', 'States', 'from the bids', 'the UEFA', 'nations', 'out of the bid', 'As such bids', 'for the FIFA', 'World', 'Cup', 'of joint bids', 'England', 'Russia', 'Netherlands/Belgium', 'Portugal/Spain', 'The 22-member FIFA', 'Executive', 'Committee', 'in Zürich', 'on December', 'the hosts', 'of both tournaments', 'Russia', 'the right', 'the host', 'in the second round', 'of voting', 'The Portugal/Spain', 'bid', 'second that from Belgium/Netherlands', 'third England', 'second tournament', 'in the first round', 'The English', 'Football', 'Association', 'others', 'concerns', 'of bribery', 'on the part', 'of the Russian', 'team', 'corruption', 'from FIFA', 'members', 'that members', 'of the executive committee', 'bribes', 'for England', 'Sepp', 'Blatter', 'that before the vote', 'that Russia', 'The Garcia', 'Report', 'an internal investigation', 'by Michael', 'J.', 'Garcia', 'from public release', 'by Hans-Joachim', 'Eckert', 'FIFA', 'head', 'of adjudication', 'on ethical matters', 'Eckert', 'a shorter', 'summary FIFA', 'reluctance', 'the full report', 'Garcia', 'in protest', 'Because of the controversy', 'the FA', 'Eckert', 'absolving', 'of Russia', 'from blame', 'with Greg', 'Dyke', 'for a re-examination', 'of the affair', 'David', 'Bernstein', 'for a boycott', 'of the World', 'Cup', 'At an estimated cost', 'of over as of June', 'the expensive World', 'Cup', 'in history', 'the cost', 'of the FIFA', 'World', 'Cup', 'in Brazil', 'The Russian government', 'a budget', 'of around for the preparations', 'of the World', 'Cup', 'of half', 'on transport', 'infrastructure', 'As part', 'of the program', 'for preparation', 'the FIFA', 'World', 'Cup', 'a federal sub-program Construction', 'Renovation', 'of Transport', 'Infrastructure', 'with a total budget', 'of rubles', 'with from the federal budget', 'from regional budgets', 'from investors', 'The biggest item', 'of federal spending', 'the aviation', 'infrastructure', 'rubles', '] Construction', 'of new hotels', 'a crucial area', 'of infrastructure', 'development', 'in the World', 'Cup', 'host', 'cities', 'Costs', 'as preparations', 'goals', 'in matches', 'for an average', 'of goals', 'per match', 'Twelve', 'own goals', 'during the tournament', 'the record', 'of set']\n",
      "ChunkingVer6:  ['FIFA', 'World', 'CUP', 'international tournament', 'teams', 'beautiful talent', 'place', 'Russia', 'June', 'July', 'first World', 'Cup', 'Eastern', 'Europe', 'time', 'Europe', 'estimated cost', 'expensive World', 'Cup', 'first World', 'Cup', 'video', 'assistant', 'referee', 'system', 'finals', 'teams', 'competitions', 'host', 'nation', 'teams', 'previous tournament', 'Iceland', 'Panama', 'first appearances', 'FIFA', 'World', 'Cup', 'A', 'total', 'matches', 'venues', 'cities', 'final place', 'July', 'Luzhniki', 'Stadium', 'Moscow', 'France', 'Croatia', 'France', 'match', 'second World', 'Cup', 'title', 'fourth consecutive title', 'European team', 'bidding', 'procedure', 'FIFA', 'World', 'Cup', 'tournaments', 'January', 'national associations', 'February', 'interest', 'countries', 'bids', 'FIFA', 'World', 'Cup', 'Mexico', 'proceedings', 'Indonesia', 'bid', 'FIFA', 'February', 'Indonesian government', 'letter', 'bid', 'bidding', 'process', 'non-UEFA nations', 'Australia', 'Japan', 'United', 'States', 'bids', 'UEFA', 'nations', 'bid', 'such bids', 'FIFA', 'World', 'Cup', 'joint bids', 'England', 'Russia', 'Netherlands/Belgium', 'Portugal/Spain', '22-member FIFA', 'Executive', 'Committee', 'Zürich', 'December', 'hosts', 'tournaments', 'Russia', 'right', 'host', 'second round', 'voting', 'Portugal/Spain', 'bid', 'second Belgium/Netherlands', 'third England', 'second tournament', 'first round', 'English', 'Football', 'Association', 'others', 'concerns', 'bribery', 'part', 'Russian', 'team', 'corruption', 'FIFA', 'members', 'members', 'executive committee', 'bribes', 'England', 'Sepp', 'Blatter', 'vote', 'Russia', 'Garcia', 'Report', 'internal investigation', 'Michael', 'J.', 'Garcia', 'public release', 'Hans-Joachim', 'Eckert', 'FIFA', 'head', 'adjudication', 'ethical matters', 'Eckert', 'shorter', 'summary FIFA', 'reluctance', 'full report', 'Garcia', 'protest', 'controversy', 'FA', 'Eckert', 'absolving', 'Russia', 'blame', 'Greg', 'Dyke', 're-examination', 'affair', 'David', 'Bernstein', 'boycott', 'World', 'Cup', 'estimated cost', 'June', 'expensive World', 'Cup', 'history', 'cost', 'FIFA', 'World', 'Cup', 'Brazil', 'Russian government', 'budget', 'preparations', 'World', 'Cup', 'half', 'transport', 'infrastructure', 'part', 'program', 'preparation', 'FIFA', 'World', 'Cup', 'federal sub-program Construction', 'Renovation', 'Transport', 'Infrastructure', 'total budget', 'rubles', 'federal budget', 'regional budgets', 'investors', 'biggest item', 'federal spending', 'aviation', 'infrastructure', 'rubles', '] Construction', 'new hotels', 'crucial area', 'infrastructure', 'development', 'World', 'Cup', 'host', 'cities', 'Costs', 'preparations', 'goals', 'matches', 'average', 'goals', 'match', 'Twelve', 'own goals', 'tournament', 'record', 'set']\n"
     ]
    }
   ],
   "source": [
    "print(\"ChunkingVer1: \", ChunkingVer1(fifa_txt))\n",
    "print(\"ChunkingVer2: \", ChunkingVer2(fifa_txt))\n",
    "print(\"ChunkingVer3: \", ChunkingVer3(fifa_txt))\n",
    "print(\"ChunkingVer4: \", ChunkingVer4(fifa_txt))\n",
    "print(\"ChunkingVer5: \", ChunkingVer5(fifa_txt))\n",
    "print(\"ChunkingVer6: \", ChunkingVer6(fifa_txt))"
   ]
  },
  {
   "cell_type": "markdown",
   "metadata": {},
   "source": [
    "Question 5:"
   ]
  },
  {
   "cell_type": "code",
   "execution_count": 11,
   "metadata": {},
   "outputs": [],
   "source": [
    "from nltk.parse.generate import generate\n",
    "\n",
    "def get_most_frequent_words(text, category, num_words=2):    \n",
    "    words = word_tokenize(text.lower())\n",
    "    \n",
    "    words_category = [word for word, pos in nltk.pos_tag(words) if pos.startswith(category)]\n",
    "    \n",
    "    # Calculate word frequencies\n",
    "    freq_dist = FreqDist(words_category)\n",
    "    \n",
    "    # Get the most common noun\n",
    "    most_common_words = freq_dist.most_common(num_words)\n",
    "    \n",
    "    return most_common_words\n",
    "\n",
    "def generate_grammar(txt):\n",
    "    # Get the most frequent words for each category\n",
    "    delimiters = get_most_frequent_words(txt, category=\"DT\")\n",
    "    verbs = get_most_frequent_words(txt, category=\"VB\")\n",
    "    prepositions = get_most_frequent_words(txt, category=\"IN\")\n",
    "    nouns = get_most_frequent_words(txt, category=\"NN\")\n",
    "    \n",
    "    # Define the CFG rules\n",
    "    grammar_rules = [\n",
    "        \"S -> NP VP\",\n",
    "        \"NP -> DT N\",\n",
    "        \"NP -> DT N VP\",\n",
    "        \"VP -> VB NP\",\n",
    "        \"VP -> VB NP PP\",\n",
    "        \"PP -> IN NP\",\n",
    "        f\"DT -> '{delimiters[0][0]}' | '{delimiters[1][0]}'\",\n",
    "        f\"VB -> '{verbs[0][0]}' | '{verbs[1][0]}'\",\n",
    "        f\"IN -> '{prepositions[0][0]}' | '{prepositions[1][0]}'\",\n",
    "        f\"N -> '{nouns[0][0]}' | '{nouns[1][0]}'\"\n",
    "    ]\n",
    "    \n",
    "    s = \"\\n\".join(grammar_rules)\n",
    "\n",
    "    # Create the CFG\n",
    "    cfg_grammar = nltk.CFG.fromstring(f\"\"\"{s}\"\"\")\n",
    "    print(cfg_grammar.productions(), \"\\n\\n\")\n",
    "    \n",
    "    gen = generate(cfg_grammar, n=10)\n",
    "    for sentence in gen:\n",
    "        print(' '.join(sentence))"
   ]
  },
  {
   "cell_type": "code",
   "execution_count": 12,
   "metadata": {},
   "outputs": [
    {
     "name": "stdout",
     "output_type": "stream",
     "text": [
      "[S -> NP VP, NP -> DT N, NP -> DT N VP, VP -> VB NP, VP -> VB NP PP, PP -> IN NP, DT -> 'the', DT -> 'a', VB -> 'was', VB -> 'had', IN -> 'of', IN -> 'in', N -> 'world', N -> 'cup'] \n",
      "\n",
      "\n",
      "the world was the world\n",
      "the world was the cup\n",
      "the world was a world\n",
      "the world was a cup\n",
      "the world was the world was the world\n",
      "the world was the world was the cup\n",
      "the world was the world was a world\n",
      "the world was the world was a cup\n",
      "the world was the world was the world was the world\n",
      "the world was the world was the world was the cup\n"
     ]
    }
   ],
   "source": [
    "generate_grammar(fifa_txt)"
   ]
  }
 ],
 "metadata": {
  "kernelspec": {
   "display_name": "Python 3",
   "language": "python",
   "name": "python3"
  },
  "language_info": {
   "codemirror_mode": {
    "name": "ipython",
    "version": 3
   },
   "file_extension": ".py",
   "mimetype": "text/x-python",
   "name": "python",
   "nbconvert_exporter": "python",
   "pygments_lexer": "ipython3",
   "version": "3.12.1"
  }
 },
 "nbformat": 4,
 "nbformat_minor": 2
}
