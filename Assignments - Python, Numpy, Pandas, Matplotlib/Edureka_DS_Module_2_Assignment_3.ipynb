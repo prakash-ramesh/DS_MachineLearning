{
  "nbformat": 4,
  "nbformat_minor": 0,
  "metadata": {
    "colab": {
      "provenance": []
    },
    "kernelspec": {
      "name": "python3",
      "display_name": "Python 3"
    },
    "language_info": {
      "name": "python"
    }
  },
  "cells": [
    {
      "cell_type": "markdown",
      "source": [
        "```\n",
        "You must use the fundamentals of Python taught in module 1\n",
        "1. Read the input from the command line – Reference ID\n",
        "2. Check for validity – it should be 12 digits and allows for number and alphabet\n",
        "3. Encrypt the Reference ID and print it for reference\n",
        "\n",
        "Enhancements for code\n",
        "You can try these enhancements in code\n",
        "1. Allow some special characters in ReferenceID\n",
        "2. Give the option for decryption to the user\n",
        "```"
      ],
      "metadata": {
        "id": "-oMmCNsR-ETC"
      }
    },
    {
      "cell_type": "code",
      "execution_count": 1,
      "metadata": {
        "id": "Kk-FVTvS913x"
      },
      "outputs": [],
      "source": [
        "import rsa"
      ]
    },
    {
      "cell_type": "code",
      "source": [
        "ref_id = input(\"Enter Reference Id.\")\n",
        "\n",
        "l = len(ref_id)\n",
        "publicKey, privateKey = rsa.newkeys(512)\n",
        "\n",
        "encrypted = b''\n",
        "\n",
        "if l == 12 and ref_id.isalnum():\n",
        "    encrypted = rsa.encrypt(ref_id.encode(), publicKey)\n",
        "    print(\"Ref Id Encrypted: \", encrypted)\n",
        "\n",
        "decrypt = input(\"Do you want to decrypt?. y/n: \")\n",
        "\n",
        "if decrypt.lower() == 'y':\n",
        "    print(\"Ref Id Decrypted: \", rsa.decrypt(encrypted, privateKey).decode())"
      ],
      "metadata": {
        "colab": {
          "base_uri": "https://localhost:8080/"
        },
        "id": "qW-8GjRo-scJ",
        "outputId": "89cc28fb-305e-47e2-f063-a08534e65b41"
      },
      "execution_count": 6,
      "outputs": [
        {
          "output_type": "stream",
          "name": "stdout",
          "text": [
            "Enter Reference Id.MyRef1234567\n",
            "Ref Id Encrypted:  b'o\\xbf\\xcc\\x07\\xf4S\\xac\\xe4\\x1cp\\xda\\xd8\\x17\\xb6\\xd5%\\x1c\\x82\\xe9\\xa2\\xd3\\xbe\\x8a\\xcf\\x96\\xcf\\x81\\x1b5\\xf5\\xe7\\xf3\\x06\\x8f)\\x9f,\\x01\\x9cI\\xaa\\xdd\\x0b\\x16\\xbd\\x97#\\xd4\\x8esV\\xd3+\\x17\\xe0\\xd6\\x93.\\xe2\\x99\\xca-z\\xb4'\n",
            "Do you want to decrypt?. y/n: y\n",
            "Ref Id Decrypted:  MyRef1234567\n"
          ]
        }
      ]
    },
    {
      "cell_type": "code",
      "source": [],
      "metadata": {
        "id": "QDjZzwJV_Q0U"
      },
      "execution_count": null,
      "outputs": []
    }
  ]
}