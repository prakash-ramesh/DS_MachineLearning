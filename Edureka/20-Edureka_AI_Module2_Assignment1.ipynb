{
 "cells": [
  {
   "cell_type": "code",
   "execution_count": 79,
   "metadata": {},
   "outputs": [],
   "source": [
    "import nltk\n",
    "from nltk.tokenize import word_tokenize\n",
    "from nltk.probability import FreqDist"
   ]
  },
  {
   "cell_type": "markdown",
   "metadata": {},
   "source": [
    "**Question 1**"
   ]
  },
  {
   "cell_type": "code",
   "execution_count": 80,
   "metadata": {},
   "outputs": [
    {
     "data": {
      "text/plain": [
       "'\\nGold is a chemical element with symbol Au (from Latin: aurum) and atomic number 79, making it one of the higher atomic number elements that occur naturally.\\nIn its purest form, it is a bright, slightly reddish yellow, dense, soft, malleable, and ductile metal.\\nChemically, gold is a transition metal and a group 11 element. It is one of the least reactive chemical elements and is\\nsolid under standard conditions.\\nGold often occurs in free elemental (native) form, as nuggets or grains, in rocks, in veins, and in alluvial deposits.\\nIt occurs in a solid solution series with the native element silver (as electrum) and also naturally alloyed with copper and palladium.\\nLess commonly, it occurs in minerals as gold compounds, often with tellurium (gold tellurides).\\n'"
      ]
     },
     "execution_count": 80,
     "metadata": {},
     "output_type": "execute_result"
    }
   ],
   "source": [
    "'''\n",
    "Gold is a chemical element with symbol Au (from Latin: aurum) and atomic number 79, making it one of the higher atomic number elements that occur naturally.\n",
    "In its purest form, it is a bright, slightly reddish yellow, dense, soft, malleable, and ductile metal.\n",
    "Chemically, gold is a transition metal and a group 11 element. It is one of the least reactive chemical elements and is\n",
    "solid under standard conditions.\n",
    "Gold often occurs in free elemental (native) form, as nuggets or grains, in rocks, in veins, and in alluvial deposits.\n",
    "It occurs in a solid solution series with the native element silver (as electrum) and also naturally alloyed with copper and palladium.\n",
    "Less commonly, it occurs in minerals as gold compounds, often with tellurium (gold tellurides).\n",
    "'''"
   ]
  },
  {
   "cell_type": "code",
   "execution_count": 81,
   "metadata": {},
   "outputs": [],
   "source": [
    "s1 = input(\"Enter Text to Tokenize: \")"
   ]
  },
  {
   "cell_type": "code",
   "execution_count": 82,
   "metadata": {},
   "outputs": [
    {
     "name": "stdout",
     "output_type": "stream",
     "text": [
      "Gold is a chemical element with symbol Au (from Latin: aurum) and atomic number 79, making it one of the higher atomic number elements that occur naturally. In its purest form, it is a bright, slightly reddish yellow, dense, soft, malleable, and ductile metal. Chemically, gold is a transition metal and a group 11 element. It is one of the least reactive chemical elements and is solid under standard conditions. Gold often occurs in free elemental (native) form, as nuggets or grains, in rocks, in veins, and in alluvial deposits. It occurs in a solid solution series with the native element silver (as electrum) and also naturally alloyed with copper and palladium. Less commonly, it occurs in minerals as gold compounds, often with tellurium (gold tellurides).\n"
     ]
    }
   ],
   "source": [
    "print(s1)"
   ]
  },
  {
   "cell_type": "code",
   "execution_count": 83,
   "metadata": {},
   "outputs": [],
   "source": [
    "def Tokenize(txt):\n",
    "    return word_tokenize(txt)"
   ]
  },
  {
   "cell_type": "code",
   "execution_count": 84,
   "metadata": {},
   "outputs": [
    {
     "name": "stdout",
     "output_type": "stream",
     "text": [
      "['Gold', 'is', 'a', 'chemical', 'element', 'with', 'symbol', 'Au', '(', 'from', 'Latin', ':', 'aurum', ')', 'and', 'atomic', 'number', '79', ',', 'making', 'it', 'one', 'of', 'the', 'higher', 'atomic', 'number', 'elements', 'that', 'occur', 'naturally', '.', 'In', 'its', 'purest', 'form', ',', 'it', 'is', 'a', 'bright', ',', 'slightly', 'reddish', 'yellow', ',', 'dense', ',', 'soft', ',', 'malleable', ',', 'and', 'ductile', 'metal', '.', 'Chemically', ',', 'gold', 'is', 'a', 'transition', 'metal', 'and', 'a', 'group', '11', 'element', '.', 'It', 'is', 'one', 'of', 'the', 'least', 'reactive', 'chemical', 'elements', 'and', 'is', 'solid', 'under', 'standard', 'conditions', '.', 'Gold', 'often', 'occurs', 'in', 'free', 'elemental', '(', 'native', ')', 'form', ',', 'as', 'nuggets', 'or', 'grains', ',', 'in', 'rocks', ',', 'in', 'veins', ',', 'and', 'in', 'alluvial', 'deposits', '.', 'It', 'occurs', 'in', 'a', 'solid', 'solution', 'series', 'with', 'the', 'native', 'element', 'silver', '(', 'as', 'electrum', ')', 'and', 'also', 'naturally', 'alloyed', 'with', 'copper', 'and', 'palladium', '.', 'Less', 'commonly', ',', 'it', 'occurs', 'in', 'minerals', 'as', 'gold', 'compounds', ',', 'often', 'with', 'tellurium', '(', 'gold', 'tellurides', ')', '.']\n"
     ]
    }
   ],
   "source": [
    "s1_tokens = Tokenize(s1)\n",
    "print(s1_tokens)"
   ]
  },
  {
   "cell_type": "code",
   "execution_count": 85,
   "metadata": {},
   "outputs": [
    {
     "name": "stdout",
     "output_type": "stream",
     "text": [
      "[('gold', 5), ('is', 5), ('a', 5), ('chemical', 2), ('element', 3), ('with', 4), ('symbol', 1), ('au', 1), ('(', 4), ('from', 1), ('latin', 1), (':', 1), ('aurum', 1), (')', 4), ('and', 7), ('atomic', 2), ('number', 2), ('79', 1), (',', 14), ('making', 1), ('it', 5), ('one', 2), ('of', 2), ('the', 3), ('higher', 1), ('elements', 2), ('that', 1), ('occur', 1), ('naturally', 2), ('.', 7), ('in', 7), ('its', 1), ('purest', 1), ('form', 2), ('bright', 1), ('slightly', 1), ('reddish', 1), ('yellow', 1), ('dense', 1), ('soft', 1), ('malleable', 1), ('ductile', 1), ('metal', 2), ('chemically', 1), ('transition', 1), ('group', 1), ('11', 1), ('least', 1), ('reactive', 1), ('solid', 2), ('under', 1), ('standard', 1), ('conditions', 1), ('often', 2), ('occurs', 3), ('free', 1), ('elemental', 1), ('native', 2), ('as', 3), ('nuggets', 1), ('or', 1), ('grains', 1), ('rocks', 1), ('veins', 1), ('alluvial', 1), ('deposits', 1), ('solution', 1), ('series', 1), ('silver', 1), ('electrum', 1), ('also', 1), ('alloyed', 1), ('copper', 1), ('palladium', 1), ('less', 1), ('commonly', 1), ('minerals', 1), ('compounds', 1), ('tellurium', 1), ('tellurides', 1)]\n"
     ]
    }
   ],
   "source": [
    "fdist = FreqDist()\n",
    "\n",
    "for word in s1_tokens:\n",
    "    fdist[word.lower()] += 1\n",
    "\n",
    "print(list(fdist.items()))"
   ]
  },
  {
   "cell_type": "code",
   "execution_count": 86,
   "metadata": {},
   "outputs": [
    {
     "data": {
      "text/plain": [
       "[('commonly', 1),\n",
       " ('minerals', 1),\n",
       " ('compounds', 1),\n",
       " ('tellurium', 1),\n",
       " ('tellurides', 1)]"
      ]
     },
     "execution_count": 86,
     "metadata": {},
     "output_type": "execute_result"
    }
   ],
   "source": [
    "fdist.most_common()[-5:]"
   ]
  },
  {
   "cell_type": "markdown",
   "metadata": {},
   "source": [
    "**Question 2**"
   ]
  },
  {
   "cell_type": "code",
   "execution_count": 87,
   "metadata": {},
   "outputs": [],
   "source": [
    "from nltk.corpus import stopwords\n",
    "stp_words = stopwords.words('english')"
   ]
  },
  {
   "cell_type": "code",
   "execution_count": 88,
   "metadata": {},
   "outputs": [],
   "source": [
    "fdist_stop_words = FreqDist()\n",
    "\n",
    "def RemoveStopWords(txt):\n",
    "    text_without_stop_words = []\n",
    "\n",
    "    for word in txt:\n",
    "        word = word.lower()\n",
    "        if word not in stp_words:\n",
    "            text_without_stop_words.append(word)\n",
    "        else:\n",
    "            fdist_stop_words[word.lower()] += 1\n",
    "    \n",
    "    return text_without_stop_words"
   ]
  },
  {
   "cell_type": "code",
   "execution_count": 89,
   "metadata": {},
   "outputs": [
    {
     "data": {
      "text/plain": [
       "['gold',\n",
       " 'chemical',\n",
       " 'element',\n",
       " 'symbol',\n",
       " 'au',\n",
       " '(',\n",
       " 'latin',\n",
       " ':',\n",
       " 'aurum',\n",
       " ')',\n",
       " 'atomic',\n",
       " 'number',\n",
       " '79',\n",
       " ',',\n",
       " 'making',\n",
       " 'one',\n",
       " 'higher',\n",
       " 'atomic',\n",
       " 'number',\n",
       " 'elements',\n",
       " 'occur',\n",
       " 'naturally',\n",
       " '.',\n",
       " 'purest',\n",
       " 'form',\n",
       " ',',\n",
       " 'bright',\n",
       " ',',\n",
       " 'slightly',\n",
       " 'reddish',\n",
       " 'yellow',\n",
       " ',',\n",
       " 'dense',\n",
       " ',',\n",
       " 'soft',\n",
       " ',',\n",
       " 'malleable',\n",
       " ',',\n",
       " 'ductile',\n",
       " 'metal',\n",
       " '.',\n",
       " 'chemically',\n",
       " ',',\n",
       " 'gold',\n",
       " 'transition',\n",
       " 'metal',\n",
       " 'group',\n",
       " '11',\n",
       " 'element',\n",
       " '.',\n",
       " 'one',\n",
       " 'least',\n",
       " 'reactive',\n",
       " 'chemical',\n",
       " 'elements',\n",
       " 'solid',\n",
       " 'standard',\n",
       " 'conditions',\n",
       " '.',\n",
       " 'gold',\n",
       " 'often',\n",
       " 'occurs',\n",
       " 'free',\n",
       " 'elemental',\n",
       " '(',\n",
       " 'native',\n",
       " ')',\n",
       " 'form',\n",
       " ',',\n",
       " 'nuggets',\n",
       " 'grains',\n",
       " ',',\n",
       " 'rocks',\n",
       " ',',\n",
       " 'veins',\n",
       " ',',\n",
       " 'alluvial',\n",
       " 'deposits',\n",
       " '.',\n",
       " 'occurs',\n",
       " 'solid',\n",
       " 'solution',\n",
       " 'series',\n",
       " 'native',\n",
       " 'element',\n",
       " 'silver',\n",
       " '(',\n",
       " 'electrum',\n",
       " ')',\n",
       " 'also',\n",
       " 'naturally',\n",
       " 'alloyed',\n",
       " 'copper',\n",
       " 'palladium',\n",
       " '.',\n",
       " 'less',\n",
       " 'commonly',\n",
       " ',',\n",
       " 'occurs',\n",
       " 'minerals',\n",
       " 'gold',\n",
       " 'compounds',\n",
       " ',',\n",
       " 'often',\n",
       " 'tellurium',\n",
       " '(',\n",
       " 'gold',\n",
       " 'tellurides',\n",
       " ')',\n",
       " '.']"
      ]
     },
     "execution_count": 89,
     "metadata": {},
     "output_type": "execute_result"
    }
   ],
   "source": [
    "RemoveStopWords(s1_tokens)"
   ]
  },
  {
   "cell_type": "code",
   "execution_count": 90,
   "metadata": {},
   "outputs": [
    {
     "data": {
      "text/plain": [
       "[('is', 5),\n",
       " ('a', 5),\n",
       " ('with', 4),\n",
       " ('from', 1),\n",
       " ('and', 7),\n",
       " ('it', 5),\n",
       " ('of', 2),\n",
       " ('the', 3),\n",
       " ('that', 1),\n",
       " ('in', 7),\n",
       " ('its', 1),\n",
       " ('under', 1),\n",
       " ('as', 3),\n",
       " ('or', 1)]"
      ]
     },
     "execution_count": 90,
     "metadata": {},
     "output_type": "execute_result"
    }
   ],
   "source": [
    "list(fdist_stop_words.items())"
   ]
  },
  {
   "cell_type": "code",
   "execution_count": 91,
   "metadata": {},
   "outputs": [
    {
     "data": {
      "text/plain": [
       "<BarContainer object of 14 artists>"
      ]
     },
     "execution_count": 91,
     "metadata": {},
     "output_type": "execute_result"
    },
    {
     "data": {
      "image/png": "[encoded data removed]",
      "text/plain": [
       "<Figure size 640x480 with 1 Axes>"
      ]
     },
     "metadata": {},
     "output_type": "display_data"
    }
   ],
   "source": [
    "import matplotlib.pyplot as plt\n",
    "\n",
    "plt.xlabel('Stop Words')\n",
    "plt.ylabel('Frequency')\n",
    "plt.xticks(rotation=90)\n",
    "plt.bar(fdist_stop_words.keys(), fdist_stop_words.values())"
   ]
  },
  {
   "cell_type": "markdown",
   "metadata": {},
   "source": [
    "**Question 3**"
   ]
  },
  {
   "cell_type": "code",
   "execution_count": 92,
   "metadata": {},
   "outputs": [],
   "source": [
    "# give giving given gave data curricula corpora"
   ]
  },
  {
   "cell_type": "code",
   "execution_count": 93,
   "metadata": {},
   "outputs": [],
   "source": [
    "from nltk.stem import WordNetLemmatizer\n",
    "wl = WordNetLemmatizer()\n",
    "\n",
    "from nltk.stem import LancasterStemmer\n",
    "ls = LancasterStemmer()\n",
    "\n",
    "def Lemmatize(word):\n",
    "    return wl.lemmatize(word)\n",
    "\n",
    "def Stemmed(word):\n",
    "    return ls.stem(word)"
   ]
  },
  {
   "cell_type": "code",
   "execution_count": 94,
   "metadata": {},
   "outputs": [],
   "source": [
    "words_to_lem_stem = input(\"Enter words to Lemmatize and Stem: \")"
   ]
  },
  {
   "cell_type": "code",
   "execution_count": 95,
   "metadata": {},
   "outputs": [
    {
     "data": {
      "text/plain": [
       "['give', 'giving', 'given', 'gave', 'data', 'curricula', 'corpora']"
      ]
     },
     "execution_count": 95,
     "metadata": {},
     "output_type": "execute_result"
    }
   ],
   "source": [
    "words_to_lem_stem = words_to_lem_stem.split()\n",
    "words_to_lem_stem"
   ]
  },
  {
   "cell_type": "code",
   "execution_count": 96,
   "metadata": {},
   "outputs": [
    {
     "data": {
      "text/html": [
       "<div>\n",
       "<style scoped>\n",
       "    .dataframe tbody tr th:only-of-type {\n",
       "        vertical-align: middle;\n",
       "    }\n",
       "\n",
       "    .dataframe tbody tr th {\n",
       "        vertical-align: top;\n",
       "    }\n",
       "\n",
       "    .dataframe thead th {\n",
       "        text-align: right;\n",
       "    }\n",
       "</style>\n",
       "<table border=\"1\" class=\"dataframe\">\n",
       "  <thead>\n",
       "    <tr style=\"text-align: right;\">\n",
       "      <th></th>\n",
       "      <th>Original Word</th>\n",
       "      <th>Lemmatized Form</th>\n",
       "      <th>Stemmed Form</th>\n",
       "    </tr>\n",
       "  </thead>\n",
       "  <tbody>\n",
       "    <tr>\n",
       "      <th>0</th>\n",
       "      <td>give</td>\n",
       "      <td>give</td>\n",
       "      <td>giv</td>\n",
       "    </tr>\n",
       "    <tr>\n",
       "      <th>1</th>\n",
       "      <td>giving</td>\n",
       "      <td>giving</td>\n",
       "      <td>giv</td>\n",
       "    </tr>\n",
       "    <tr>\n",
       "      <th>2</th>\n",
       "      <td>given</td>\n",
       "      <td>given</td>\n",
       "      <td>giv</td>\n",
       "    </tr>\n",
       "    <tr>\n",
       "      <th>3</th>\n",
       "      <td>gave</td>\n",
       "      <td>gave</td>\n",
       "      <td>gav</td>\n",
       "    </tr>\n",
       "    <tr>\n",
       "      <th>4</th>\n",
       "      <td>data</td>\n",
       "      <td>data</td>\n",
       "      <td>dat</td>\n",
       "    </tr>\n",
       "    <tr>\n",
       "      <th>5</th>\n",
       "      <td>curricula</td>\n",
       "      <td>curriculum</td>\n",
       "      <td>curricul</td>\n",
       "    </tr>\n",
       "    <tr>\n",
       "      <th>6</th>\n",
       "      <td>corpora</td>\n",
       "      <td>corpus</td>\n",
       "      <td>corpor</td>\n",
       "    </tr>\n",
       "  </tbody>\n",
       "</table>\n",
       "</div>"
      ],
      "text/plain": [
       "  Original Word Lemmatized Form Stemmed Form\n",
       "0          give            give          giv\n",
       "1        giving          giving          giv\n",
       "2         given           given          giv\n",
       "3          gave            gave          gav\n",
       "4          data            data          dat\n",
       "5     curricula      curriculum     curricul\n",
       "6       corpora          corpus       corpor"
      ]
     },
     "execution_count": 96,
     "metadata": {},
     "output_type": "execute_result"
    }
   ],
   "source": [
    "lemmatized = [Lemmatize(word) for word in words_to_lem_stem]\n",
    "stemmed = [Stemmed(word) for word in words_to_lem_stem]\n",
    "\n",
    "d1 = {\n",
    "    'Original Word': words_to_lem_stem,\n",
    "    'Lemmatized Form': lemmatized,\n",
    "    'Stemmed Form': stemmed\n",
    "}\n",
    "\n",
    "import pandas as pd\n",
    "\n",
    "df = pd.DataFrame(d1)\n",
    "df"
   ]
  },
  {
   "cell_type": "code",
   "execution_count": 97,
   "metadata": {},
   "outputs": [],
   "source": [
    "df.to_csv('datasets/lem_stem.csv')"
   ]
  },
  {
   "cell_type": "markdown",
   "metadata": {},
   "source": [
    "**Question 4**"
   ]
  },
  {
   "cell_type": "code",
   "execution_count": 98,
   "metadata": {},
   "outputs": [
    {
     "data": {
      "text/plain": [
       "['gold',\n",
       " 'chemical',\n",
       " 'element',\n",
       " 'symbol',\n",
       " 'au',\n",
       " '(',\n",
       " 'latin',\n",
       " ':',\n",
       " 'aurum',\n",
       " ')',\n",
       " 'atomic',\n",
       " 'number',\n",
       " '79',\n",
       " ',',\n",
       " 'making',\n",
       " 'one',\n",
       " 'higher',\n",
       " 'atomic',\n",
       " 'number',\n",
       " 'element',\n",
       " 'occur',\n",
       " 'naturally',\n",
       " '.',\n",
       " 'purest',\n",
       " 'form',\n",
       " ',',\n",
       " 'bright',\n",
       " ',',\n",
       " 'slightly',\n",
       " 'reddish',\n",
       " 'yellow',\n",
       " ',',\n",
       " 'dense',\n",
       " ',',\n",
       " 'soft',\n",
       " ',',\n",
       " 'malleable',\n",
       " ',',\n",
       " 'ductile',\n",
       " 'metal',\n",
       " '.',\n",
       " 'chemically',\n",
       " ',',\n",
       " 'gold',\n",
       " 'transition',\n",
       " 'metal',\n",
       " 'group',\n",
       " '11',\n",
       " 'element',\n",
       " '.',\n",
       " 'one',\n",
       " 'least',\n",
       " 'reactive',\n",
       " 'chemical',\n",
       " 'element',\n",
       " 'solid',\n",
       " 'standard',\n",
       " 'condition',\n",
       " '.',\n",
       " 'gold',\n",
       " 'often',\n",
       " 'occurs',\n",
       " 'free',\n",
       " 'elemental',\n",
       " '(',\n",
       " 'native',\n",
       " ')',\n",
       " 'form',\n",
       " ',',\n",
       " 'nugget',\n",
       " 'grain',\n",
       " ',',\n",
       " 'rock',\n",
       " ',',\n",
       " 'vein',\n",
       " ',',\n",
       " 'alluvial',\n",
       " 'deposit',\n",
       " '.',\n",
       " 'occurs',\n",
       " 'solid',\n",
       " 'solution',\n",
       " 'series',\n",
       " 'native',\n",
       " 'element',\n",
       " 'silver',\n",
       " '(',\n",
       " 'electrum',\n",
       " ')',\n",
       " 'also',\n",
       " 'naturally',\n",
       " 'alloyed',\n",
       " 'copper',\n",
       " 'palladium',\n",
       " '.',\n",
       " 'le',\n",
       " 'commonly',\n",
       " ',',\n",
       " 'occurs',\n",
       " 'mineral',\n",
       " 'gold',\n",
       " 'compound',\n",
       " ',',\n",
       " 'often',\n",
       " 'tellurium',\n",
       " '(',\n",
       " 'gold',\n",
       " 'telluride',\n",
       " ')',\n",
       " '.']"
      ]
     },
     "execution_count": 98,
     "metadata": {},
     "output_type": "execute_result"
    }
   ],
   "source": [
    "import PreProcess as pp\n",
    "\n",
    "pp_s1_tokens = pp.Tokenize(s1)\n",
    "pp_text_without_stop_words = pp.RemoveStopWords(pp_s1_tokens)\n",
    "pp_lemmatized = [pp.Lemmatize(word) for word in pp_text_without_stop_words]\n",
    "\n",
    "pp_lemmatized"
   ]
  }
 ],
 "metadata": {
  "kernelspec": {
   "display_name": "Python 3",
   "language": "python",
   "name": "python3"
  },
  "language_info": {
   "codemirror_mode": {
    "name": "ipython",
    "version": 3
   },
   "file_extension": ".py",
   "mimetype": "text/x-python",
   "name": "python",
   "nbconvert_exporter": "python",
   "pygments_lexer": "ipython3",
   "version": "3.12.1"
  }
 },
 "nbformat": 4,
 "nbformat_minor": 2
}
