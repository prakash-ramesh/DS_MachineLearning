{
 "cells": [
  {
   "cell_type": "code",
   "execution_count": 1,
   "id": "fd384180-5b56-41cf-a8fb-c601bce74a21",
   "metadata": {},
   "outputs": [
    {
     "name": "stdout",
     "output_type": "stream",
     "text": [
      "Welcome to Python Programming\n"
     ]
    }
   ],
   "source": [
    "print(\"Welcome to Python Programming\")"
   ]
  },
  {
   "cell_type": "code",
   "execution_count": 2,
   "id": "e0c99ccf-158c-4286-af51-fc107036102e",
   "metadata": {},
   "outputs": [
    {
     "name": "stdout",
     "output_type": "stream",
     "text": [
      "Try again\n"
     ]
    }
   ],
   "source": [
    "print(\"Try again\")"
   ]
  },
  {
   "cell_type": "code",
   "execution_count": 3,
   "id": "e3589a67-267a-4b6d-a303-86aa2674b2a3",
   "metadata": {},
   "outputs": [],
   "source": [
    "#This is a single line comment"
   ]
  },
  {
   "cell_type": "code",
   "execution_count": null,
   "id": "b0a076e0-6e3c-4656-bf4e-83a4cc5d3d51",
   "metadata": {},
   "outputs": [],
   "source": [
    "\"\"\"\n",
    "This is \n",
    "a \n",
    "multiline \n",
    "comment\n",
    "\"\"\""
   ]
  },
  {
   "cell_type": "code",
   "execution_count": null,
   "id": "87de4807-897a-4db3-bc65-02cf6cb9c03a",
   "metadata": {},
   "outputs": [],
   "source": [
    "#Python Data Types\n",
    "#Numerical Data: int,float\n",
    "#String: str,bool\n",
    "#Dynamic Typing"
   ]
  },
  {
   "cell_type": "code",
   "execution_count": 6,
   "id": "df4aceae-8e82-4133-9838-b178cfd5e618",
   "metadata": {},
   "outputs": [
    {
     "name": "stdout",
     "output_type": "stream",
     "text": [
      "<class 'int'>\n"
     ]
    }
   ],
   "source": [
    "age=35\n",
    "print(type(age))"
   ]
  },
  {
   "cell_type": "code",
   "execution_count": 5,
   "id": "db7cfe85-c50d-495f-b2b8-ca614cf06092",
   "metadata": {},
   "outputs": [
    {
     "name": "stdout",
     "output_type": "stream",
     "text": [
      "<class 'float'>\n"
     ]
    }
   ],
   "source": [
    "roi=14.99\n",
    "print(type(roi))"
   ]
  },
  {
   "cell_type": "code",
   "execution_count": null,
   "id": "ff8cfec8-c353-4d8e-aa66-c4e40f6b6917",
   "metadata": {},
   "outputs": [],
   "source": [
    "#int age=35---->Static Typing"
   ]
  },
  {
   "cell_type": "code",
   "execution_count": 11,
   "id": "ed9fd063-6614-48e1-854f-ce24fa753621",
   "metadata": {},
   "outputs": [
    {
     "name": "stdout",
     "output_type": "stream",
     "text": [
      "<class 'int'>\n",
      "<class 'float'>\n",
      "<class 'str'>\n",
      "<class 'bool'>\n"
     ]
    }
   ],
   "source": [
    "#Dynamic Typing\n",
    "var=100\n",
    "print(type(var))\n",
    "var=45.36\n",
    "print(type(var))\n",
    "var=\"Amit Sharma\"\n",
    "print(type(var))\n",
    "var=True\n",
    "print(type(var))"
   ]
  },
  {
   "cell_type": "code",
   "execution_count": 16,
   "id": "5805d7b4-5cd0-498b-977c-442ff3475ef5",
   "metadata": {},
   "outputs": [
    {
     "name": "stdout",
     "output_type": "stream",
     "text": [
      "The 'Sun' rises in east\n",
      "<class 'str'>\n"
     ]
    }
   ],
   "source": [
    "#Python Strings\n",
    "name=\"Amit Sharma\"\n",
    "name='Sample string'\n",
    "str=\"The 'Sun' rises in east\"\n",
    "print(str)\n",
    "print(type(name))"
   ]
  },
  {
   "cell_type": "code",
   "execution_count": null,
   "id": "b38e19ff-b767-47b9-9f7f-a03e4c5c3272",
   "metadata": {},
   "outputs": [],
   "source": [
    "article=\"\"\"This is \n",
    "an article\n",
    "about python\n",
    "\"\"\""
   ]
  },
  {
   "cell_type": "code",
   "execution_count": 24,
   "id": "c01a3b05-5d86-4943-8cda-19a462019810",
   "metadata": {},
   "outputs": [
    {
     "ename": "SyntaxError",
     "evalue": "invalid syntax (211029098.py, line 8)",
     "output_type": "error",
     "traceback": [
      "\u001b[1;36m  Cell \u001b[1;32mIn[24], line 8\u001b[1;36m\u001b[0m\n\u001b[1;33m    my var=400 #invalid\u001b[0m\n\u001b[1;37m       ^\u001b[0m\n\u001b[1;31mSyntaxError\u001b[0m\u001b[1;31m:\u001b[0m invalid syntax\n"
     ]
    }
   ],
   "source": [
    "#Rules of Variables in Python\n",
    "myvar=100\n",
    "#10myvar=200 #invalid\n",
    "myvar10=200\n",
    "my_var=300\n",
    "#my$var=600 #invalid\n",
    "#!@#$%^&*()\n",
    "my var=400 #invalid"
   ]
  },
  {
   "cell_type": "code",
   "execution_count": 28,
   "id": "18f29bc9-022c-44f6-b4a2-d5b3bbf43133",
   "metadata": {},
   "outputs": [
    {
     "name": "stdout",
     "output_type": "stream",
     "text": [
      "33.333333333333336\n",
      "33\n",
      "1\n",
      "125\n"
     ]
    }
   ],
   "source": [
    "#Operators in Python\n",
    "#Arithmetical Opr: +,-,/,*,//(floor division),%(remainder),**(power)\n",
    "var=100\n",
    "print(var/3)\n",
    "print(var//3) #Floor Div\n",
    "print(var%3)\n",
    "#x**y\n",
    "print(5**3)"
   ]
  },
  {
   "cell_type": "code",
   "execution_count": 34,
   "id": "07ab5ecc-2791-42bd-9d18-0bddd647a746",
   "metadata": {},
   "outputs": [
    {
     "name": "stdout",
     "output_type": "stream",
     "text": [
      "41\n",
      "31\n"
     ]
    }
   ],
   "source": [
    "#Assignment Operators: =,+=,-=\n",
    "age=36\n",
    "#var1=var2\n",
    "age+=5 #age=age+5\n",
    "print(age)\n",
    "age-=10\n",
    "print(age)"
   ]
  },
  {
   "cell_type": "code",
   "execution_count": 31,
   "id": "58822ae0-8627-475b-bbec-5703f8b78807",
   "metadata": {},
   "outputs": [
    {
     "name": "stdout",
     "output_type": "stream",
     "text": [
      "True\n",
      "False\n",
      "True\n"
     ]
    }
   ],
   "source": [
    "#Relational/Conditional Operators: >,<,<=,>=,==,!=(not equal)\n",
    "age=36 #Assignment\n",
    "print(age>30)\n",
    "print(age==40) #Equality\n",
    "print(age!=40) #Not Equal"
   ]
  },
  {
   "cell_type": "code",
   "execution_count": 37,
   "id": "765cec71-482b-41ed-afec-d7c4a01bf9df",
   "metadata": {},
   "outputs": [
    {
     "name": "stdout",
     "output_type": "stream",
     "text": [
      "False\n",
      "True\n"
     ]
    }
   ],
   "source": [
    "#Logical Operators: and,or,not\n",
    "age=45\n",
    "print(age>=18 and age<=40)\n",
    "print(age>=18 or age<=40)"
   ]
  },
  {
   "cell_type": "code",
   "execution_count": null,
   "id": "91b0477a-5b9e-4edf-9d9c-c988b60df1a8",
   "metadata": {},
   "outputs": [],
   "source": [
    "#Conditional/Flow control statements\n",
    "#if, elif, else\n",
    "#Loops: while, for"
   ]
  },
  {
   "cell_type": "code",
   "execution_count": 41,
   "id": "563b211e-d35c-4e16-b40b-35525a2984e5",
   "metadata": {},
   "outputs": [
    {
     "name": "stdout",
     "output_type": "stream",
     "text": [
      "num is even\n"
     ]
    }
   ],
   "source": [
    "#Check num is even or odd ?\n",
    "num=16\n",
    "if num%2==0:  #---->False\n",
    "    print(\"num is even\")\n",
    "else:\n",
    "    print(\"num is odd\")"
   ]
  },
  {
   "cell_type": "code",
   "execution_count": 43,
   "id": "90633b97-b79d-4a8a-9f0a-89efbd3679d5",
   "metadata": {},
   "outputs": [
    {
     "name": "stdin",
     "output_type": "stream",
     "text": [
      "Enter any character i\n"
     ]
    },
    {
     "name": "stdout",
     "output_type": "stream",
     "text": [
      "Character is vowel\n"
     ]
    }
   ],
   "source": [
    "#Character is vowel or consonent\n",
    "char=input(\"Enter any character\")\n",
    "if char=='a' or char=='A':\n",
    "    print(\"Character is vowel\")\n",
    "elif char=='e' or char=='E':\n",
    "    print(\"Character is vowel\")\n",
    "elif char=='i' or char=='I':\n",
    "    print(\"Character is vowel\")\n",
    "elif char=='o' or char=='O':\n",
    "    print(\"Character is vowel\")\n",
    "elif char=='u' or char=='U':\n",
    "    print(\"Character is vowel\")\n",
    "else:\n",
    "    print(\"Character is consonent\")"
   ]
  },
  {
   "cell_type": "code",
   "execution_count": 47,
   "id": "cba3ef78-fab0-4be0-8bfa-abeca49021d5",
   "metadata": {},
   "outputs": [
    {
     "name": "stdin",
     "output_type": "stream",
     "text": [
      "Enter your marks 452\n"
     ]
    },
    {
     "name": "stdout",
     "output_type": "stream",
     "text": [
      "Invalid Marks\n"
     ]
    }
   ],
   "source": [
    "#Nested statements\n",
    "#marks<80--->B\n",
    "#marks>80 and marks<100--->A\n",
    "#marks>90--->A+\n",
    "\n",
    "marks=int(input(\"Enter your marks\"))\n",
    "if marks<=80:\n",
    "    print(\"You got B Grade\")\n",
    "elif marks>80 and marks<=100:\n",
    "    if marks>=90:\n",
    "        print(\"You got A+ Grade\")\n",
    "    else:\n",
    "        print(\"You got A Grade\")\n",
    "elif marks>100:\n",
    "    print(\"Invalid Marks\")\n",
    "    dfgdfg"
   ]
  },
  {
   "cell_type": "code",
   "execution_count": 52,
   "id": "14f56b61-313e-446c-b03e-e1a3c80004bd",
   "metadata": {},
   "outputs": [
    {
     "name": "stdin",
     "output_type": "stream",
     "text": [
      "Enter your age abc\n"
     ]
    },
    {
     "name": "stdout",
     "output_type": "stream",
     "text": [
      "abc\n",
      "<class 'str'>\n"
     ]
    }
   ],
   "source": [
    "#input() function\n",
    "age=input(\"Enter your age\")  #Defualt it gives string\n",
    "print(age)\n",
    "print(type(age))"
   ]
  },
  {
   "cell_type": "code",
   "execution_count": 51,
   "id": "f99445a4-aa37-4d1b-9d3d-c69d0f59a4c1",
   "metadata": {},
   "outputs": [
    {
     "name": "stdin",
     "output_type": "stream",
     "text": [
      "Enter your age abc\n"
     ]
    },
    {
     "ename": "ValueError",
     "evalue": "invalid literal for int() with base 10: 'abc'",
     "output_type": "error",
     "traceback": [
      "\u001b[1;31m---------------------------------------------------------------------------\u001b[0m",
      "\u001b[1;31mValueError\u001b[0m                                Traceback (most recent call last)",
      "Cell \u001b[1;32mIn[51], line 2\u001b[0m\n\u001b[0;32m      1\u001b[0m \u001b[38;5;66;03m#Type castng/Type conversion: int(),float(),str()\u001b[39;00m\n\u001b[1;32m----> 2\u001b[0m age\u001b[38;5;241m=\u001b[39m\u001b[38;5;28;43mint\u001b[39;49m\u001b[43m(\u001b[49m\u001b[38;5;28;43minput\u001b[39;49m\u001b[43m(\u001b[49m\u001b[38;5;124;43m\"\u001b[39;49m\u001b[38;5;124;43mEnter your age\u001b[39;49m\u001b[38;5;124;43m\"\u001b[39;49m\u001b[43m)\u001b[49m\u001b[43m)\u001b[49m  \u001b[38;5;66;03m#Defualt it gives string\u001b[39;00m\n\u001b[0;32m      3\u001b[0m \u001b[38;5;28mprint\u001b[39m(age)\n\u001b[0;32m      4\u001b[0m \u001b[38;5;28mprint\u001b[39m(\u001b[38;5;28mtype\u001b[39m(age))\n",
      "\u001b[1;31mValueError\u001b[0m: invalid literal for int() with base 10: 'abc'"
     ]
    }
   ],
   "source": [
    "#Type castng/Type conversion: int(),float(),str()\n",
    "age=int(input(\"Enter your age\"))  #explicitly convert into desired datatype\n",
    "print(age)\n",
    "print(type(age))"
   ]
  },
  {
   "cell_type": "code",
   "execution_count": null,
   "id": "2deb5d03-91ea-4af0-b584-968a2447d4cb",
   "metadata": {},
   "outputs": [],
   "source": [
    "#eval()---->explore it your self"
   ]
  },
  {
   "cell_type": "code",
   "execution_count": 53,
   "id": "48983971-b3ac-4fd7-8d15-d2f71c8ff079",
   "metadata": {},
   "outputs": [
    {
     "name": "stdout",
     "output_type": "stream",
     "text": [
      "Hi,Amit your age is 45\n"
     ]
    }
   ],
   "source": [
    "#String Formatting/String Interpolations\n",
    "name=\"Amit\"\n",
    "age=45\n",
    "print(\"Hi,{} your age is {}\".format(name,age))"
   ]
  },
  {
   "cell_type": "code",
   "execution_count": null,
   "id": "0db51cd4-deb4-435a-8fde-e48f73dca226",
   "metadata": {},
   "outputs": [],
   "source": [
    "#Format()\n",
    "#f-string\n",
    "#module %d,%f,%s"
   ]
  },
  {
   "cell_type": "code",
   "execution_count": 56,
   "id": "f2ddaefb-ee1d-44f2-9896-f0adfd3565b1",
   "metadata": {},
   "outputs": [
    {
     "name": "stdout",
     "output_type": "stream",
     "text": [
      "Hi,Amit your age is 45\n",
      "Hi,45 your age is Amit\n",
      "Hi,Amit your age is 45\n"
     ]
    }
   ],
   "source": [
    "#{}-place holder\n",
    "name=\"Amit\"\n",
    "age=45\n",
    "print(\"Hi,{} your age is {}\".format(name,age))\n",
    "print(\"Hi,{} your age is {}\".format(age,name))\n",
    "print(\"Hi,{1} your age is {0}\".format(age,name))"
   ]
  },
  {
   "cell_type": "code",
   "execution_count": 63,
   "id": "202258e3-1219-4a26-b6af-db31e7855e19",
   "metadata": {},
   "outputs": [
    {
     "name": "stdout",
     "output_type": "stream",
     "text": [
      "Hi,Amit your age is 45 your gender is Male\n"
     ]
    }
   ],
   "source": [
    "#f-strings\n",
    "name=\"Amit\"\n",
    "age=45\n",
    "gender='Male'\n",
    "print(f\"Hi,{name} your age is {age} your gender is {gender}\")"
   ]
  },
  {
   "cell_type": "code",
   "execution_count": 62,
   "id": "8044853c-250e-4f0a-82a6-420abc2fa18a",
   "metadata": {},
   "outputs": [
    {
     "name": "stdout",
     "output_type": "stream",
     "text": [
      "Rate of intrest 14.2\n"
     ]
    }
   ],
   "source": [
    "#Module %f\n",
    "roi=14.236597845\n",
    "print(\"Rate of intrest %.1f\"%roi%)"
   ]
  },
  {
   "cell_type": "code",
   "execution_count": 69,
   "id": "f20d6231-3916-4090-8efb-a11102743046",
   "metadata": {},
   "outputs": [
    {
     "ename": "SyntaxError",
     "evalue": "invalid syntax (3520229141.py, line 3)",
     "output_type": "error",
     "traceback": [
      "\u001b[1;36m  Cell \u001b[1;32mIn[69], line 3\u001b[1;36m\u001b[0m\n\u001b[1;33m    print(\"var1 %d,var2 %d\",%(var1,var2))\u001b[0m\n\u001b[1;37m                            ^\u001b[0m\n\u001b[1;31mSyntaxError\u001b[0m\u001b[1;31m:\u001b[0m invalid syntax\n"
     ]
    }
   ],
   "source": [
    "var1=45\n",
    "var2=63\n",
    "print(\"var1 %d,var2 %d\",%(var1,var2))"
   ]
  },
  {
   "cell_type": "code",
   "execution_count": null,
   "id": "b1f9a383-61ca-426c-a4c0-723076505672",
   "metadata": {},
   "outputs": [],
   "source": [
    "#Iterative Statements (Loops): while,for"
   ]
  },
  {
   "cell_type": "code",
   "execution_count": 73,
   "id": "92825a72-ba05-47aa-b93a-15c2bc79adcf",
   "metadata": {},
   "outputs": [
    {
     "name": "stdout",
     "output_type": "stream",
     "text": [
      "[1, 2, 3, 4, 5, 6, 7, 8, 9, 10, 11, 12, 13, 14, 15, 16, 17, 18, 19, 20]\n",
      "[1, 3, 5, 7, 9, 11, 13, 15, 17, 19]\n"
     ]
    }
   ],
   "source": [
    "#range(start,stop,step)\n",
    "print(list(range(1,21)))\n",
    "print(list(range(1,21,2)))"
   ]
  },
  {
   "cell_type": "code",
   "execution_count": 76,
   "id": "9f4d95ec-939e-46c7-b5b3-afd77de79204",
   "metadata": {},
   "outputs": [
    {
     "name": "stdin",
     "output_type": "stream",
     "text": [
      "Enter any number 16\n"
     ]
    },
    {
     "name": "stdout",
     "output_type": "stream",
     "text": [
      "16*1=16\n",
      "16*2=32\n",
      "16*3=48\n",
      "16*4=64\n",
      "16*5=80\n",
      "16*6=96\n",
      "16*7=112\n",
      "16*8=128\n",
      "16*9=144\n",
      "16*10=160\n",
      "Loop ends\n"
     ]
    }
   ],
   "source": [
    "#Print table of given number\n",
    "num=int(input(\"Enter any number\"))\n",
    "for n in range(1,11):  #[1,2,3,4,5....10]\n",
    "    print(f\"{num}*{n}={num*n}\")\n",
    "else:\n",
    "    print(\"Loop ends\")"
   ]
  },
  {
   "cell_type": "code",
   "execution_count": 78,
   "id": "fc0621c6-3e00-4113-9f69-a0becc3f6dbb",
   "metadata": {},
   "outputs": [
    {
     "name": "stdin",
     "output_type": "stream",
     "text": [
      "Enter any number 15\n"
     ]
    },
    {
     "name": "stdout",
     "output_type": "stream",
     "text": [
      "15*1=15\n",
      "15*2=30\n",
      "15*3=45\n",
      "15*4=60\n",
      "15*5=75\n",
      "15*6=90\n",
      "15*7=105\n",
      "15*8=120\n",
      "15*9=135\n",
      "15*10=150\n",
      "Loop Ends\n"
     ]
    }
   ],
   "source": [
    "#Print table of given number: while\n",
    "num=int(input(\"Enter any number\"))\n",
    "n=1\n",
    "while n<=10:\n",
    "    print(f\"{num}*{n}={num*n}\")\n",
    "    n+=1\n",
    "else:\n",
    "    print(\"Loop Ends\")"
   ]
  },
  {
   "cell_type": "code",
   "execution_count": 81,
   "id": "ad165852-2b0c-4ed4-9794-6e29316f3d11",
   "metadata": {},
   "outputs": [
    {
     "name": "stdin",
     "output_type": "stream",
     "text": [
      "Enter number to search in list  100\n"
     ]
    },
    {
     "name": "stdout",
     "output_type": "stream",
     "text": [
      "14\n",
      "26\n",
      "36\n",
      "98\n",
      "78\n",
      "45\n",
      "12\n",
      "36\n",
      "21\n",
      "Item not found\n"
     ]
    }
   ],
   "source": [
    "#Jump Statements: break, continue, pass\n",
    "lst=[14,26,36,98,78,45,12,36,21] #....1000\n",
    "num=int(input(\"Enter number to search in list \"))\n",
    "for item in lst:\n",
    "    print(item)\n",
    "    if item==num:\n",
    "        print(\"Item found\")\n",
    "        break\n",
    "else:\n",
    "    print(\"Item not found\")\n",
    "        "
   ]
  },
  {
   "cell_type": "code",
   "execution_count": 83,
   "id": "1bb64f54-2331-46a4-a261-30ad528254ea",
   "metadata": {},
   "outputs": [
    {
     "name": "stdin",
     "output_type": "stream",
     "text": [
      "Enter number to search in list  78\n"
     ]
    },
    {
     "name": "stdout",
     "output_type": "stream",
     "text": [
      "14\n",
      "26\n",
      "36\n",
      "98\n",
      "78\n",
      "Item found\n",
      "45\n",
      "12\n",
      "36\n",
      "78\n",
      "Item found\n",
      "21\n",
      "36\n",
      "Item not found\n"
     ]
    }
   ],
   "source": [
    "lst=[14,26,36,98,78,45,12,36,78,21,36] #....1000\n",
    "num=int(input(\"Enter number to search in list \"))\n",
    "for item in lst:\n",
    "    print(item)\n",
    "    if item==num:\n",
    "        print(\"Item found\")\n",
    "else:\n",
    "    print(\"Item not found\")\n",
    "        "
   ]
  },
  {
   "cell_type": "code",
   "execution_count": null,
   "id": "71d77a94-87cb-4d34-9a29-720b1ec11a48",
   "metadata": {},
   "outputs": [],
   "source": []
  },
  {
   "cell_type": "code",
   "execution_count": null,
   "id": "4a46be19-31c5-4cd6-9d56-13668b1abb7a",
   "metadata": {},
   "outputs": [],
   "source": []
  }
 ],
 "metadata": {
  "kernelspec": {
   "display_name": "Python 3 (ipykernel)",
   "language": "python",
   "name": "python3"
  },
  "language_info": {
   "codemirror_mode": {
    "name": "ipython",
    "version": 3
   },
   "file_extension": ".py",
   "mimetype": "text/x-python",
   "name": "python",
   "nbconvert_exporter": "python",
   "pygments_lexer": "ipython3",
   "version": "3.12.1"
  }
 },
 "nbformat": 4,
 "nbformat_minor": 5
}
