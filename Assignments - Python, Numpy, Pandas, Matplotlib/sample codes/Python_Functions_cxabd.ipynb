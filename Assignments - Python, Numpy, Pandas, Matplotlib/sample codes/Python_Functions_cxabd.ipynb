{
 "cells": [
  {
   "cell_type": "code",
   "execution_count": 2,
   "id": "cdadc262-1c11-4eda-9fc2-70b51303375a",
   "metadata": {},
   "outputs": [],
   "source": [
    "#Define function\n",
    "def greet():\n",
    "    print(\"Hello, inside the function\")"
   ]
  },
  {
   "cell_type": "code",
   "execution_count": 6,
   "id": "2c8d6c7a-7649-4c5a-a9d9-89cb5f2b8b2d",
   "metadata": {},
   "outputs": [
    {
     "name": "stdout",
     "output_type": "stream",
     "text": [
      "Hello, inside the function\n",
      "Hello, inside the function\n",
      "Hello, inside the function\n"
     ]
    }
   ],
   "source": [
    "#Call/invoke function\n",
    "greet()\n",
    "greet()\n",
    "greet()\n",
    "#Write once-use Many"
   ]
  },
  {
   "cell_type": "code",
   "execution_count": 9,
   "id": "45c8c0b9-ed03-4e0d-8b29-38813ba569fa",
   "metadata": {},
   "outputs": [
    {
     "name": "stdout",
     "output_type": "stream",
     "text": [
      "Output is  81\n",
      "Output is  4176\n"
     ]
    }
   ],
   "source": [
    "#Python Function Arguments/Parameters/Attributes\n",
    "def add(num1,num2):\n",
    "    result=num1+num2\n",
    "    print(\"Output is \",result)\n",
    "\n",
    "add(45,36)\n",
    "add(478,3698)"
   ]
  },
  {
   "cell_type": "code",
   "execution_count": 12,
   "id": "a4e23c42-c2e4-418d-8c79-e1c10bbc00df",
   "metadata": {},
   "outputs": [
    {
     "name": "stdout",
     "output_type": "stream",
     "text": [
      "81\n"
     ]
    }
   ],
   "source": [
    "#Return statment\n",
    "def add(num1,num2):\n",
    "    result=num1+num2\n",
    "    return result\n",
    "\n",
    "out=add(45,36)\n",
    "print(out)"
   ]
  },
  {
   "cell_type": "code",
   "execution_count": null,
   "id": "8f20e265-e0eb-463a-819c-35587585c6e5",
   "metadata": {},
   "outputs": [],
   "source": [
    "#Types of Arguments in Python Functions\n",
    "\"\"\"\n",
    "1.Required Positional Arguments\n",
    "2.Keyword Args\n",
    "3.Arbitary Args\n",
    "4.Default Args\n",
    "5.Key-Arbitary Args\n",
    "\"\"\""
   ]
  },
  {
   "cell_type": "code",
   "execution_count": 17,
   "id": "672a28c5-fe85-4f9e-81e3-39c4e65fce4a",
   "metadata": {},
   "outputs": [
    {
     "name": "stdin",
     "output_type": "stream",
     "text": [
      "Enter your name: Amit\n",
      "Enter your age: 36\n"
     ]
    },
    {
     "name": "stdout",
     "output_type": "stream",
     "text": [
      "Hi,Amit your age is 36\n",
      "Hi,36 your age is Amit\n"
     ]
    }
   ],
   "source": [
    "#1.Required Positional Arguments\n",
    "uname=input(\"Enter your name:\")\n",
    "uage=int(input(\"Enter your age:\"))\n",
    "\n",
    "def func1(name,age):\n",
    "    print(f\"Hi,{name} your age is {age}\")\n",
    "\n",
    "func1(uname,uage)\n",
    "func1(uage,uname)"
   ]
  },
  {
   "cell_type": "code",
   "execution_count": 19,
   "id": "edb77386-115a-4f41-8472-1a5c40a882f7",
   "metadata": {},
   "outputs": [
    {
     "name": "stdin",
     "output_type": "stream",
     "text": [
      "Enter your name: Amit\n",
      "Enter your age: 36\n"
     ]
    },
    {
     "name": "stdout",
     "output_type": "stream",
     "text": [
      "Hi,Amit your age is 36\n",
      "Hi,Amit your age is 36\n"
     ]
    }
   ],
   "source": [
    "#2.Keyword Arguments\n",
    "uname=input(\"Enter your name:\")\n",
    "uage=int(input(\"Enter your age:\"))\n",
    "\n",
    "def func2(name,age):\n",
    "    print(f\"Hi,{name} your age is {age}\")\n",
    "\n",
    "func2(name=uname,age=uage)\n",
    "func2(age=uage,name=uname)"
   ]
  },
  {
   "cell_type": "code",
   "execution_count": 21,
   "id": "4dc1bb6a-7200-408a-b181-404f72c131b1",
   "metadata": {},
   "outputs": [
    {
     "name": "stdout",
     "output_type": "stream",
     "text": [
      "Hi John\n",
      "Hi Raghav\n",
      "Hi Amit\n",
      "Hi Tarun\n",
      "Hi Joy\n"
     ]
    }
   ],
   "source": [
    "#3.Arbitary Arguments\n",
    "def func3(*names):\n",
    "    for name in names:\n",
    "        print(\"Hi\",name)\n",
    "\n",
    "func3(\"John\",\"Raghav\",\"Amit\",\"Tarun\",\"Joy\")"
   ]
  },
  {
   "cell_type": "code",
   "execution_count": 22,
   "id": "1ffa85d1-7e1e-4c62-8d2d-0165c0471d81",
   "metadata": {},
   "outputs": [
    {
     "name": "stdout",
     "output_type": "stream",
     "text": [
      "Hi John\n",
      "Hi Raghav\n",
      "Hi Amit\n",
      "Hi Tarun\n",
      "Hi Joy\n"
     ]
    }
   ],
   "source": [
    "def func3(names):\n",
    "    for name in names:\n",
    "        print(\"Hi\",name)\n",
    "\n",
    "func3([\"John\",\"Raghav\",\"Amit\",\"Tarun\",\"Joy\"])"
   ]
  },
  {
   "cell_type": "code",
   "execution_count": 24,
   "id": "567958b4-d3e9-4ab1-90fb-1f37ba21527a",
   "metadata": {},
   "outputs": [
    {
     "name": "stdout",
     "output_type": "stream",
     "text": [
      "Hi,Amit age 36\n",
      "Hi,Joy age 20\n"
     ]
    }
   ],
   "source": [
    "#4.Default Arguments\n",
    "def func4(name,age=20): #Default Values\n",
    "    print(f\"Hi,{name} age {age}\")\n",
    "\n",
    "func4(\"Amit\",36)\n",
    "func4(\"Joy\")"
   ]
  },
  {
   "cell_type": "code",
   "execution_count": 25,
   "id": "2c8b4026-c362-4b58-bdf6-7b782ddf8fc7",
   "metadata": {},
   "outputs": [
    {
     "name": "stdout",
     "output_type": "stream",
     "text": [
      "10\n",
      "20\n",
      "(30, 40)\n",
      "{'name': 'Abhijit', 'country': 'India'}\n"
     ]
    }
   ],
   "source": [
    "#5.Key-Arbitary Arguments\n",
    "def func7(arg1,arg2,*arg3,**keyargs):\n",
    "    print(arg1)\n",
    "    print(arg2)\n",
    "    print(arg3)\n",
    "    print(keyargs)\n",
    "    \n",
    "func7(10,20,30,40,name='Abhijit',country='India')"
   ]
  },
  {
   "cell_type": "code",
   "execution_count": 27,
   "id": "5ea7d70f-7a83-440b-8106-9826aa8b7dfd",
   "metadata": {},
   "outputs": [
    {
     "name": "stdout",
     "output_type": "stream",
     "text": [
      "200\n",
      "140713658765976\n",
      "100\n",
      "140713658762776\n"
     ]
    }
   ],
   "source": [
    "#Scope of the Variables: global,local\n",
    "# Local vs Global Variable\n",
    "\n",
    "a=100  # This is global variable a\n",
    "\n",
    "def func_8():\n",
    "    b=200   # This is local variable a\n",
    "    print(b)\n",
    "    print(id(b))  # This is the memory address of local variable a\n",
    "\n",
    "func_8()\n",
    "#print(b) #accessing local variable out side the function\n",
    "print(a)\n",
    "print(id(a)) # This is the memory address of global variable a"
   ]
  },
  {
   "cell_type": "code",
   "execution_count": 28,
   "id": "8dd932c3-bdd9-4fbc-87b7-0763c43ec2da",
   "metadata": {},
   "outputs": [
    {
     "name": "stdout",
     "output_type": "stream",
     "text": [
      "200\n",
      "140713658765976\n",
      "200\n",
      "140713658765976\n"
     ]
    }
   ],
   "source": [
    "a=100  # This is global variable a\n",
    "def func_8():\n",
    "    global a\n",
    "    a=200   # This is now global variable a\n",
    "    print(a)\n",
    "    print(id(a))  # This is the memory address of global variable a\n",
    "\n",
    "func_8()\n",
    "\n",
    "print(a)\n",
    "print(id(a)) # This is the memory address of global variable a"
   ]
  },
  {
   "cell_type": "code",
   "execution_count": 29,
   "id": "efab07c7-8a72-4c5c-96c8-22f1d7e83859",
   "metadata": {},
   "outputs": [
    {
     "name": "stdout",
     "output_type": "stream",
     "text": [
      "200\n",
      "140713658765976\n",
      "100\n",
      "140713658762776\n"
     ]
    }
   ],
   "source": [
    "a=100  # This is global variable a\n",
    "def func_8():\n",
    "    a=200   # This is now local variable a\n",
    "    print(a)\n",
    "    print(id(a))  # This is the memory address of global variable a\n",
    "\n",
    "func_8()\n",
    "\n",
    "print(a)\n",
    "print(id(a)) # This is the memory address of global variable a"
   ]
  },
  {
   "cell_type": "code",
   "execution_count": 30,
   "id": "db1b0d55-45fe-421f-adce-2c4bb8374cd5",
   "metadata": {},
   "outputs": [
    {
     "name": "stdout",
     "output_type": "stream",
     "text": [
      "123\n"
     ]
    }
   ],
   "source": [
    "#Python Lambda Functions:signle line body,No name(ananomous function),default return\n",
    "#Syntax: lambda arguments:expression(arg_values)\n",
    "def add(num1,num2):\n",
    "    result=num1+num2\n",
    "    return result\n",
    "\n",
    "var=lambda num1,num2:num1+num2\n",
    "print(var(45,78))"
   ]
  },
  {
   "cell_type": "code",
   "execution_count": 31,
   "id": "56b3d0d6-bc71-4e37-8289-8f88f9e5e162",
   "metadata": {},
   "outputs": [
    {
     "name": "stdout",
     "output_type": "stream",
     "text": [
      "[78, 96, 32, 84, 98, 78]\n"
     ]
    }
   ],
   "source": [
    "#Advanced Functions: Filter(),map(),Reduce()\n",
    "#Segrate even values from a list\n",
    "\n",
    "def even_lst(lst):\n",
    "    even=[]\n",
    "    for i in lst:\n",
    "        if i%2==0:\n",
    "            even.append(i)\n",
    "    return even\n",
    "\n",
    "print(even_lst([78,96,32,57,84,51,263,98,78,17,19]))\n"
   ]
  },
  {
   "cell_type": "code",
   "execution_count": 34,
   "id": "b537f2a0-d418-4b95-960f-0a64f464969f",
   "metadata": {},
   "outputs": [
    {
     "name": "stdout",
     "output_type": "stream",
     "text": [
      "[78, 96, 32, 84, 98, 78]\n",
      "[57, 51, 263, 17, 19]\n"
     ]
    }
   ],
   "source": [
    "#Filter Function filter(lambda exp,collection)\n",
    "lst=[78,96,32,57,84,51,263,98,78,17,19]\n",
    "even=list(filter(lambda i:i%2==0,lst))\n",
    "odd=list(filter(lambda i:i%2!=0,lst))\n",
    "print(even)\n",
    "print(odd)"
   ]
  },
  {
   "cell_type": "code",
   "execution_count": 35,
   "id": "d3ee8dfe-a54a-469d-aa50-9020862a5846",
   "metadata": {},
   "outputs": [
    {
     "name": "stdout",
     "output_type": "stream",
     "text": [
      "[1728, 46656, 941192, 421875, 91125, 1728]\n"
     ]
    }
   ],
   "source": [
    "#Map Function\n",
    "lst=[12,36,98,75,45,12]\n",
    "cube=list(map(lambda i:i**3,lst))\n",
    "print(cube)"
   ]
  },
  {
   "cell_type": "code",
   "execution_count": 37,
   "id": "d935f65b-acce-4772-9ac8-681cb94945fd",
   "metadata": {},
   "outputs": [
    {
     "name": "stdout",
     "output_type": "stream",
     "text": [
      "Total Sales of the week: 26469\n"
     ]
    }
   ],
   "source": [
    "#Reduce Function(Aggregations)\n",
    "from functools import reduce\n",
    "sales=[4500,2563,7854,3698,7854]\n",
    "total_sales=reduce(lambda x,y:x+y,sales)\n",
    "print(\"Total Sales of the week:\",total_sales)"
   ]
  },
  {
   "cell_type": "code",
   "execution_count": null,
   "id": "e0af22a7-fc40-457e-84c1-b0c5b0ecba1d",
   "metadata": {},
   "outputs": [],
   "source": []
  }
 ],
 "metadata": {
  "kernelspec": {
   "display_name": "Python 3 (ipykernel)",
   "language": "python",
   "name": "python3"
  },
  "language_info": {
   "codemirror_mode": {
    "name": "ipython",
    "version": 3
   },
   "file_extension": ".py",
   "mimetype": "text/x-python",
   "name": "python",
   "nbconvert_exporter": "python",
   "pygments_lexer": "ipython3",
   "version": "3.12.1"
  }
 },
 "nbformat": 4,
 "nbformat_minor": 5
}
