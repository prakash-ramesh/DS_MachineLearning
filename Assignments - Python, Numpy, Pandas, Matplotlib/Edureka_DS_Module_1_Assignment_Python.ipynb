{
  "nbformat": 4,
  "nbformat_minor": 0,
  "metadata": {
    "colab": {
      "provenance": []
    },
    "kernelspec": {
      "name": "python3",
      "display_name": "Python 3"
    },
    "language_info": {
      "name": "python"
    }
  },
  "cells": [
    {
      "cell_type": "markdown",
      "source": [
        "```\n",
        "1.Writeaprogramthatwillfindfactorsofthe givennumberandfindwhetherthe factor is even or odd.Hint:UseLoopwithif-elsestatements\n",
        "```"
      ],
      "metadata": {
        "id": "00SqOfEKUAZJ"
      }
    },
    {
      "cell_type": "code",
      "execution_count": 1,
      "metadata": {
        "colab": {
          "base_uri": "https://localhost:8080/"
        },
        "id": "am4Tni7wT41X",
        "outputId": "d381185d-a85c-437a-ea67-1bbc02a14dba"
      },
      "outputs": [
        {
          "output_type": "stream",
          "name": "stdout",
          "text": [
            "Enter a number: 100\n",
            "The factor 1 of the given number 100 is odd.\n",
            "The factor 2 of the given number 100 is even.\n",
            "The factor 4 of the given number 100 is even.\n",
            "The factor 5 of the given number 100 is odd.\n",
            "The factor 10 of the given number 100 is even.\n",
            "The factor 20 of the given number 100 is even.\n",
            "The factor 25 of the given number 100 is odd.\n",
            "The factor 50 of the given number 100 is even.\n",
            "The factor 100 of the given number 100 is even.\n"
          ]
        }
      ],
      "source": [
        "num = int(input('Enter a number: '))\n",
        "for i in range(1,num+1):\n",
        "    if num%i == 0:\n",
        "        if i%2 == 0:\n",
        "            print(f'The factor {i} of the given number {num} is even.')\n",
        "        else:\n",
        "            print(f'The factor {i} of the given number {num} is odd.')"
      ]
    },
    {
      "cell_type": "markdown",
      "source": [
        "```\n",
        "2. Write a code that accepts a sequence of words as input and prints the words in a sequence after sorting them alphabetically.\n",
        "Hint:In the caseofinputdatabeingsuppliedtothequestion,itshouldbeassumedto be a console input.\n",
        "```"
      ],
      "metadata": {
        "id": "yyiDHVNtUn52"
      }
    },
    {
      "cell_type": "code",
      "source": [
        "phrase = input('Enter a phrase: ')\n",
        "splitted = phrase.lower().split()\n",
        "splitted.sort()\n",
        "print(splitted, '\\n')\n",
        "print('Sorted sequence of words.')\n",
        "for s in splitted:\n",
        "    print(s)"
      ],
      "metadata": {
        "colab": {
          "base_uri": "https://localhost:8080/"
        },
        "id": "zQb8ONorUiss",
        "outputId": "2de35b46-b9bf-4fb0-f565-7e65917f396f"
      },
      "execution_count": 3,
      "outputs": [
        {
          "output_type": "stream",
          "name": "stdout",
          "text": [
            "Enter a phrase: my name is abc\n",
            "['abc', 'is', 'my', 'name'] \n",
            "\n",
            "Sorted sequence of words.\n",
            "abc\n",
            "is\n",
            "my\n",
            "name\n"
          ]
        }
      ]
    },
    {
      "cell_type": "markdown",
      "source": [
        "```\n",
        "3. Write a program,which will find all the numbers between 1000 and 3000(both included) such that each digit of a number is an even number.\n",
        "The numbers obtained should be printed in a comma-separatedsequence on a single line.\n",
        "```"
      ],
      "metadata": {
        "id": "ql-rJpCPV06-"
      }
    },
    {
      "cell_type": "code",
      "source": [
        "print('Numbers between 1000 and 3000 (both included) such that each digit of a number is an even number.')\n",
        "\n",
        "all_even = []\n",
        "\n",
        "for num in range(1000, 3001):\n",
        "    s3 = str(num)\n",
        "    all_digits_are_even = True\n",
        "    for num1 in s3:\n",
        "        if int(num1)%2 != 0:\n",
        "            all_digits_are_even = False\n",
        "    if all_digits_are_even == True:\n",
        "        all_even.append(num)\n",
        "\n",
        "print(all_even)"
      ],
      "metadata": {
        "colab": {
          "base_uri": "https://localhost:8080/"
        },
        "id": "yn3EDMdmVL0z",
        "outputId": "d51c076b-3332-4e5c-92e0-ccb95d02a7e5"
      },
      "execution_count": 6,
      "outputs": [
        {
          "output_type": "stream",
          "name": "stdout",
          "text": [
            "Numbers between 1000 and 3000 (both included) such that each digit of a number is an even number.\n",
            "[2000, 2002, 2004, 2006, 2008, 2020, 2022, 2024, 2026, 2028, 2040, 2042, 2044, 2046, 2048, 2060, 2062, 2064, 2066, 2068, 2080, 2082, 2084, 2086, 2088, 2200, 2202, 2204, 2206, 2208, 2220, 2222, 2224, 2226, 2228, 2240, 2242, 2244, 2246, 2248, 2260, 2262, 2264, 2266, 2268, 2280, 2282, 2284, 2286, 2288, 2400, 2402, 2404, 2406, 2408, 2420, 2422, 2424, 2426, 2428, 2440, 2442, 2444, 2446, 2448, 2460, 2462, 2464, 2466, 2468, 2480, 2482, 2484, 2486, 2488, 2600, 2602, 2604, 2606, 2608, 2620, 2622, 2624, 2626, 2628, 2640, 2642, 2644, 2646, 2648, 2660, 2662, 2664, 2666, 2668, 2680, 2682, 2684, 2686, 2688, 2800, 2802, 2804, 2806, 2808, 2820, 2822, 2824, 2826, 2828, 2840, 2842, 2844, 2846, 2848, 2860, 2862, 2864, 2866, 2868, 2880, 2882, 2884, 2886, 2888]\n"
          ]
        }
      ]
    },
    {
      "cell_type": "markdown",
      "source": [
        "```\n",
        "4. Write a program that accepts a sentence and calculates the number ofletters and digits.\n",
        "Supposeiftheenteredstringis:Python0325 Then the output will be:LETTERS:6 DIGITS:4\n",
        "```"
      ],
      "metadata": {
        "id": "ryhYdD2xXWkj"
      }
    },
    {
      "cell_type": "code",
      "source": [
        "s4 = input('Enter a string: ')\n",
        "\n",
        "digit_count = 0\n",
        "letter_count = 0\n",
        "\n",
        "for c in s4:\n",
        "    if c.isdigit() == True:\n",
        "        digit_count += 1\n",
        "    if c.isalpha() == True:\n",
        "        letter_count += 1\n",
        "\n",
        "print('LETTERS:-', letter_count)\n",
        "print('DIGITS:-', digit_count)"
      ],
      "metadata": {
        "colab": {
          "base_uri": "https://localhost:8080/"
        },
        "id": "3aTj0L5_WetK",
        "outputId": "a4943146-d988-4ca0-b620-955f68163653"
      },
      "execution_count": 7,
      "outputs": [
        {
          "output_type": "stream",
          "name": "stdout",
          "text": [
            "Enter a string: Python0325\n",
            "LETTERS:- 6\n",
            "DIGITS:- 4\n"
          ]
        }
      ]
    },
    {
      "cell_type": "markdown",
      "source": [
        "```\n",
        "5. Design a code that will find whether the given number is a Palindrome number or not\n",
        "```"
      ],
      "metadata": {
        "id": "YQiMyX7xXpCC"
      }
    },
    {
      "cell_type": "code",
      "source": [
        "cnt = 0\n",
        "while cnt < 2:\n",
        "    cnt += 1\n",
        "    num = input('Enter a number: ')\n",
        "\n",
        "    if num == num[::-1]:\n",
        "        print('The given number is a Palindrome.')\n",
        "    else:\n",
        "        print('The given number is NOT a Palindrome.')"
      ],
      "metadata": {
        "colab": {
          "base_uri": "https://localhost:8080/"
        },
        "id": "bxKxttqiXlAT",
        "outputId": "46aabe05-0672-4d30-a50d-aedaceea6dca"
      },
      "execution_count": 8,
      "outputs": [
        {
          "output_type": "stream",
          "name": "stdout",
          "text": [
            "Enter a number: 1234\n",
            "The given number is NOT a Palindrome.\n",
            "Enter a number: 4114\n",
            "The given number is a Palindrome.\n"
          ]
        }
      ]
    },
    {
      "cell_type": "code",
      "source": [],
      "metadata": {
        "id": "0ibgTMcxX2p2"
      },
      "execution_count": null,
      "outputs": []
    }
  ]
}