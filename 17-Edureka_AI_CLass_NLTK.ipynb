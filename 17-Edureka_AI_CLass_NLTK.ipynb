{
  "cells": [
    {
      "cell_type": "code",
      "execution_count": 3,
      "metadata": {
        "id": "-ba9dvkMCrU0"
      },
      "outputs": [],
      "source": [
        "import nltk\n",
        "import nltk.corpus"
      ]
    },
    {
      "cell_type": "code",
      "execution_count": 4,
      "metadata": {
        "colab": {
          "base_uri": "https://localhost:8080/"
        },
        "id": "5ENgwLIUDABt",
        "outputId": "73eb9e11-cc26-4228-a7ca-811f9eead3eb"
      },
      "outputs": [
        {
          "name": "stderr",
          "output_type": "stream",
          "text": [
            "[nltk_data] Downloading package punkt to\n",
            "[nltk_data]     C:\\Users\\praka\\AppData\\Roaming\\nltk_data...\n",
            "[nltk_data]   Unzipping tokenizers\\punkt.zip.\n"
          ]
        },
        {
          "data": {
            "text/plain": [
              "True"
            ]
          },
          "execution_count": 4,
          "metadata": {},
          "output_type": "execute_result"
        }
      ],
      "source": [
        "nltk.download('punkt')"
      ]
    },
    {
      "cell_type": "code",
      "execution_count": 5,
      "metadata": {
        "id": "I2s3JMTa-wSv"
      },
      "outputs": [],
      "source": [
        "s1 = '''Gold is a chemical element with symbol Au (from Latin: aurum) and atomic number 79, making it one of the higher atomic number elements that occur naturally.\n",
        "In its purest form, it is a bright, slightly reddish yellow, dense, soft, malleable, and ductile metal.\n",
        "Chemically, gold is a transition metal and a group 11 element. It is one of the least reactive chemical elements and is\n",
        "solid under standard conditions.\n",
        "Gold often occurs in free elemental (native) form, as nuggets or grains, in rocks, in veins, and in alluvial deposits.\n",
        "It occurs in a solid solution series with the native element silver (as electrum) and also naturally alloyed with copper and palladium.\n",
        "Less commonly, it occurs in minerals as gold compounds, often with tellurium (gold tellurides).'''"
      ]
    },
    {
      "cell_type": "markdown",
      "metadata": {
        "id": "j0fIaIjOGN8M"
      },
      "source": [
        "**Tokenization**"
      ]
    },
    {
      "cell_type": "code",
      "execution_count": 6,
      "metadata": {
        "colab": {
          "base_uri": "https://localhost:8080/"
        },
        "id": "RT0zNLO6CvP8",
        "outputId": "1c52a38d-ed24-4482-c4ee-c2be826b4f30"
      },
      "outputs": [
        {
          "name": "stdout",
          "output_type": "stream",
          "text": [
            "['Gold', 'is', 'a', 'chemical', 'element', 'with', 'symbol', 'Au', '(', 'from', 'Latin', ':', 'aurum', ')', 'and', 'atomic', 'number', '79', ',', 'making', 'it', 'one', 'of', 'the', 'higher', 'atomic', 'number', 'elements', 'that', 'occur', 'naturally', '.', 'In', 'its', 'purest', 'form', ',', 'it', 'is', 'a', 'bright', ',', 'slightly', 'reddish', 'yellow', ',', 'dense', ',', 'soft', ',', 'malleable', ',', 'and', 'ductile', 'metal', '.', 'Chemically', ',', 'gold', 'is', 'a', 'transition', 'metal', 'and', 'a', 'group', '11', 'element', '.', 'It', 'is', 'one', 'of', 'the', 'least', 'reactive', 'chemical', 'elements', 'and', 'is', 'solid', 'under', 'standard', 'conditions', '.', 'Gold', 'often', 'occurs', 'in', 'free', 'elemental', '(', 'native', ')', 'form', ',', 'as', 'nuggets', 'or', 'grains', ',', 'in', 'rocks', ',', 'in', 'veins', ',', 'and', 'in', 'alluvial', 'deposits', '.', 'It', 'occurs', 'in', 'a', 'solid', 'solution', 'series', 'with', 'the', 'native', 'element', 'silver', '(', 'as', 'electrum', ')', 'and', 'also', 'naturally', 'alloyed', 'with', 'copper', 'and', 'palladium', '.', 'Less', 'commonly', ',', 'it', 'occurs', 'in', 'minerals', 'as', 'gold', 'compounds', ',', 'often', 'with', 'tellurium', '(', 'gold', 'tellurides', ')', '.']\n"
          ]
        }
      ],
      "source": [
        "from nltk.tokenize import word_tokenize\n",
        "s1_tokens = word_tokenize(s1)\n",
        "print(s1_tokens)"
      ]
    },
    {
      "cell_type": "code",
      "execution_count": 7,
      "metadata": {
        "colab": {
          "base_uri": "https://localhost:8080/"
        },
        "id": "frQE_VGbDKkc",
        "outputId": "b081df7d-5488-4156-caa6-beac8ffd4cc8"
      },
      "outputs": [
        {
          "data": {
            "text/plain": [
              "156"
            ]
          },
          "execution_count": 7,
          "metadata": {},
          "output_type": "execute_result"
        }
      ],
      "source": [
        "len(s1_tokens)"
      ]
    },
    {
      "cell_type": "markdown",
      "metadata": {
        "id": "ESbWnkYeGGTU"
      },
      "source": [
        "**Frequency of words**"
      ]
    },
    {
      "cell_type": "code",
      "execution_count": 8,
      "metadata": {
        "colab": {
          "base_uri": "https://localhost:8080/"
        },
        "id": "LOKRGpoXC70-",
        "outputId": "93bc2116-22f3-433e-819d-42d71fc36f29"
      },
      "outputs": [
        {
          "name": "stdout",
          "output_type": "stream",
          "text": [
            "5 80 5\n"
          ]
        }
      ],
      "source": [
        "from nltk.probability import FreqDist\n",
        "fdist = FreqDist()\n",
        "\n",
        "for word in s1_tokens:\n",
        "    fdist[word.lower()] += 1\n",
        "\n",
        "print(fdist['gold'], len(fdist), fdist['a'])"
      ]
    },
    {
      "cell_type": "code",
      "execution_count": 9,
      "metadata": {
        "colab": {
          "base_uri": "https://localhost:8080/"
        },
        "id": "r5P5vmCADn1j",
        "outputId": "4f326c51-c642-4b89-ed08-7c5b98ba750f"
      },
      "outputs": [
        {
          "data": {
            "text/plain": [
              "[(',', 14), ('and', 7), ('.', 7), ('in', 7), ('gold', 5)]"
            ]
          },
          "execution_count": 9,
          "metadata": {},
          "output_type": "execute_result"
        }
      ],
      "source": [
        "fdist.most_common(5)"
      ]
    },
    {
      "cell_type": "markdown",
      "metadata": {
        "id": "yG773B3iF4p3"
      },
      "source": [
        "**ngrams - tokens of n consecutive words**"
      ]
    },
    {
      "cell_type": "code",
      "execution_count": 10,
      "metadata": {
        "colab": {
          "base_uri": "https://localhost:8080/"
        },
        "id": "qbohGuaUEKYD",
        "outputId": "e6755e52-c09d-401b-9baf-ed57eb653ffa"
      },
      "outputs": [
        {
          "name": "stdout",
          "output_type": "stream",
          "text": [
            "[('The', 'Mona'), ('Mona', 'Lisa'), ('Lisa', 'is'), ('is', 'a'), ('a', 'half'), ('half', 'length'), ('length', 'portrait'), ('portrait', 'painting'), ('painting', 'by'), ('by', 'the'), ('the', 'Italian'), ('Italian', 'Renaissance'), ('Renaissance', 'artist'), ('artist', 'Leonardo'), ('Leonardo', 'da'), ('da', 'Vinci')]\n"
          ]
        }
      ],
      "source": [
        "from nltk.util import ngrams, bigrams, trigrams\n",
        "s2 = \"The Mona Lisa is a half length portrait painting by the Italian Renaissance artist Leonardo da Vinci\"\n",
        "s2_tokens = word_tokenize(s2)\n",
        "print(list(ngrams(s2_tokens, 2)))"
      ]
    },
    {
      "cell_type": "markdown",
      "metadata": {
        "id": "gf7WiidMGcDh"
      },
      "source": [
        "**Stemming**"
      ]
    },
    {
      "cell_type": "code",
      "execution_count": 11,
      "metadata": {
        "colab": {
          "base_uri": "https://localhost:8080/"
        },
        "id": "fAdjFQ9HGdn0",
        "outputId": "21e2672c-c39c-43ce-8c56-39555caf07e8"
      },
      "outputs": [
        {
          "name": "stdout",
          "output_type": "stream",
          "text": [
            "give --> give giv give\n",
            "giving --> give giv give\n",
            "given --> given giv given\n",
            "gave --> gave gav gave\n",
            "data --> data dat data\n",
            "curricula --> curricula curricul curricula\n",
            "corpora --> corpora corpor corpora\n"
          ]
        }
      ],
      "source": [
        "from nltk.stem import PorterStemmer, LancasterStemmer, SnowballStemmer\n",
        "ps = PorterStemmer()\n",
        "ls = LancasterStemmer()\n",
        "ss = SnowballStemmer('english')\n",
        "\n",
        "words_to_stem = ['give', 'giving', 'given', 'gave', 'data', 'curricula', 'corpora']\n",
        "\n",
        "for word in words_to_stem:\n",
        "    print(word, \"-->\", ps.stem(word), ls.stem(word), ss.stem(word))"
      ]
    },
    {
      "cell_type": "markdown",
      "metadata": {
        "id": "CVuQMld-IDlZ"
      },
      "source": [
        "**Lemmatize**"
      ]
    },
    {
      "cell_type": "code",
      "execution_count": 12,
      "metadata": {
        "colab": {
          "base_uri": "https://localhost:8080/"
        },
        "id": "uKEgzbSoHxvl",
        "outputId": "b35d613c-d1ec-4e22-a168-945571a2365c"
      },
      "outputs": [
        {
          "name": "stderr",
          "output_type": "stream",
          "text": [
            "[nltk_data] Downloading package wordnet to\n",
            "[nltk_data]     C:\\Users\\praka\\AppData\\Roaming\\nltk_data...\n"
          ]
        },
        {
          "data": {
            "text/plain": [
              "True"
            ]
          },
          "execution_count": 12,
          "metadata": {},
          "output_type": "execute_result"
        }
      ],
      "source": [
        "nltk.download('wordnet')"
      ]
    },
    {
      "cell_type": "code",
      "execution_count": 13,
      "metadata": {
        "colab": {
          "base_uri": "https://localhost:8080/"
        },
        "id": "S1NLGKnzG2Gi",
        "outputId": "637dadd8-90a1-44d2-c3a2-d3799c072f73"
      },
      "outputs": [
        {
          "name": "stdout",
          "output_type": "stream",
          "text": [
            "give --> give\n",
            "giving --> giving\n",
            "given --> given\n",
            "gave --> gave\n",
            "data --> data\n",
            "curricula --> curriculum\n",
            "corpora --> corpus\n"
          ]
        }
      ],
      "source": [
        "from nltk.stem import WordNetLemmatizer\n",
        "wl = WordNetLemmatizer()\n",
        "\n",
        "for word in words_to_stem:\n",
        "    print(word, \"-->\", wl.lemmatize(word))"
      ]
    },
    {
      "cell_type": "markdown",
      "metadata": {
        "id": "P1tDcyk_IYHa"
      },
      "source": [
        "**StopWords**"
      ]
    },
    {
      "cell_type": "code",
      "execution_count": 14,
      "metadata": {
        "colab": {
          "base_uri": "https://localhost:8080/"
        },
        "id": "XoXe1lfRId-Q",
        "outputId": "3388165e-4089-4afe-adfb-f32d54f331f2"
      },
      "outputs": [
        {
          "name": "stderr",
          "output_type": "stream",
          "text": [
            "[nltk_data] Downloading package stopwords to\n",
            "[nltk_data]     C:\\Users\\praka\\AppData\\Roaming\\nltk_data...\n",
            "[nltk_data]   Unzipping corpora\\stopwords.zip.\n"
          ]
        },
        {
          "data": {
            "text/plain": [
              "True"
            ]
          },
          "execution_count": 14,
          "metadata": {},
          "output_type": "execute_result"
        }
      ],
      "source": [
        "nltk.download('stopwords')"
      ]
    },
    {
      "cell_type": "code",
      "execution_count": 15,
      "metadata": {
        "colab": {
          "base_uri": "https://localhost:8080/"
        },
        "id": "vP9mwkYdIY4D",
        "outputId": "1c45461e-d03f-4aee-c6ef-a883fce633aa"
      },
      "outputs": [
        {
          "name": "stdout",
          "output_type": "stream",
          "text": [
            "['i', 'me', 'my', 'myself', 'we', 'our', 'ours', 'ourselves', 'you', \"you're\", \"you've\", \"you'll\", \"you'd\", 'your', 'yours', 'yourself', 'yourselves', 'he', 'him', 'his', 'himself', 'she', \"she's\", 'her', 'hers', 'herself', 'it', \"it's\", 'its', 'itself', 'they', 'them', 'their', 'theirs', 'themselves', 'what', 'which', 'who', 'whom', 'this', 'that', \"that'll\", 'these', 'those', 'am', 'is', 'are', 'was', 'were', 'be', 'been', 'being', 'have', 'has', 'had', 'having', 'do', 'does', 'did', 'doing', 'a', 'an', 'the', 'and', 'but', 'if', 'or', 'because', 'as', 'until', 'while', 'of', 'at', 'by', 'for', 'with', 'about', 'against', 'between', 'into', 'through', 'during', 'before', 'after', 'above', 'below', 'to', 'from', 'up', 'down', 'in', 'out', 'on', 'off', 'over', 'under', 'again', 'further', 'then', 'once', 'here', 'there', 'when', 'where', 'why', 'how', 'all', 'any', 'both', 'each', 'few', 'more', 'most', 'other', 'some', 'such', 'no', 'nor', 'not', 'only', 'own', 'same', 'so', 'than', 'too', 'very', 's', 't', 'can', 'will', 'just', 'don', \"don't\", 'should', \"should've\", 'now', 'd', 'll', 'm', 'o', 're', 've', 'y', 'ain', 'aren', \"aren't\", 'couldn', \"couldn't\", 'didn', \"didn't\", 'doesn', \"doesn't\", 'hadn', \"hadn't\", 'hasn', \"hasn't\", 'haven', \"haven't\", 'isn', \"isn't\", 'ma', 'mightn', \"mightn't\", 'mustn', \"mustn't\", 'needn', \"needn't\", 'shan', \"shan't\", 'shouldn', \"shouldn't\", 'wasn', \"wasn't\", 'weren', \"weren't\", 'won', \"won't\", 'wouldn', \"wouldn't\"]\n",
            "179\n"
          ]
        }
      ],
      "source": [
        "from nltk.corpus import stopwords\n",
        "stp_words = stopwords.words('english')\n",
        "print(stp_words)\n",
        "print(len(stp_words))"
      ]
    },
    {
      "cell_type": "code",
      "execution_count": 16,
      "metadata": {
        "id": "pIyteJv1IhYL"
      },
      "outputs": [],
      "source": [
        "import re\n",
        "non_alnum = re.compile(r'\\W')\n",
        "non_num = re.compile(r'\\d')"
      ]
    },
    {
      "cell_type": "code",
      "execution_count": 17,
      "metadata": {
        "colab": {
          "base_uri": "https://localhost:8080/"
        },
        "id": "HqqpEmnGOR8I",
        "outputId": "bcf8c32d-2a86-4a94-be4c-1ae728b5e19b"
      },
      "outputs": [
        {
          "name": "stdout",
          "output_type": "stream",
          "text": [
            "['Gold', 'is', 'a', 'chemical', 'element', 'with', 'symbol', 'Au', 'from', 'Latin', 'aurum', 'and', 'atomic', 'number', 'making', 'it', 'one', 'of', 'the', 'higher', 'atomic', 'number', 'elements', 'that', 'occur', 'naturally', 'In', 'its', 'purest', 'form', 'it', 'is', 'a', 'bright', 'slightly', 'reddish', 'yellow', 'dense', 'soft', 'malleable', 'and', 'ductile', 'metal', 'Chemically', 'gold', 'is', 'a', 'transition', 'metal', 'and', 'a', 'group', 'element', 'It', 'is', 'one', 'of', 'the', 'least', 'reactive', 'chemical', 'elements', 'and', 'is', 'solid', 'under', 'standard', 'conditions', 'Gold', 'often', 'occurs', 'in', 'free', 'elemental', 'native', 'form', 'as', 'nuggets', 'or', 'grains', 'in', 'rocks', 'in', 'veins', 'and', 'in', 'alluvial', 'deposits', 'It', 'occurs', 'in', 'a', 'solid', 'solution', 'series', 'with', 'the', 'native', 'element', 'silver', 'as', 'electrum', 'and', 'also', 'naturally', 'alloyed', 'with', 'copper', 'and', 'palladium', 'Less', 'commonly', 'it', 'occurs', 'in', 'minerals', 'as', 'gold', 'compounds', 'often', 'with', 'tellurium', 'gold', 'tellurides']\n",
            "124\n"
          ]
        }
      ],
      "source": [
        "alpha_only = []\n",
        "\n",
        "for words in s1_tokens:\n",
        "    word_alnum = non_alnum.sub(\"\" , words)\n",
        "    word_alpha = non_num.sub(\"\" , word_alnum)\n",
        "    if len(word_alpha) > 0:\n",
        "        alpha_only.append(word_alpha)\n",
        "\n",
        "print(alpha_only)\n",
        "print(len(alpha_only))"
      ]
    },
    {
      "cell_type": "code",
      "execution_count": 18,
      "metadata": {
        "colab": {
          "base_uri": "https://localhost:8080/"
        },
        "id": "AIBgzlGqQz3Z",
        "outputId": "2c209d2f-a567-4247-9e2f-78f273d699a5"
      },
      "outputs": [
        {
          "name": "stdout",
          "output_type": "stream",
          "text": [
            "['gold', 'chemical', 'element', 'symbol', 'au', 'latin', 'aurum', 'atomic', 'number', 'making', 'one', 'higher', 'atomic', 'number', 'elements', 'occur', 'naturally', 'purest', 'form', 'bright', 'slightly', 'reddish', 'yellow', 'dense', 'soft', 'malleable', 'ductile', 'metal', 'chemically', 'gold', 'transition', 'metal', 'group', 'element', 'one', 'least', 'reactive', 'chemical', 'elements', 'solid', 'standard', 'conditions', 'gold', 'often', 'occurs', 'free', 'elemental', 'native', 'form', 'nuggets', 'grains', 'rocks', 'veins', 'alluvial', 'deposits', 'occurs', 'solid', 'solution', 'series', 'native', 'element', 'silver', 'electrum', 'also', 'naturally', 'alloyed', 'copper', 'palladium', 'less', 'commonly', 'occurs', 'minerals', 'gold', 'compounds', 'often', 'tellurium', 'gold', 'tellurides']\n",
            "78\n"
          ]
        }
      ],
      "source": [
        "alpha_without_stop_words = []\n",
        "\n",
        "for words in alpha_only:\n",
        "    words = words.lower()\n",
        "    if words not in stp_words:\n",
        "        alpha_without_stop_words.append(words)\n",
        "\n",
        "print(alpha_without_stop_words)\n",
        "print(len(alpha_without_stop_words))"
      ]
    },
    {
      "cell_type": "code",
      "execution_count": 19,
      "metadata": {
        "colab": {
          "base_uri": "https://localhost:8080/"
        },
        "id": "PUBgh7NMRi3o",
        "outputId": "1e726140-16a9-4dac-c838-0a360e5c1ddd"
      },
      "outputs": [
        {
          "data": {
            "text/plain": [
              "[('gold', 5),\n",
              " ('element', 3),\n",
              " ('occurs', 3),\n",
              " ('chemical', 2),\n",
              " ('atomic', 2),\n",
              " ('number', 2),\n",
              " ('one', 2),\n",
              " ('elements', 2),\n",
              " ('naturally', 2),\n",
              " ('form', 2)]"
            ]
          },
          "execution_count": 19,
          "metadata": {},
          "output_type": "execute_result"
        }
      ],
      "source": [
        "fdist2 = FreqDist()\n",
        "\n",
        "for word in alpha_without_stop_words:\n",
        "    fdist2[word] += 1\n",
        "\n",
        "fdist2.most_common(10)"
      ]
    }
  ],
  "metadata": {
    "colab": {
      "provenance": []
    },
    "kernelspec": {
      "display_name": "Python 3",
      "name": "python3"
    },
    "language_info": {
      "codemirror_mode": {
        "name": "ipython",
        "version": 3
      },
      "file_extension": ".py",
      "mimetype": "text/x-python",
      "name": "python",
      "nbconvert_exporter": "python",
      "pygments_lexer": "ipython3",
      "version": "3.12.1"
    }
  },
  "nbformat": 4,
  "nbformat_minor": 0
}
