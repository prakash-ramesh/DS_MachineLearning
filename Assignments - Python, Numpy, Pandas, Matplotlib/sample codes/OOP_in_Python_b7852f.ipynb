{
 "cells": [
  {
   "cell_type": "code",
   "execution_count": null,
   "id": "589973f2-ed05-42ea-93ea-637ae6f9044e",
   "metadata": {},
   "outputs": [],
   "source": [
    "#Concepts in OOPs\n",
    "#1.Classes and objects\n",
    "#2.Encapsulation\n",
    "#3.Data Abstraction(to hide)\n",
    "#4.Inheritence\n",
    "#5.Polymrphism"
   ]
  },
  {
   "cell_type": "code",
   "execution_count": 8,
   "id": "77279e03-1768-421e-a4af-6eec8b6d8fea",
   "metadata": {},
   "outputs": [],
   "source": [
    "#Creating Class\n",
    "class Python:\n",
    "    \"This is a sample docc string for this class\"\n",
    "    name=\"\" #Member variable\n",
    "    def method1(self,name): #Member functions\n",
    "        print('hello python,Welcome:',name)"
   ]
  },
  {
   "cell_type": "code",
   "execution_count": 9,
   "id": "7a47ba16-4eea-497c-b908-279c328735a3",
   "metadata": {},
   "outputs": [
    {
     "name": "stdout",
     "output_type": "stream",
     "text": [
      "hello python,Welcome: Amit\n"
     ]
    }
   ],
   "source": [
    "#Create objects\n",
    "obj=Python()\n",
    "obj.method1('Amit') #obj.method1(obj,'Amit')"
   ]
  },
  {
   "cell_type": "code",
   "execution_count": 4,
   "id": "2558ab49-f0cd-4394-a16c-460720d650dd",
   "metadata": {},
   "outputs": [
    {
     "name": "stdout",
     "output_type": "stream",
     "text": [
      "hello python,Welcome: Raghav\n"
     ]
    }
   ],
   "source": [
    "obj1=Python()\n",
    "obj1.method1(\"Raghav\")"
   ]
  },
  {
   "cell_type": "code",
   "execution_count": 10,
   "id": "9bef214f-3839-4c6f-b2e4-f95c4fa45646",
   "metadata": {},
   "outputs": [
    {
     "name": "stdout",
     "output_type": "stream",
     "text": [
      "<__main__.Edureka object at 0x000001C6B58374A0>\n",
      "<class '__main__.Edureka'>\n",
      "Memorey ID of self: 1952960443552\n",
      "Memorey ID of Object: 1952960443552\n",
      "<__main__.Edureka object at 0x000001C6B6DE8BC0>\n",
      "<class '__main__.Edureka'>\n",
      "Memorey ID of self: 1952983190464\n",
      "Memorey ID of Object: 1952983190464\n"
     ]
    }
   ],
   "source": [
    "#understanding Self\n",
    "class Edureka:\n",
    "    def method2(self):\n",
    "        print(self)\n",
    "        print(type(self))\n",
    "        print(\"Memorey ID of self:\",id(self))\n",
    "\n",
    "object1=Edureka()\n",
    "object1.method2()  #object1.method2(object1)\n",
    "print(\"Memorey ID of Object:\",id(object1))\n",
    "\n",
    "object2=Edureka()\n",
    "object2.method2()  #object2.method2(object2)\n",
    "print(\"Memorey ID of Object:\",id(object2))"
   ]
  },
  {
   "cell_type": "code",
   "execution_count": 12,
   "id": "e4049cad-5728-43f7-b911-26266e5f7910",
   "metadata": {},
   "outputs": [
    {
     "name": "stdout",
     "output_type": "stream",
     "text": [
      "I am Public\n",
      "I am Protected\n",
      "I am Private\n"
     ]
    }
   ],
   "source": [
    "#Access Specifiers/Modifiers : public,private,protected\n",
    "#public   var_name\n",
    "#private  __var_name\n",
    "#protected _var_name\n",
    "\n",
    "class Edureka:\n",
    "    def __init__(self):  # Explanation of __init__ is explained in further examples\n",
    "        self.__pri=\"I am Private\"\n",
    "        self._pro=\"I am Protected\"\n",
    "        self.pub=\"I am Public\"\n",
    "    \n",
    "    def func(self):\n",
    "        print(self.__pri)\n",
    "    \n",
    "ob=Edureka()\n",
    "print(ob.pub)  #access in outside the class\n",
    "print(ob._pro)\n",
    "#print(ob.__pri)  # This line of code will throw error because private attributes can't be accessed outside the class in this way\n",
    "ob.func()"
   ]
  },
  {
   "cell_type": "code",
   "execution_count": null,
   "id": "52053ece-6e1a-4f8c-b55f-de8c262743d5",
   "metadata": {},
   "outputs": [],
   "source": [
    "# Example 10\n",
    "class Employee:\n",
    "    def __init__(self):  \n",
    "        self.__empId=101\n",
    "        self._empName='Smith'\n",
    "        self.salary=25000\n",
    "    def public_method(self):\n",
    "        print('This is a public method')\n",
    "        print(self.__empId)\n",
    "    def _protected_method(self):\n",
    "        print('This is a protected method')\n",
    "    def __private_method(self):\n",
    "        print('This is a private method')\n",
    "Employee1=Employee()\n",
    "#print(Employee1.__empId)\n",
    "Employee1.public_method()\n",
    "Employee1._protected_method()\n",
    "#Employee1.__private_method()"
   ]
  },
  {
   "cell_type": "code",
   "execution_count": 14,
   "id": "c798daca-bc9c-4eb7-b05f-b9352d6e4da3",
   "metadata": {},
   "outputs": [
    {
     "name": "stdout",
     "output_type": "stream",
     "text": [
      "constructor called, object created\n",
      "constructor called, object created\n",
      "destructor\n",
      "constructor called, object created\n",
      "destructor\n",
      "destructor\n",
      "constructor called, object created\n",
      "destructor\n"
     ]
    }
   ],
   "source": [
    "#Constructors and Destructors\n",
    "#1.Always Public\n",
    "#2.Called when object is created\n",
    "#3.Name const is same as class name\n",
    "class TestClass:\n",
    "    def __init__(self):\n",
    "        print(\"constructor called, object created\")\n",
    "    def __del__(self):\n",
    "        print(\"destructor\")\n",
    "\n",
    "obj=TestClass()#--->pointing to the constructor\n",
    "obj1=TestClass()\n",
    "obj2=TestClass()\n",
    "del obj\n",
    "obj3=TestClass()\n",
    "del obj3"
   ]
  },
  {
   "cell_type": "code",
   "execution_count": 15,
   "id": "083be77a-f223-48ad-be09-a72579544be0",
   "metadata": {},
   "outputs": [
    {
     "name": "stdout",
     "output_type": "stream",
     "text": [
      "__add__\n",
      "__class__\n",
      "__class_getitem__\n",
      "__contains__\n",
      "__delattr__\n",
      "__delitem__\n",
      "__dir__\n",
      "__doc__\n",
      "__eq__\n",
      "__format__\n",
      "__ge__\n",
      "__getattribute__\n",
      "__getitem__\n",
      "__getstate__\n",
      "__gt__\n",
      "__hash__\n",
      "__iadd__\n",
      "__imul__\n",
      "__init__\n",
      "__init_subclass__\n",
      "__iter__\n",
      "__le__\n",
      "__len__\n",
      "__lt__\n",
      "__mul__\n",
      "__ne__\n",
      "__new__\n",
      "__reduce__\n",
      "__reduce_ex__\n",
      "__repr__\n",
      "__reversed__\n",
      "__rmul__\n",
      "__setattr__\n",
      "__setitem__\n",
      "__sizeof__\n",
      "__str__\n",
      "__subclasshook__\n",
      "append\n",
      "clear\n",
      "copy\n",
      "count\n",
      "extend\n",
      "index\n",
      "insert\n",
      "pop\n",
      "remove\n",
      "reverse\n",
      "sort\n"
     ]
    }
   ],
   "source": [
    "lst=[10,20,30]\n",
    "for i in dir(lst):\n",
    "    print(i)"
   ]
  },
  {
   "cell_type": "code",
   "execution_count": 17,
   "id": "40fa2b54-f978-45a1-952a-b89023b5632c",
   "metadata": {},
   "outputs": [
    {
     "name": "stdout",
     "output_type": "stream",
     "text": [
      "This is parent class constructor\n",
      "This is child class constructor\n",
      "This is parent method\n",
      "This is child method\n",
      "This is parent method\n"
     ]
    },
    {
     "ename": "AttributeError",
     "evalue": "'Parent' object has no attribute 'child_method'",
     "output_type": "error",
     "traceback": [
      "\u001b[1;31m---------------------------------------------------------------------------\u001b[0m",
      "\u001b[1;31mAttributeError\u001b[0m                            Traceback (most recent call last)",
      "Cell \u001b[1;32mIn[17], line 23\u001b[0m\n\u001b[0;32m     20\u001b[0m Child_Object\u001b[38;5;241m.\u001b[39mchild_method()  \u001b[38;5;66;03m# calling child method through child object\u001b[39;00m\n\u001b[0;32m     22\u001b[0m Child_Object\u001b[38;5;241m.\u001b[39mparent_method() \u001b[38;5;66;03m# calling parent method using child object. This is the advantage of inheritance. \u001b[39;00m\n\u001b[1;32m---> 23\u001b[0m \u001b[43mParent_Object\u001b[49m\u001b[38;5;241;43m.\u001b[39;49m\u001b[43mchild_method\u001b[49m() \u001b[38;5;66;03m# This line will throw error if executed because parent can't access child\u001b[39;00m\n",
      "\u001b[1;31mAttributeError\u001b[0m: 'Parent' object has no attribute 'child_method'"
     ]
    }
   ],
   "source": [
    "# Single Inheritance\n",
    "# Example 1\n",
    "\n",
    "class Parent:  #Base\n",
    "    def __init__(self):\n",
    "        print('This is parent class constructor')\n",
    "    def parent_method(self):\n",
    "        print('This is parent method')\n",
    "\n",
    "class Child(Parent):  #Derived\n",
    "    def __init__(self):\n",
    "        print('This is child class constructor')\n",
    "    def child_method(self):\n",
    "        print('This is child method')\n",
    "        \n",
    "Parent_Object=Parent() # parent object creation\n",
    "Child_Object=Child()   # child object creation\n",
    "\n",
    "Parent_Object.parent_method()  # calling parent method through parent object\n",
    "Child_Object.child_method()  # calling child method through child object\n",
    "\n",
    "Child_Object.parent_method() # calling parent method using child object. This is the advantage of inheritance. \n",
    "Parent_Object.child_method() # This line will throw error if executed because parent can't access child"
   ]
  },
  {
   "cell_type": "code",
   "execution_count": 18,
   "id": "ecc1694f-9f78-48b2-ace1-765ab99d861b",
   "metadata": {},
   "outputs": [
    {
     "name": "stdout",
     "output_type": "stream",
     "text": [
      "This is child class constructor\n",
      "This is child method\n",
      "This is 1st parent method\n",
      "This is 2nd parent method\n"
     ]
    }
   ],
   "source": [
    "# Multiple Inheritance\n",
    "# Example 2\n",
    "\n",
    "class Parent_1:\n",
    "    def __init__(self):\n",
    "        print('This is 1st parent class constructor')\n",
    "    def parent_method_1(self):\n",
    "        print('This is 1st parent method')\n",
    "class Parent_2:\n",
    "    def __init__(self):\n",
    "        print('This is 2nd parent class constructor')\n",
    "    def parent_method_2(self):\n",
    "        print('This is 2nd parent method')\n",
    "\n",
    "class Child(Parent_1,Parent_2):\n",
    "    \n",
    "    def __init__(self):\n",
    "        print('This is child class constructor')\n",
    "    def child_method(self):\n",
    "        print('This is child method')\n",
    "\n",
    "Child_Object=Child()\n",
    "Child_Object.child_method()\n",
    "#Child_Object.parent_method_1()\n",
    "\n",
    "Child_Object.parent_method_1()\n",
    "Child_Object.parent_method_2()"
   ]
  },
  {
   "cell_type": "code",
   "execution_count": 20,
   "id": "364330b3-0033-47a2-8947-a8ff635f3987",
   "metadata": {},
   "outputs": [
    {
     "name": "stdout",
     "output_type": "stream",
     "text": [
      "This is child class constructor\n",
      "This is 2nd parent method\n"
     ]
    }
   ],
   "source": [
    "# Multiple Inheritance--->Problem\n",
    "# Example 3\n",
    "\n",
    "class Parent_1:\n",
    "    def __init__(self):\n",
    "        print('This is 1st parent class constructor')\n",
    "    def parent_method(self):\n",
    "        print('This is 1st parent method')\n",
    "class Parent_2:\n",
    "    def __init__(self):\n",
    "        print('This is 2nd parent class constructor')\n",
    "    def parent_method(self):\n",
    "        print('This is 2nd parent method')\n",
    "\n",
    "class Child(Parent_2,Parent_1):  #Method Resolution Order(MRO)\n",
    "    \n",
    "    def __init__(self):\n",
    "        print('This is child class constructor')\n",
    "    def child_method(self):\n",
    "        print('This is child method')\n",
    "\n",
    "Child_Object=Child()\n",
    "Child_Object.parent_method()"
   ]
  },
  {
   "cell_type": "code",
   "execution_count": null,
   "id": "1a8c79b0-3ca9-41a9-9d50-d89d68dceacd",
   "metadata": {},
   "outputs": [],
   "source": [
    "# Multilevel Inheritance\n",
    "# Example 6\n",
    "\n",
    "class Grand_Parent:\n",
    "    def method_1(self):\n",
    "        print('This is grandparent method')\n",
    "\n",
    "class Parent(Grand_Parent):\n",
    "    def method_2(self):\n",
    "        print('This is parent method')\n",
    "\n",
    "class Child(Parent):\n",
    "    def method_3(self):\n",
    "        print('This is child method')\n",
    "        \n",
    "Child_Object=Child()\n",
    "Child_Object.method_1() # Child is accessing grandparent method\n",
    "Child_Object.method_2() # Child is accessing parent method\n",
    "Child_Object.method_3() # Child is accessing its own method"
   ]
  },
  {
   "cell_type": "code",
   "execution_count": null,
   "id": "06840ad4-df1a-4122-95ab-9e3960138f65",
   "metadata": {},
   "outputs": [],
   "source": [
    "# method overriding\n",
    "\n",
    "class Parent():\n",
    "    # Constructor\n",
    "    def __init__(self):\n",
    "        self.value = \"Inside Parent\"\n",
    "        self.var1=10    \n",
    "    # Parent's show method\n",
    "    def show(self):\n",
    "        print(self.value) \n",
    "    def func(self,var1):\n",
    "        print(var1)\n",
    "          \n",
    "# Defining child class\n",
    "class Child(Parent):\n",
    "    # Constructor\n",
    "    def __init__(self):\n",
    "        self.value = \"Inside Child\"\n",
    "        self.var2=20\n",
    "        self.var3=30  \n",
    "    # Child's show method\n",
    "    def show(self):\n",
    "        print(self.value)    \n",
    "    def func(self,var2,var3):\n",
    "        print(var2)\n",
    "        print(var3)\n",
    "        \n",
    "obj1 = Parent()\n",
    "obj2 = Child()\n",
    "  \n",
    "obj1.show()\n",
    "obj2.show()\n",
    "obj1.func(10)\n",
    "obj2.func(10,20)"
   ]
  },
  {
   "cell_type": "code",
   "execution_count": null,
   "id": "f9ddc05d-5e00-4f0e-9e91-9573850d73ad",
   "metadata": {},
   "outputs": [],
   "source": [
    "# Example 14 (Method Overriding)\n",
    "\n",
    "class Rectangle():\n",
    "    def __init__(self,length,breadth):\n",
    "        self.length = length\n",
    "        self.breadth = breadth\n",
    "    def getArea(self):\n",
    "        print(self.length*self.breadth,\" is area of rectangle\")\n",
    "        \n",
    "class Square(Rectangle):\n",
    "    def __init__(self,s):\n",
    "        self.side = s\n",
    "        #Rectangle.__init__(self,side,side)\n",
    "    def getArea(self):\n",
    "        print(self.side*self.side,\" is area of square\")\n",
    "        \n",
    "s = Square(4)\n",
    "#s1=Square(10)\n",
    "r = Rectangle(2,4)\n",
    "s.getArea()\n",
    "r.getArea()"
   ]
  },
  {
   "cell_type": "code",
   "execution_count": 21,
   "id": "5de160ed-2d02-4cc0-baee-45ed0fe0cc10",
   "metadata": {},
   "outputs": [
    {
     "ename": "TypeError",
     "evalue": "product() missing 1 required positional argument: 'third'",
     "output_type": "error",
     "traceback": [
      "\u001b[1;31m---------------------------------------------------------------------------\u001b[0m",
      "\u001b[1;31mTypeError\u001b[0m                                 Traceback (most recent call last)",
      "Cell \u001b[1;32mIn[21], line 9\u001b[0m\n\u001b[0;32m      6\u001b[0m     result \u001b[38;5;241m=\u001b[39m first \u001b[38;5;241m*\u001b[39m second \u001b[38;5;241m*\u001b[39m third\n\u001b[0;32m      7\u001b[0m     \u001b[38;5;28mprint\u001b[39m(result)\n\u001b[1;32m----> 9\u001b[0m \u001b[43mproduct\u001b[49m\u001b[43m(\u001b[49m\u001b[38;5;241;43m4\u001b[39;49m\u001b[43m,\u001b[49m\u001b[43m \u001b[49m\u001b[38;5;241;43m5\u001b[39;49m\u001b[43m)\u001b[49m  \n\u001b[0;32m     10\u001b[0m product(\u001b[38;5;241m4\u001b[39m, \u001b[38;5;241m5\u001b[39m, \u001b[38;5;241m5\u001b[39m)  \n",
      "\u001b[1;31mTypeError\u001b[0m: product() missing 1 required positional argument: 'third'"
     ]
    }
   ],
   "source": [
    "def product(first, second):\n",
    "    result = first * second\n",
    "    print(result)\n",
    "\n",
    "def product(first, second, third):\n",
    "    result = first * second * third\n",
    "    print(result)\n",
    "    \n",
    "product(4, 5)  \n",
    "product(4, 5, 5)  "
   ]
  },
  {
   "cell_type": "code",
   "execution_count": null,
   "id": "b69795e7-94a5-4f52-a4bb-d4ce21fdc917",
   "metadata": {},
   "outputs": [],
   "source": []
  }
 ],
 "metadata": {
  "kernelspec": {
   "display_name": "Python 3 (ipykernel)",
   "language": "python",
   "name": "python3"
  },
  "language_info": {
   "codemirror_mode": {
    "name": "ipython",
    "version": 3
   },
   "file_extension": ".py",
   "mimetype": "text/x-python",
   "name": "python",
   "nbconvert_exporter": "python",
   "pygments_lexer": "ipython3",
   "version": "3.12.1"
  }
 },
 "nbformat": 4,
 "nbformat_minor": 5
}
