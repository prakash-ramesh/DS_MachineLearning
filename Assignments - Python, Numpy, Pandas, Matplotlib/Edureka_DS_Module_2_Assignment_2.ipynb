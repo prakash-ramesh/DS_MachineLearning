{
  "nbformat": 4,
  "nbformat_minor": 0,
  "metadata": {
    "colab": {
      "provenance": [],
      "toc_visible": true
    },
    "kernelspec": {
      "name": "python3",
      "display_name": "Python 3"
    },
    "language_info": {
      "name": "python"
    }
  },
  "cells": [
    {
      "cell_type": "markdown",
      "source": [
        "```\n",
        "1. What is the output of the following code?\n",
        "nums = set([1,1,2,3,3,3,4,4])\n",
        "print(len(nums))\n",
        "Hint: Set consists of a unique element.\n",
        "```"
      ],
      "metadata": {
        "id": "swo2KGoIyIfK"
      }
    },
    {
      "cell_type": "code",
      "execution_count": 1,
      "metadata": {
        "colab": {
          "base_uri": "https://localhost:8080/"
        },
        "id": "34yDa6j8xt92",
        "outputId": "67c3d121-7002-49bf-f257-adde3d7b121f"
      },
      "outputs": [
        {
          "output_type": "stream",
          "name": "stdout",
          "text": [
            "4\n"
          ]
        }
      ],
      "source": [
        "nums = set([1,1,2,3,3,3,4,4])\n",
        "print(len(nums))"
      ]
    },
    {
      "cell_type": "markdown",
      "source": [
        "```\n",
        "2. What will be the output?\n",
        "d = {\"john\":40, \"peter\":45}\n",
        "print(list(d.keys()))\n",
        "Hint: d.keys() is the function that will show keys.\n",
        "```"
      ],
      "metadata": {
        "id": "xB9lxMXVySqI"
      }
    },
    {
      "cell_type": "code",
      "source": [
        "d = {\"john\":40, \"peter\":45}\n",
        "print(list(d.keys()))"
      ],
      "metadata": {
        "colab": {
          "base_uri": "https://localhost:8080/"
        },
        "id": "xPtxoK8xyNVx",
        "outputId": "3837b645-3f97-4f15-fc24-f1972253b327"
      },
      "execution_count": 2,
      "outputs": [
        {
          "output_type": "stream",
          "name": "stdout",
          "text": [
            "['john', 'peter']\n"
          ]
        }
      ]
    },
    {
      "cell_type": "markdown",
      "source": [
        "```\n",
        "3. A website requires a user to input a username and password to register. Write a\n",
        "program to check the validity of the password given by the user. Following are the\n",
        "criteria for checking password:\n",
        "1. At least 1 letter between [a-z]\n",
        "2. At least 1 number between [0-9]\n",
        "1. At least 1 letter between [A-Z]\n",
        "3. At least 1 character from [$#@]\n",
        "4. Minimum length of transaction password: 6\n",
        "5. Maximum length of transaction password: 12\n",
        "Hint: In the case of input data being supplied to the question, it should be assumed to\n",
        "be a console input.\n",
        "```"
      ],
      "metadata": {
        "id": "c0GCQX6Hypjo"
      }
    },
    {
      "cell_type": "code",
      "source": [
        "pwd = input(\"Enter Password: \")\n",
        "\n",
        "pwd_len = len(pwd)\n",
        "\n",
        "has_num = any(ch.isdigit() for ch in pwd)\n",
        "has_alpha = any(ch.isalpha() for ch in pwd)\n",
        "has_lower = any(ch.isupper() for ch in pwd)\n",
        "has_upper = any(ch.islower() for ch in pwd)\n",
        "has_special_char = \"@\" in pwd or \"#\" in pwd or \"$\" in pwd\n",
        "\n",
        "if pwd_len >= 6 and pwd_len <= 12 and has_num and has_alpha and has_lower and has_upper and has_special_char:\n",
        "    print(\"Valid Password.\")\n",
        "else:\n",
        "    print(\"Invalid Password.\")"
      ],
      "metadata": {
        "colab": {
          "base_uri": "https://localhost:8080/"
        },
        "id": "bHuNoYo_ymCH",
        "outputId": "5b4f18dc-d2e2-418b-fcf7-68c95f48a079"
      },
      "execution_count": 4,
      "outputs": [
        {
          "output_type": "stream",
          "name": "stdout",
          "text": [
            "Enter Password: Aabc@123\n",
            "Valid Password.\n"
          ]
        }
      ]
    },
    {
      "cell_type": "markdown",
      "source": [
        "```\n",
        "4. Write a for loop that prints all elements of a list and their position in the list.\n",
        "a = [4,7,3,2,5,9]\n",
        "Hint: Use Loop to iterate through list elements.\n",
        "```"
      ],
      "metadata": {
        "id": "JXTjmBgj0_MM"
      }
    },
    {
      "cell_type": "code",
      "source": [
        "a = [4,7,3,2,5,9]\n",
        "\n",
        "for index, el in enumerate(a):\n",
        "    print(el, f'at index {index}')"
      ],
      "metadata": {
        "colab": {
          "base_uri": "https://localhost:8080/"
        },
        "id": "eJ__qAx800i3",
        "outputId": "b357d2fd-2754-41d7-c48b-d3d6320eea48"
      },
      "execution_count": 5,
      "outputs": [
        {
          "output_type": "stream",
          "name": "stdout",
          "text": [
            "4 at index 0\n",
            "7 at index 1\n",
            "3 at index 2\n",
            "2 at index 3\n",
            "5 at index 4\n",
            "9 at index 5\n"
          ]
        }
      ]
    },
    {
      "cell_type": "markdown",
      "source": [
        "```\n",
        "5. Please write a program that accepts a string from the console and print the\n",
        "characters that have even indexes.\n",
        "Example: If the following string is given as input to the program:\n",
        "H1e2l3l4o5w6o7r8l9d\n",
        "Then, the output of the program should be:\n",
        "Helloworld\n",
        "```"
      ],
      "metadata": {
        "id": "vJogl3lb1aTl"
      }
    },
    {
      "cell_type": "code",
      "source": [
        "s3 = input(\"Enter string: \")\n",
        "res = ''\n",
        "\n",
        "for index, ch in enumerate(s3):\n",
        "    if index%2 == 0 and ch.isalpha():\n",
        "        res += ch\n",
        "\n",
        "print(res)"
      ],
      "metadata": {
        "colab": {
          "base_uri": "https://localhost:8080/"
        },
        "id": "wLaizhkw1TL0",
        "outputId": "a0005bc7-da27-40d6-bc22-d2ab94ff9459"
      },
      "execution_count": 6,
      "outputs": [
        {
          "output_type": "stream",
          "name": "stdout",
          "text": [
            "Enter string: H1e2l3l4o5w6o7r8l9d\n",
            "Helloworld\n"
          ]
        }
      ]
    },
    {
      "cell_type": "markdown",
      "source": [
        "```\n",
        "6. Please write a program that accepts a string from the console and print it in reverse order.\n",
        "Example: If the following string is given as input to the program:\n",
        "rise to vote sir\n",
        "Then, the output of the program should be:\n",
        "ris etov ot esir\n",
        "```"
      ],
      "metadata": {
        "id": "TuVODipP1pJN"
      }
    },
    {
      "cell_type": "code",
      "source": [
        "s4 = 'rise to vote sir'\n",
        "print(s4[::-1])"
      ],
      "metadata": {
        "colab": {
          "base_uri": "https://localhost:8080/"
        },
        "id": "lYMY4L1W1lo2",
        "outputId": "435f57a8-b35d-428d-a703-15013a78c975"
      },
      "execution_count": 7,
      "outputs": [
        {
          "output_type": "stream",
          "name": "stdout",
          "text": [
            "ris etov ot esir\n"
          ]
        }
      ]
    },
    {
      "cell_type": "markdown",
      "source": [
        "```\n",
        "7. Please write a program that counts and prints the numbers of each character in a\n",
        "string input by the console.\n",
        "Example: If the following string is given as input to the program:\n",
        "abcdefgabc\n",
        "Then, the output of the program should be:\n",
        "a,2\n",
        "c,2\n",
        "b,2\n",
        "e,1\n",
        "d,1\n",
        "g,1\n",
        "f,1\n",
        "```"
      ],
      "metadata": {
        "id": "9n3HU3U719u9"
      }
    },
    {
      "cell_type": "code",
      "source": [
        "s5 = input(\"Enter string: \")\n",
        "s5_set = set(s5)\n",
        "\n",
        "for ch in s5_set:\n",
        "    print(f'Count of {ch} - {s5.count(ch)}')"
      ],
      "metadata": {
        "colab": {
          "base_uri": "https://localhost:8080/"
        },
        "id": "2iaGGbTJ1320",
        "outputId": "7a89b749-255a-4313-e1f3-14a2c126a0ed"
      },
      "execution_count": 8,
      "outputs": [
        {
          "output_type": "stream",
          "name": "stdout",
          "text": [
            "Enter string: abcdefgabc\n",
            "Count of a - 2\n",
            "Count of d - 1\n",
            "Count of e - 1\n",
            "Count of f - 1\n",
            "Count of c - 2\n",
            "Count of b - 2\n",
            "Count of g - 1\n"
          ]
        }
      ]
    },
    {
      "cell_type": "markdown",
      "source": [
        "```\n",
        "8. With two given lists [1,3,6,78,35,55] and [12,24,35,24,88,120,155], write a\n",
        "program to make a list whose elements are intersection of the above given lists.\n",
        "```"
      ],
      "metadata": {
        "id": "KV3IWkmI4GKP"
      }
    },
    {
      "cell_type": "code",
      "source": [
        "a = [1,3,6,78,35,55]\n",
        "b = [12,24,35,24,88,120,155]\n",
        "print(list(set(a) & set(b)))"
      ],
      "metadata": {
        "colab": {
          "base_uri": "https://localhost:8080/"
        },
        "id": "3g8QCe0635X8",
        "outputId": "9744168a-80c6-431c-f994-5825ac27764c"
      },
      "execution_count": 11,
      "outputs": [
        {
          "output_type": "stream",
          "name": "stdout",
          "text": [
            "[35]\n"
          ]
        }
      ]
    },
    {
      "cell_type": "markdown",
      "source": [
        "```\n",
        "9. By using list comprehension, please write a program to print the list after removing the value 24 in [12,24,35,24,88,120,155]\n",
        "```"
      ],
      "metadata": {
        "id": "oRuR3YlT5iAs"
      }
    },
    {
      "cell_type": "code",
      "source": [
        "a = [12,24,35,24,88,120,155]\n",
        "b = [x for x in a if x != 24]\n",
        "print(b)"
      ],
      "metadata": {
        "colab": {
          "base_uri": "https://localhost:8080/"
        },
        "id": "8E0ZVz4H5Q-p",
        "outputId": "1a4fe0a1-45f7-413c-9772-26004a0919c7"
      },
      "execution_count": 12,
      "outputs": [
        {
          "output_type": "stream",
          "name": "stdout",
          "text": [
            "[12, 35, 88, 120, 155]\n"
          ]
        }
      ]
    },
    {
      "cell_type": "markdown",
      "source": [
        "```\n",
        "10. By using list comprehension, please write a program to print the list after\n",
        " removing the 0th,4th and 5th numbers in [12,24,35,70,88,120,155]\n",
        "```"
      ],
      "metadata": {
        "id": "TD_h-ZIM6DN7"
      }
    },
    {
      "cell_type": "code",
      "source": [
        "a = [12,24,35,70,88,120,155]\n",
        "b = [x for (i,x) in enumerate(a) if i not in (0,4,5)]\n",
        "print(b)"
      ],
      "metadata": {
        "colab": {
          "base_uri": "https://localhost:8080/"
        },
        "id": "gsFTNbyV5yEC",
        "outputId": "c1123a8f-1428-4cea-e59f-2ad423be7114"
      },
      "execution_count": 13,
      "outputs": [
        {
          "output_type": "stream",
          "name": "stdout",
          "text": [
            "[24, 35, 70, 155]\n"
          ]
        }
      ]
    },
    {
      "cell_type": "markdown",
      "source": [
        "```\n",
        "11.By using list comprehension, please write a program to print the list after removing\n",
        "deleted numbers that are divisible by 5 and 7 in [12,24,35,70,88,120,155].\n",
        "```"
      ],
      "metadata": {
        "id": "QvraC7zN6TUh"
      }
    },
    {
      "cell_type": "code",
      "source": [
        "a = [12,24,35,70,88,120,155]\n",
        "b = [x for x in a if x%7 != 0 and x%5 !=0]\n",
        "print(b)"
      ],
      "metadata": {
        "colab": {
          "base_uri": "https://localhost:8080/"
        },
        "id": "oEC7Majz6BiE",
        "outputId": "de588d84-9b9c-47e9-fb60-cbf91035f480"
      },
      "execution_count": 20,
      "outputs": [
        {
          "output_type": "stream",
          "name": "stdout",
          "text": [
            "[12, 24, 88]\n"
          ]
        }
      ]
    },
    {
      "cell_type": "markdown",
      "source": [
        "```\n",
        "12.Write a program to compute 1/2+2/3+3/4+...+n/n+1 with a given n input by\n",
        "console (n>0).\n",
        "Example:\n",
        "If the following n is given as input to the program:\n",
        "5\n",
        "Then, the output of the program should be:\n",
        "3.55\n",
        "```"
      ],
      "metadata": {
        "id": "xoqoHS3b9AkE"
      }
    },
    {
      "cell_type": "code",
      "source": [
        "n = int(input(\"Enter a number: \"))\n",
        "\n",
        "sum = 0\n",
        "\n",
        "for i in range(1, n + 1):\n",
        "    sum += i / (i + 1)\n",
        "\n",
        "print(\"Sum of the series:\", round(sum, 2))"
      ],
      "metadata": {
        "colab": {
          "base_uri": "https://localhost:8080/"
        },
        "id": "gnjCkd4m9Q86",
        "outputId": "c412c0cc-48e6-4284-a906-34b945a01d9e"
      },
      "execution_count": 22,
      "outputs": [
        {
          "output_type": "stream",
          "name": "stdout",
          "text": [
            "Enter a number: 5\n",
            "Sum of the series: 3.55\n"
          ]
        }
      ]
    },
    {
      "cell_type": "code",
      "source": [],
      "metadata": {
        "id": "_HTrlCTo9RaC"
      },
      "execution_count": null,
      "outputs": []
    }
  ]
}