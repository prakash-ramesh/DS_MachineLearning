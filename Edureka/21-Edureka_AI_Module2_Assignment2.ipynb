{
 "cells": [
  {
   "cell_type": "code",
   "execution_count": 37,
   "metadata": {},
   "outputs": [],
   "source": [
    "import docx\n",
    "import nltk\n",
    "from nltk.tokenize import word_tokenize\n",
    "from nltk.util import ngrams\n",
    "from nltk.probability import FreqDist"
   ]
  },
  {
   "cell_type": "markdown",
   "metadata": {},
   "source": [
    "Preparation"
   ]
  },
  {
   "cell_type": "code",
   "execution_count": 38,
   "metadata": {},
   "outputs": [],
   "source": [
    "doc=docx.Document('datasets/Brexit.docx')\n",
    "\n",
    "def get_doc_text(doc):\n",
    "    doc_paragraphs = []\n",
    "\n",
    "    for para in doc.paragraphs:\n",
    "        doc_paragraphs.append(para.text)\n",
    "\n",
    "    doc_text = ' '.join(doc_paragraphs)\n",
    "    return doc_text\n",
    "\n",
    "brexit_text = get_doc_text(doc)"
   ]
  },
  {
   "cell_type": "markdown",
   "metadata": {},
   "source": [
    "Question 1:"
   ]
  },
  {
   "cell_type": "code",
   "execution_count": 39,
   "metadata": {},
   "outputs": [
    {
     "name": "stdout",
     "output_type": "stream",
     "text": [
      "[('Brexit', 'is'), ('is', 'the'), ('the', 'impending'), ('impending', 'withdrawal'), ('withdrawal', 'of'), ('of', 'the'), ('the', 'United'), ('United', 'Kingdom'), ('Kingdom', '('), ('(', 'UK'), ('UK', ')'), (')', 'from'), ('from', 'the'), ('the', 'European'), ('European', 'Union'), ('Union', '('), ('(', 'EU'), ('EU', ')'), (')', '.'), ('.', 'In'), ('In', 'a'), ('a', 'referendum'), ('referendum', 'on'), ('on', '23'), ('23', 'June'), ('June', '2016'), ('2016', ','), (',', 'a'), ('a', 'majority'), ('majority', 'of'), ('of', 'British'), ('British', 'voters'), ('voters', 'supported'), ('supported', 'leaving'), ('leaving', 'the'), ('the', 'EU'), ('EU', '.'), ('.', 'On'), ('On', '29'), ('29', 'March'), ('March', '2017'), ('2017', ','), (',', 'the'), ('the', 'UK'), ('UK', 'government'), ('government', 'invoked'), ('invoked', 'Article'), ('Article', '50'), ('50', 'of'), ('of', 'the'), ('the', 'Treaty'), ('Treaty', 'on'), ('on', 'European'), ('European', 'Union'), ('Union', '.'), ('.', 'The'), ('The', 'European'), ('European', 'Union'), ('Union', '('), ('(', 'Withdrawal'), ('Withdrawal', ')'), (')', 'Act'), ('Act', '2018'), ('2018', 'declares'), ('declares', '``'), ('``', 'exit'), ('exit', 'day'), ('day', \"''\"), (\"''\", 'to'), ('to', 'be'), ('be', '29'), ('29', 'March'), ('March', '2019'), ('2019', 'at'), ('at', '11'), ('11', 'p.m.'), ('p.m.', '('), ('(', 'Central'), ('Central', 'European'), ('European', 'Time'), ('Time', ')'), (')', '.'), ('.', 'Prime'), ('Prime', 'Minister'), ('Minister', 'Theresa'), ('Theresa', 'May'), ('May', 'announced'), ('announced', 'the'), ('the', 'government'), ('government', \"'s\"), (\"'s\", 'intention'), ('intention', 'not'), ('not', 'to'), ('to', 'seek'), ('seek', 'permanent'), ('permanent', 'membership'), ('membership', 'of'), ('of', 'the'), ('the', 'European'), ('European', 'single'), ('single', 'market'), ('market', 'or'), ('or', 'the'), ('the', 'EU'), ('EU', 'customs'), ('customs', 'union'), ('union', 'after'), ('after', 'leaving'), ('leaving', 'the'), ('the', 'EU'), ('EU', 'and'), ('and', 'promised'), ('promised', 'to'), ('to', 'repeal'), ('repeal', 'the'), ('the', 'European'), ('European', 'Communities'), ('Communities', 'Act'), ('Act', 'of'), ('of', '1972'), ('1972', 'and'), ('and', 'incorporate'), ('incorporate', 'existing'), ('existing', 'European'), ('European', 'Union'), ('Union', 'law'), ('law', 'into'), ('into', 'UK'), ('UK', 'domestic'), ('domestic', 'law'), ('law', '.'), ('.', 'A'), ('A', 'new'), ('new', 'government'), ('government', 'department'), ('department', ','), (',', 'the'), ('the', 'Department'), ('Department', 'for'), ('for', 'Exiting'), ('Exiting', 'the'), ('the', 'European'), ('European', 'Union'), ('Union', ','), (',', 'was'), ('was', 'created'), ('created', 'in'), ('in', 'July'), ('July', '2016'), ('2016', '.'), ('.', 'Negotiations'), ('Negotiations', 'with'), ('with', 'the'), ('the', 'EU'), ('EU', 'officially'), ('officially', 'started'), ('started', 'in'), ('in', 'June'), ('June', '2017'), ('2017', ','), (',', 'aiming'), ('aiming', 'to'), ('to', 'complete'), ('complete', 'the'), ('the', 'withdrawal'), ('withdrawal', 'agreement'), ('agreement', 'by'), ('by', 'October'), ('October', '2018'), ('2018', '.'), ('.', 'In'), ('In', 'June'), ('June', '2018'), ('2018', ','), (',', 'the'), ('the', 'UK'), ('UK', 'and'), ('and', 'the'), ('the', 'EU'), ('EU', 'published'), ('published', 'a'), ('a', 'joint'), ('joint', 'progress'), ('progress', 'report'), ('report', 'outlining'), ('outlining', 'agreement'), ('agreement', 'on'), ('on', 'issues'), ('issues', 'including'), ('including', 'customs'), ('customs', ','), (',', 'VAT'), ('VAT', 'and'), ('and', 'Euratom'), ('Euratom', '.'), ('.', 'The'), ('The', 'UK'), ('UK', 'joined'), ('joined', 'the'), ('the', 'European'), ('European', 'Communities'), ('Communities', '('), ('(', 'EC'), ('EC', ')'), (')', 'in'), ('in', '1973'), ('1973', ','), (',', 'with'), ('with', 'membership'), ('membership', 'confirmed'), ('confirmed', 'by'), ('by', 'a'), ('a', 'referendum'), ('referendum', 'in'), ('in', '1975'), ('1975', '.'), ('.', 'In'), ('In', 'the'), ('the', '1970s'), ('1970s', 'and'), ('and', '1980s'), ('1980s', ','), (',', 'withdrawal'), ('withdrawal', 'from'), ('from', 'the'), ('the', 'EC'), ('EC', 'was'), ('was', 'advocated'), ('advocated', 'mainly'), ('mainly', 'by'), ('by', 'Labour'), ('Labour', 'Party'), ('Party', 'members'), ('members', 'and'), ('and', 'trade'), ('trade', 'union'), ('union', 'figures'), ('figures', '.'), ('.', 'From'), ('From', 'the'), ('the', '1990s'), ('1990s', ','), (',', 'the'), ('the', 'main'), ('main', 'advocates'), ('advocates', 'of'), ('of', 'withdrawal'), ('withdrawal', 'were'), ('were', 'the'), ('the', 'newly'), ('newly', 'founded'), ('founded', 'UK'), ('UK', 'Independence'), ('Independence', 'Party'), ('Party', '('), ('(', 'UKIP'), ('UKIP', ')'), (')', 'and'), ('and', 'an'), ('an', 'increasing'), ('increasing', 'number'), ('number', 'of'), ('of', 'Eurosceptic'), ('Eurosceptic', 'Conservative'), ('Conservative', 'Party'), ('Party', 'members'), ('members', '.'), ('.', 'Prime'), ('Prime', 'Minister'), ('Minister', 'David'), ('David', 'Cameron'), ('Cameron', 'held'), ('held', 'the'), ('the', 'referendum'), ('referendum', 'in'), ('in', 'fulfilment'), ('fulfilment', 'of'), ('of', 'a'), ('a', '2015'), ('2015', 'manifesto'), ('manifesto', 'pledge'), ('pledge', '.'), ('.', 'Cameron'), ('Cameron', ','), (',', 'who'), ('who', 'had'), ('had', 'campaigned'), ('campaigned', 'for'), ('for', '``'), ('``', 'Remain'), ('Remain', \"''\"), (\"''\", ','), (',', 'resigned'), ('resigned', 'after'), ('after', 'the'), ('the', 'referendum'), ('referendum', 'result'), ('result', 'and'), ('and', 'was'), ('was', 'succeeded'), ('succeeded', 'by'), ('by', 'Theresa'), ('Theresa', 'May'), ('May', ','), (',', 'who'), ('who', 'called'), ('called', 'a'), ('a', 'snap'), ('snap', 'general'), ('general', 'election'), ('election', 'less'), ('less', 'than'), ('than', 'a'), ('a', 'year'), ('year', 'later'), ('later', ','), (',', 'in'), ('in', 'which'), ('which', 'she'), ('she', 'lost'), ('lost', 'her'), ('her', 'overall'), ('overall', 'majority'), ('majority', '.'), ('.', 'Her'), ('Her', 'minority'), ('minority', 'government'), ('government', 'is'), ('is', 'supported'), ('supported', 'in'), ('in', 'key'), ('key', 'votes'), ('votes', 'by'), ('by', 'the'), ('the', 'Democratic'), ('Democratic', 'Unionist'), ('Unionist', 'Party'), ('Party', '.'), ('.', 'Six'), ('Six', 'weeks'), ('weeks', 'after'), ('after', 'the'), ('the', 'referendum'), ('referendum', ','), (',', 'the'), ('the', 'Bank'), ('Bank', 'of'), ('of', 'England'), ('England', 'introduced'), ('introduced', 'quantitative'), ('quantitative', 'easing'), ('easing', 'and'), ('and', 'lower'), ('lower', 'interest'), ('interest', 'rates'), ('rates', ','), (',', 'thus'), ('thus', 'allowing'), ('allowing', 'both'), ('both', 'depreciation'), ('depreciation', 'of'), ('of', 'sterling'), ('sterling', 'and'), ('and', 'a'), ('a', 'rise'), ('rise', 'in'), ('in', 'inflation'), ('inflation', 'that'), ('that', 'outpaced'), ('outpaced', 'wage'), ('wage', 'growth'), ('growth', 'for'), ('for', 'most'), ('most', 'of'), ('of', '2017'), ('2017', '.'), ('.', 'The'), ('The', 'drop'), ('drop', 'in'), ('in', 'the'), ('the', 'value'), ('value', 'of'), ('of', 'sterling'), ('sterling', 'has'), ('has', 'been'), ('been', 'claimed'), ('claimed', 'to'), ('to', 'have'), ('have', 'been'), ('been', 'caused'), ('caused', 'in'), ('in', 'part'), ('part', 'by'), ('by', 'hedge-fund'), ('hedge-fund', 'managers'), ('managers', 'betting'), ('betting', 'on'), ('on', 'Brexit'), ('Brexit', 'against'), ('against', 'polls'), ('polls', 'predicting'), ('predicting', 'a'), ('a', 'narrow'), ('narrow', 'victory'), ('victory', 'for'), ('for', 'the'), ('the', '``'), ('``', 'Remain'), ('Remain', \"''\"), (\"''\", 'camp'), ('camp', '.'), ('.', 'There'), ('There', 'is'), ('is', 'a'), ('a', 'broad'), ('broad', 'consensus'), ('consensus', 'in'), ('in', 'existing'), ('existing', 'economic'), ('economic', 'research'), ('research', 'that'), ('that', 'Brexit'), ('Brexit', 'is'), ('is', 'likely'), ('likely', 'to'), ('to', 'reduce'), ('reduce', 'the'), ('the', 'UK'), ('UK', \"'s\"), (\"'s\", 'real'), ('real', 'per'), ('per', 'capita'), ('capita', 'income'), ('income', 'in'), ('in', 'the'), ('the', 'medium'), ('medium', 'term'), ('term', 'and'), ('and', 'long'), ('long', 'term'), ('term', '.'), ('.', 'There'), ('There', 'is'), ('is', 'also'), ('also', 'agreement'), ('agreement', 'among'), ('among', 'economists'), ('economists', 'that'), ('that', 'the'), ('the', 'Brexit'), ('Brexit', 'referendum'), ('referendum', 'itself'), ('itself', 'damaged'), ('damaged', 'the'), ('the', 'economy'), ('economy', 'in'), ('in', 'the'), ('the', 'subsequent'), ('subsequent', 'two'), ('two', 'years'), ('years', '.'), ('.', 'Studies'), ('Studies', 'on'), ('on', 'effects'), ('effects', 'that'), ('that', 'have'), ('have', 'materialised'), ('materialised', 'since'), ('since', 'the'), ('the', 'referendum'), ('referendum', 'show'), ('show', 'annual'), ('annual', 'losses'), ('losses', 'of'), ('of', '£404'), ('£404', 'for'), ('for', 'the'), ('the', 'average'), ('average', 'UK'), ('UK', 'household'), ('household', ','), (',', 'and'), ('and', 'losses'), ('losses', 'between'), ('between', '1.3'), ('1.3', '%'), ('%', 'and'), ('and', '2.1'), ('2.1', '%'), ('%', 'of'), ('of', 'UK'), ('UK', 'GDP'), ('GDP', '.'), ('.', 'Brexit'), ('Brexit', 'is'), ('is', 'likely'), ('likely', 'to'), ('to', 'reduce'), ('reduce', 'immigration'), ('immigration', 'from'), ('from', 'European'), ('European', 'Economic'), ('Economic', 'Area'), ('Area', '('), ('(', 'EEA'), ('EEA', ')'), (')', 'countries'), ('countries', 'to'), ('to', 'the'), ('the', 'UK'), ('UK', ','), (',', 'and'), ('and', 'poses'), ('poses', 'challenges'), ('challenges', 'for'), ('for', 'UK'), ('UK', 'higher'), ('higher', 'education'), ('education', 'and'), ('and', 'academic'), ('academic', 'research'), ('research', '.'), ('.', 'As'), ('As', 'of'), ('of', 'June'), ('June', '2018'), ('2018', ','), (',', 'the'), ('the', 'size'), ('size', 'of'), ('of', 'the'), ('the', '``'), ('``', 'divorce'), ('divorce', 'bill'), ('bill', \"''\"), (\"''\", ','), (',', 'the'), ('the', 'UK'), ('UK', \"'s\"), (\"'s\", 'inheritance'), ('inheritance', 'of'), ('of', 'existing'), ('existing', 'EU'), ('EU', 'trade'), ('trade', 'agreements'), ('agreements', ','), (',', 'and'), ('and', 'relations'), ('relations', 'with'), ('with', 'Ireland'), ('Ireland', 'and'), ('and', 'other'), ('other', 'EU'), ('EU', 'member'), ('member', 'states'), ('states', 'remain'), ('remain', 'uncertain'), ('uncertain', '.'), ('.', 'The'), ('The', 'precise'), ('precise', 'impact'), ('impact', 'on'), ('on', 'the'), ('the', 'UK'), ('UK', 'depends'), ('depends', 'on'), ('on', 'whether'), ('whether', 'the'), ('the', 'process'), ('process', 'will'), ('will', 'be'), ('be', 'a'), ('a', \"''\"), (\"''\", 'hard'), ('hard', \"''\"), (\"''\", 'or'), ('or', 'a'), ('a', '``'), ('``', 'soft'), ('soft', \"''\"), (\"''\", 'Brexit'), ('Brexit', '.')]\n",
      "[('Brexit', 'is', 'the'), ('is', 'the', 'impending'), ('the', 'impending', 'withdrawal'), ('impending', 'withdrawal', 'of'), ('withdrawal', 'of', 'the'), ('of', 'the', 'United'), ('the', 'United', 'Kingdom'), ('United', 'Kingdom', '('), ('Kingdom', '(', 'UK'), ('(', 'UK', ')'), ('UK', ')', 'from'), (')', 'from', 'the'), ('from', 'the', 'European'), ('the', 'European', 'Union'), ('European', 'Union', '('), ('Union', '(', 'EU'), ('(', 'EU', ')'), ('EU', ')', '.'), (')', '.', 'In'), ('.', 'In', 'a'), ('In', 'a', 'referendum'), ('a', 'referendum', 'on'), ('referendum', 'on', '23'), ('on', '23', 'June'), ('23', 'June', '2016'), ('June', '2016', ','), ('2016', ',', 'a'), (',', 'a', 'majority'), ('a', 'majority', 'of'), ('majority', 'of', 'British'), ('of', 'British', 'voters'), ('British', 'voters', 'supported'), ('voters', 'supported', 'leaving'), ('supported', 'leaving', 'the'), ('leaving', 'the', 'EU'), ('the', 'EU', '.'), ('EU', '.', 'On'), ('.', 'On', '29'), ('On', '29', 'March'), ('29', 'March', '2017'), ('March', '2017', ','), ('2017', ',', 'the'), (',', 'the', 'UK'), ('the', 'UK', 'government'), ('UK', 'government', 'invoked'), ('government', 'invoked', 'Article'), ('invoked', 'Article', '50'), ('Article', '50', 'of'), ('50', 'of', 'the'), ('of', 'the', 'Treaty'), ('the', 'Treaty', 'on'), ('Treaty', 'on', 'European'), ('on', 'European', 'Union'), ('European', 'Union', '.'), ('Union', '.', 'The'), ('.', 'The', 'European'), ('The', 'European', 'Union'), ('European', 'Union', '('), ('Union', '(', 'Withdrawal'), ('(', 'Withdrawal', ')'), ('Withdrawal', ')', 'Act'), (')', 'Act', '2018'), ('Act', '2018', 'declares'), ('2018', 'declares', '``'), ('declares', '``', 'exit'), ('``', 'exit', 'day'), ('exit', 'day', \"''\"), ('day', \"''\", 'to'), (\"''\", 'to', 'be'), ('to', 'be', '29'), ('be', '29', 'March'), ('29', 'March', '2019'), ('March', '2019', 'at'), ('2019', 'at', '11'), ('at', '11', 'p.m.'), ('11', 'p.m.', '('), ('p.m.', '(', 'Central'), ('(', 'Central', 'European'), ('Central', 'European', 'Time'), ('European', 'Time', ')'), ('Time', ')', '.'), (')', '.', 'Prime'), ('.', 'Prime', 'Minister'), ('Prime', 'Minister', 'Theresa'), ('Minister', 'Theresa', 'May'), ('Theresa', 'May', 'announced'), ('May', 'announced', 'the'), ('announced', 'the', 'government'), ('the', 'government', \"'s\"), ('government', \"'s\", 'intention'), (\"'s\", 'intention', 'not'), ('intention', 'not', 'to'), ('not', 'to', 'seek'), ('to', 'seek', 'permanent'), ('seek', 'permanent', 'membership'), ('permanent', 'membership', 'of'), ('membership', 'of', 'the'), ('of', 'the', 'European'), ('the', 'European', 'single'), ('European', 'single', 'market'), ('single', 'market', 'or'), ('market', 'or', 'the'), ('or', 'the', 'EU'), ('the', 'EU', 'customs'), ('EU', 'customs', 'union'), ('customs', 'union', 'after'), ('union', 'after', 'leaving'), ('after', 'leaving', 'the'), ('leaving', 'the', 'EU'), ('the', 'EU', 'and'), ('EU', 'and', 'promised'), ('and', 'promised', 'to'), ('promised', 'to', 'repeal'), ('to', 'repeal', 'the'), ('repeal', 'the', 'European'), ('the', 'European', 'Communities'), ('European', 'Communities', 'Act'), ('Communities', 'Act', 'of'), ('Act', 'of', '1972'), ('of', '1972', 'and'), ('1972', 'and', 'incorporate'), ('and', 'incorporate', 'existing'), ('incorporate', 'existing', 'European'), ('existing', 'European', 'Union'), ('European', 'Union', 'law'), ('Union', 'law', 'into'), ('law', 'into', 'UK'), ('into', 'UK', 'domestic'), ('UK', 'domestic', 'law'), ('domestic', 'law', '.'), ('law', '.', 'A'), ('.', 'A', 'new'), ('A', 'new', 'government'), ('new', 'government', 'department'), ('government', 'department', ','), ('department', ',', 'the'), (',', 'the', 'Department'), ('the', 'Department', 'for'), ('Department', 'for', 'Exiting'), ('for', 'Exiting', 'the'), ('Exiting', 'the', 'European'), ('the', 'European', 'Union'), ('European', 'Union', ','), ('Union', ',', 'was'), (',', 'was', 'created'), ('was', 'created', 'in'), ('created', 'in', 'July'), ('in', 'July', '2016'), ('July', '2016', '.'), ('2016', '.', 'Negotiations'), ('.', 'Negotiations', 'with'), ('Negotiations', 'with', 'the'), ('with', 'the', 'EU'), ('the', 'EU', 'officially'), ('EU', 'officially', 'started'), ('officially', 'started', 'in'), ('started', 'in', 'June'), ('in', 'June', '2017'), ('June', '2017', ','), ('2017', ',', 'aiming'), (',', 'aiming', 'to'), ('aiming', 'to', 'complete'), ('to', 'complete', 'the'), ('complete', 'the', 'withdrawal'), ('the', 'withdrawal', 'agreement'), ('withdrawal', 'agreement', 'by'), ('agreement', 'by', 'October'), ('by', 'October', '2018'), ('October', '2018', '.'), ('2018', '.', 'In'), ('.', 'In', 'June'), ('In', 'June', '2018'), ('June', '2018', ','), ('2018', ',', 'the'), (',', 'the', 'UK'), ('the', 'UK', 'and'), ('UK', 'and', 'the'), ('and', 'the', 'EU'), ('the', 'EU', 'published'), ('EU', 'published', 'a'), ('published', 'a', 'joint'), ('a', 'joint', 'progress'), ('joint', 'progress', 'report'), ('progress', 'report', 'outlining'), ('report', 'outlining', 'agreement'), ('outlining', 'agreement', 'on'), ('agreement', 'on', 'issues'), ('on', 'issues', 'including'), ('issues', 'including', 'customs'), ('including', 'customs', ','), ('customs', ',', 'VAT'), (',', 'VAT', 'and'), ('VAT', 'and', 'Euratom'), ('and', 'Euratom', '.'), ('Euratom', '.', 'The'), ('.', 'The', 'UK'), ('The', 'UK', 'joined'), ('UK', 'joined', 'the'), ('joined', 'the', 'European'), ('the', 'European', 'Communities'), ('European', 'Communities', '('), ('Communities', '(', 'EC'), ('(', 'EC', ')'), ('EC', ')', 'in'), (')', 'in', '1973'), ('in', '1973', ','), ('1973', ',', 'with'), (',', 'with', 'membership'), ('with', 'membership', 'confirmed'), ('membership', 'confirmed', 'by'), ('confirmed', 'by', 'a'), ('by', 'a', 'referendum'), ('a', 'referendum', 'in'), ('referendum', 'in', '1975'), ('in', '1975', '.'), ('1975', '.', 'In'), ('.', 'In', 'the'), ('In', 'the', '1970s'), ('the', '1970s', 'and'), ('1970s', 'and', '1980s'), ('and', '1980s', ','), ('1980s', ',', 'withdrawal'), (',', 'withdrawal', 'from'), ('withdrawal', 'from', 'the'), ('from', 'the', 'EC'), ('the', 'EC', 'was'), ('EC', 'was', 'advocated'), ('was', 'advocated', 'mainly'), ('advocated', 'mainly', 'by'), ('mainly', 'by', 'Labour'), ('by', 'Labour', 'Party'), ('Labour', 'Party', 'members'), ('Party', 'members', 'and'), ('members', 'and', 'trade'), ('and', 'trade', 'union'), ('trade', 'union', 'figures'), ('union', 'figures', '.'), ('figures', '.', 'From'), ('.', 'From', 'the'), ('From', 'the', '1990s'), ('the', '1990s', ','), ('1990s', ',', 'the'), (',', 'the', 'main'), ('the', 'main', 'advocates'), ('main', 'advocates', 'of'), ('advocates', 'of', 'withdrawal'), ('of', 'withdrawal', 'were'), ('withdrawal', 'were', 'the'), ('were', 'the', 'newly'), ('the', 'newly', 'founded'), ('newly', 'founded', 'UK'), ('founded', 'UK', 'Independence'), ('UK', 'Independence', 'Party'), ('Independence', 'Party', '('), ('Party', '(', 'UKIP'), ('(', 'UKIP', ')'), ('UKIP', ')', 'and'), (')', 'and', 'an'), ('and', 'an', 'increasing'), ('an', 'increasing', 'number'), ('increasing', 'number', 'of'), ('number', 'of', 'Eurosceptic'), ('of', 'Eurosceptic', 'Conservative'), ('Eurosceptic', 'Conservative', 'Party'), ('Conservative', 'Party', 'members'), ('Party', 'members', '.'), ('members', '.', 'Prime'), ('.', 'Prime', 'Minister'), ('Prime', 'Minister', 'David'), ('Minister', 'David', 'Cameron'), ('David', 'Cameron', 'held'), ('Cameron', 'held', 'the'), ('held', 'the', 'referendum'), ('the', 'referendum', 'in'), ('referendum', 'in', 'fulfilment'), ('in', 'fulfilment', 'of'), ('fulfilment', 'of', 'a'), ('of', 'a', '2015'), ('a', '2015', 'manifesto'), ('2015', 'manifesto', 'pledge'), ('manifesto', 'pledge', '.'), ('pledge', '.', 'Cameron'), ('.', 'Cameron', ','), ('Cameron', ',', 'who'), (',', 'who', 'had'), ('who', 'had', 'campaigned'), ('had', 'campaigned', 'for'), ('campaigned', 'for', '``'), ('for', '``', 'Remain'), ('``', 'Remain', \"''\"), ('Remain', \"''\", ','), (\"''\", ',', 'resigned'), (',', 'resigned', 'after'), ('resigned', 'after', 'the'), ('after', 'the', 'referendum'), ('the', 'referendum', 'result'), ('referendum', 'result', 'and'), ('result', 'and', 'was'), ('and', 'was', 'succeeded'), ('was', 'succeeded', 'by'), ('succeeded', 'by', 'Theresa'), ('by', 'Theresa', 'May'), ('Theresa', 'May', ','), ('May', ',', 'who'), (',', 'who', 'called'), ('who', 'called', 'a'), ('called', 'a', 'snap'), ('a', 'snap', 'general'), ('snap', 'general', 'election'), ('general', 'election', 'less'), ('election', 'less', 'than'), ('less', 'than', 'a'), ('than', 'a', 'year'), ('a', 'year', 'later'), ('year', 'later', ','), ('later', ',', 'in'), (',', 'in', 'which'), ('in', 'which', 'she'), ('which', 'she', 'lost'), ('she', 'lost', 'her'), ('lost', 'her', 'overall'), ('her', 'overall', 'majority'), ('overall', 'majority', '.'), ('majority', '.', 'Her'), ('.', 'Her', 'minority'), ('Her', 'minority', 'government'), ('minority', 'government', 'is'), ('government', 'is', 'supported'), ('is', 'supported', 'in'), ('supported', 'in', 'key'), ('in', 'key', 'votes'), ('key', 'votes', 'by'), ('votes', 'by', 'the'), ('by', 'the', 'Democratic'), ('the', 'Democratic', 'Unionist'), ('Democratic', 'Unionist', 'Party'), ('Unionist', 'Party', '.'), ('Party', '.', 'Six'), ('.', 'Six', 'weeks'), ('Six', 'weeks', 'after'), ('weeks', 'after', 'the'), ('after', 'the', 'referendum'), ('the', 'referendum', ','), ('referendum', ',', 'the'), (',', 'the', 'Bank'), ('the', 'Bank', 'of'), ('Bank', 'of', 'England'), ('of', 'England', 'introduced'), ('England', 'introduced', 'quantitative'), ('introduced', 'quantitative', 'easing'), ('quantitative', 'easing', 'and'), ('easing', 'and', 'lower'), ('and', 'lower', 'interest'), ('lower', 'interest', 'rates'), ('interest', 'rates', ','), ('rates', ',', 'thus'), (',', 'thus', 'allowing'), ('thus', 'allowing', 'both'), ('allowing', 'both', 'depreciation'), ('both', 'depreciation', 'of'), ('depreciation', 'of', 'sterling'), ('of', 'sterling', 'and'), ('sterling', 'and', 'a'), ('and', 'a', 'rise'), ('a', 'rise', 'in'), ('rise', 'in', 'inflation'), ('in', 'inflation', 'that'), ('inflation', 'that', 'outpaced'), ('that', 'outpaced', 'wage'), ('outpaced', 'wage', 'growth'), ('wage', 'growth', 'for'), ('growth', 'for', 'most'), ('for', 'most', 'of'), ('most', 'of', '2017'), ('of', '2017', '.'), ('2017', '.', 'The'), ('.', 'The', 'drop'), ('The', 'drop', 'in'), ('drop', 'in', 'the'), ('in', 'the', 'value'), ('the', 'value', 'of'), ('value', 'of', 'sterling'), ('of', 'sterling', 'has'), ('sterling', 'has', 'been'), ('has', 'been', 'claimed'), ('been', 'claimed', 'to'), ('claimed', 'to', 'have'), ('to', 'have', 'been'), ('have', 'been', 'caused'), ('been', 'caused', 'in'), ('caused', 'in', 'part'), ('in', 'part', 'by'), ('part', 'by', 'hedge-fund'), ('by', 'hedge-fund', 'managers'), ('hedge-fund', 'managers', 'betting'), ('managers', 'betting', 'on'), ('betting', 'on', 'Brexit'), ('on', 'Brexit', 'against'), ('Brexit', 'against', 'polls'), ('against', 'polls', 'predicting'), ('polls', 'predicting', 'a'), ('predicting', 'a', 'narrow'), ('a', 'narrow', 'victory'), ('narrow', 'victory', 'for'), ('victory', 'for', 'the'), ('for', 'the', '``'), ('the', '``', 'Remain'), ('``', 'Remain', \"''\"), ('Remain', \"''\", 'camp'), (\"''\", 'camp', '.'), ('camp', '.', 'There'), ('.', 'There', 'is'), ('There', 'is', 'a'), ('is', 'a', 'broad'), ('a', 'broad', 'consensus'), ('broad', 'consensus', 'in'), ('consensus', 'in', 'existing'), ('in', 'existing', 'economic'), ('existing', 'economic', 'research'), ('economic', 'research', 'that'), ('research', 'that', 'Brexit'), ('that', 'Brexit', 'is'), ('Brexit', 'is', 'likely'), ('is', 'likely', 'to'), ('likely', 'to', 'reduce'), ('to', 'reduce', 'the'), ('reduce', 'the', 'UK'), ('the', 'UK', \"'s\"), ('UK', \"'s\", 'real'), (\"'s\", 'real', 'per'), ('real', 'per', 'capita'), ('per', 'capita', 'income'), ('capita', 'income', 'in'), ('income', 'in', 'the'), ('in', 'the', 'medium'), ('the', 'medium', 'term'), ('medium', 'term', 'and'), ('term', 'and', 'long'), ('and', 'long', 'term'), ('long', 'term', '.'), ('term', '.', 'There'), ('.', 'There', 'is'), ('There', 'is', 'also'), ('is', 'also', 'agreement'), ('also', 'agreement', 'among'), ('agreement', 'among', 'economists'), ('among', 'economists', 'that'), ('economists', 'that', 'the'), ('that', 'the', 'Brexit'), ('the', 'Brexit', 'referendum'), ('Brexit', 'referendum', 'itself'), ('referendum', 'itself', 'damaged'), ('itself', 'damaged', 'the'), ('damaged', 'the', 'economy'), ('the', 'economy', 'in'), ('economy', 'in', 'the'), ('in', 'the', 'subsequent'), ('the', 'subsequent', 'two'), ('subsequent', 'two', 'years'), ('two', 'years', '.'), ('years', '.', 'Studies'), ('.', 'Studies', 'on'), ('Studies', 'on', 'effects'), ('on', 'effects', 'that'), ('effects', 'that', 'have'), ('that', 'have', 'materialised'), ('have', 'materialised', 'since'), ('materialised', 'since', 'the'), ('since', 'the', 'referendum'), ('the', 'referendum', 'show'), ('referendum', 'show', 'annual'), ('show', 'annual', 'losses'), ('annual', 'losses', 'of'), ('losses', 'of', '£404'), ('of', '£404', 'for'), ('£404', 'for', 'the'), ('for', 'the', 'average'), ('the', 'average', 'UK'), ('average', 'UK', 'household'), ('UK', 'household', ','), ('household', ',', 'and'), (',', 'and', 'losses'), ('and', 'losses', 'between'), ('losses', 'between', '1.3'), ('between', '1.3', '%'), ('1.3', '%', 'and'), ('%', 'and', '2.1'), ('and', '2.1', '%'), ('2.1', '%', 'of'), ('%', 'of', 'UK'), ('of', 'UK', 'GDP'), ('UK', 'GDP', '.'), ('GDP', '.', 'Brexit'), ('.', 'Brexit', 'is'), ('Brexit', 'is', 'likely'), ('is', 'likely', 'to'), ('likely', 'to', 'reduce'), ('to', 'reduce', 'immigration'), ('reduce', 'immigration', 'from'), ('immigration', 'from', 'European'), ('from', 'European', 'Economic'), ('European', 'Economic', 'Area'), ('Economic', 'Area', '('), ('Area', '(', 'EEA'), ('(', 'EEA', ')'), ('EEA', ')', 'countries'), (')', 'countries', 'to'), ('countries', 'to', 'the'), ('to', 'the', 'UK'), ('the', 'UK', ','), ('UK', ',', 'and'), (',', 'and', 'poses'), ('and', 'poses', 'challenges'), ('poses', 'challenges', 'for'), ('challenges', 'for', 'UK'), ('for', 'UK', 'higher'), ('UK', 'higher', 'education'), ('higher', 'education', 'and'), ('education', 'and', 'academic'), ('and', 'academic', 'research'), ('academic', 'research', '.'), ('research', '.', 'As'), ('.', 'As', 'of'), ('As', 'of', 'June'), ('of', 'June', '2018'), ('June', '2018', ','), ('2018', ',', 'the'), (',', 'the', 'size'), ('the', 'size', 'of'), ('size', 'of', 'the'), ('of', 'the', '``'), ('the', '``', 'divorce'), ('``', 'divorce', 'bill'), ('divorce', 'bill', \"''\"), ('bill', \"''\", ','), (\"''\", ',', 'the'), (',', 'the', 'UK'), ('the', 'UK', \"'s\"), ('UK', \"'s\", 'inheritance'), (\"'s\", 'inheritance', 'of'), ('inheritance', 'of', 'existing'), ('of', 'existing', 'EU'), ('existing', 'EU', 'trade'), ('EU', 'trade', 'agreements'), ('trade', 'agreements', ','), ('agreements', ',', 'and'), (',', 'and', 'relations'), ('and', 'relations', 'with'), ('relations', 'with', 'Ireland'), ('with', 'Ireland', 'and'), ('Ireland', 'and', 'other'), ('and', 'other', 'EU'), ('other', 'EU', 'member'), ('EU', 'member', 'states'), ('member', 'states', 'remain'), ('states', 'remain', 'uncertain'), ('remain', 'uncertain', '.'), ('uncertain', '.', 'The'), ('.', 'The', 'precise'), ('The', 'precise', 'impact'), ('precise', 'impact', 'on'), ('impact', 'on', 'the'), ('on', 'the', 'UK'), ('the', 'UK', 'depends'), ('UK', 'depends', 'on'), ('depends', 'on', 'whether'), ('on', 'whether', 'the'), ('whether', 'the', 'process'), ('the', 'process', 'will'), ('process', 'will', 'be'), ('will', 'be', 'a'), ('be', 'a', \"''\"), ('a', \"''\", 'hard'), (\"''\", 'hard', \"''\"), ('hard', \"''\", 'or'), (\"''\", 'or', 'a'), ('or', 'a', '``'), ('a', '``', 'soft'), ('``', 'soft', \"''\"), ('soft', \"''\", 'Brexit'), (\"''\", 'Brexit', '.')]\n",
      "[('Brexit', 'is', 'the', 'impending'), ('is', 'the', 'impending', 'withdrawal'), ('the', 'impending', 'withdrawal', 'of'), ('impending', 'withdrawal', 'of', 'the'), ('withdrawal', 'of', 'the', 'United'), ('of', 'the', 'United', 'Kingdom'), ('the', 'United', 'Kingdom', '('), ('United', 'Kingdom', '(', 'UK'), ('Kingdom', '(', 'UK', ')'), ('(', 'UK', ')', 'from'), ('UK', ')', 'from', 'the'), (')', 'from', 'the', 'European'), ('from', 'the', 'European', 'Union'), ('the', 'European', 'Union', '('), ('European', 'Union', '(', 'EU'), ('Union', '(', 'EU', ')'), ('(', 'EU', ')', '.'), ('EU', ')', '.', 'In'), (')', '.', 'In', 'a'), ('.', 'In', 'a', 'referendum'), ('In', 'a', 'referendum', 'on'), ('a', 'referendum', 'on', '23'), ('referendum', 'on', '23', 'June'), ('on', '23', 'June', '2016'), ('23', 'June', '2016', ','), ('June', '2016', ',', 'a'), ('2016', ',', 'a', 'majority'), (',', 'a', 'majority', 'of'), ('a', 'majority', 'of', 'British'), ('majority', 'of', 'British', 'voters'), ('of', 'British', 'voters', 'supported'), ('British', 'voters', 'supported', 'leaving'), ('voters', 'supported', 'leaving', 'the'), ('supported', 'leaving', 'the', 'EU'), ('leaving', 'the', 'EU', '.'), ('the', 'EU', '.', 'On'), ('EU', '.', 'On', '29'), ('.', 'On', '29', 'March'), ('On', '29', 'March', '2017'), ('29', 'March', '2017', ','), ('March', '2017', ',', 'the'), ('2017', ',', 'the', 'UK'), (',', 'the', 'UK', 'government'), ('the', 'UK', 'government', 'invoked'), ('UK', 'government', 'invoked', 'Article'), ('government', 'invoked', 'Article', '50'), ('invoked', 'Article', '50', 'of'), ('Article', '50', 'of', 'the'), ('50', 'of', 'the', 'Treaty'), ('of', 'the', 'Treaty', 'on'), ('the', 'Treaty', 'on', 'European'), ('Treaty', 'on', 'European', 'Union'), ('on', 'European', 'Union', '.'), ('European', 'Union', '.', 'The'), ('Union', '.', 'The', 'European'), ('.', 'The', 'European', 'Union'), ('The', 'European', 'Union', '('), ('European', 'Union', '(', 'Withdrawal'), ('Union', '(', 'Withdrawal', ')'), ('(', 'Withdrawal', ')', 'Act'), ('Withdrawal', ')', 'Act', '2018'), (')', 'Act', '2018', 'declares'), ('Act', '2018', 'declares', '``'), ('2018', 'declares', '``', 'exit'), ('declares', '``', 'exit', 'day'), ('``', 'exit', 'day', \"''\"), ('exit', 'day', \"''\", 'to'), ('day', \"''\", 'to', 'be'), (\"''\", 'to', 'be', '29'), ('to', 'be', '29', 'March'), ('be', '29', 'March', '2019'), ('29', 'March', '2019', 'at'), ('March', '2019', 'at', '11'), ('2019', 'at', '11', 'p.m.'), ('at', '11', 'p.m.', '('), ('11', 'p.m.', '(', 'Central'), ('p.m.', '(', 'Central', 'European'), ('(', 'Central', 'European', 'Time'), ('Central', 'European', 'Time', ')'), ('European', 'Time', ')', '.'), ('Time', ')', '.', 'Prime'), (')', '.', 'Prime', 'Minister'), ('.', 'Prime', 'Minister', 'Theresa'), ('Prime', 'Minister', 'Theresa', 'May'), ('Minister', 'Theresa', 'May', 'announced'), ('Theresa', 'May', 'announced', 'the'), ('May', 'announced', 'the', 'government'), ('announced', 'the', 'government', \"'s\"), ('the', 'government', \"'s\", 'intention'), ('government', \"'s\", 'intention', 'not'), (\"'s\", 'intention', 'not', 'to'), ('intention', 'not', 'to', 'seek'), ('not', 'to', 'seek', 'permanent'), ('to', 'seek', 'permanent', 'membership'), ('seek', 'permanent', 'membership', 'of'), ('permanent', 'membership', 'of', 'the'), ('membership', 'of', 'the', 'European'), ('of', 'the', 'European', 'single'), ('the', 'European', 'single', 'market'), ('European', 'single', 'market', 'or'), ('single', 'market', 'or', 'the'), ('market', 'or', 'the', 'EU'), ('or', 'the', 'EU', 'customs'), ('the', 'EU', 'customs', 'union'), ('EU', 'customs', 'union', 'after'), ('customs', 'union', 'after', 'leaving'), ('union', 'after', 'leaving', 'the'), ('after', 'leaving', 'the', 'EU'), ('leaving', 'the', 'EU', 'and'), ('the', 'EU', 'and', 'promised'), ('EU', 'and', 'promised', 'to'), ('and', 'promised', 'to', 'repeal'), ('promised', 'to', 'repeal', 'the'), ('to', 'repeal', 'the', 'European'), ('repeal', 'the', 'European', 'Communities'), ('the', 'European', 'Communities', 'Act'), ('European', 'Communities', 'Act', 'of'), ('Communities', 'Act', 'of', '1972'), ('Act', 'of', '1972', 'and'), ('of', '1972', 'and', 'incorporate'), ('1972', 'and', 'incorporate', 'existing'), ('and', 'incorporate', 'existing', 'European'), ('incorporate', 'existing', 'European', 'Union'), ('existing', 'European', 'Union', 'law'), ('European', 'Union', 'law', 'into'), ('Union', 'law', 'into', 'UK'), ('law', 'into', 'UK', 'domestic'), ('into', 'UK', 'domestic', 'law'), ('UK', 'domestic', 'law', '.'), ('domestic', 'law', '.', 'A'), ('law', '.', 'A', 'new'), ('.', 'A', 'new', 'government'), ('A', 'new', 'government', 'department'), ('new', 'government', 'department', ','), ('government', 'department', ',', 'the'), ('department', ',', 'the', 'Department'), (',', 'the', 'Department', 'for'), ('the', 'Department', 'for', 'Exiting'), ('Department', 'for', 'Exiting', 'the'), ('for', 'Exiting', 'the', 'European'), ('Exiting', 'the', 'European', 'Union'), ('the', 'European', 'Union', ','), ('European', 'Union', ',', 'was'), ('Union', ',', 'was', 'created'), (',', 'was', 'created', 'in'), ('was', 'created', 'in', 'July'), ('created', 'in', 'July', '2016'), ('in', 'July', '2016', '.'), ('July', '2016', '.', 'Negotiations'), ('2016', '.', 'Negotiations', 'with'), ('.', 'Negotiations', 'with', 'the'), ('Negotiations', 'with', 'the', 'EU'), ('with', 'the', 'EU', 'officially'), ('the', 'EU', 'officially', 'started'), ('EU', 'officially', 'started', 'in'), ('officially', 'started', 'in', 'June'), ('started', 'in', 'June', '2017'), ('in', 'June', '2017', ','), ('June', '2017', ',', 'aiming'), ('2017', ',', 'aiming', 'to'), (',', 'aiming', 'to', 'complete'), ('aiming', 'to', 'complete', 'the'), ('to', 'complete', 'the', 'withdrawal'), ('complete', 'the', 'withdrawal', 'agreement'), ('the', 'withdrawal', 'agreement', 'by'), ('withdrawal', 'agreement', 'by', 'October'), ('agreement', 'by', 'October', '2018'), ('by', 'October', '2018', '.'), ('October', '2018', '.', 'In'), ('2018', '.', 'In', 'June'), ('.', 'In', 'June', '2018'), ('In', 'June', '2018', ','), ('June', '2018', ',', 'the'), ('2018', ',', 'the', 'UK'), (',', 'the', 'UK', 'and'), ('the', 'UK', 'and', 'the'), ('UK', 'and', 'the', 'EU'), ('and', 'the', 'EU', 'published'), ('the', 'EU', 'published', 'a'), ('EU', 'published', 'a', 'joint'), ('published', 'a', 'joint', 'progress'), ('a', 'joint', 'progress', 'report'), ('joint', 'progress', 'report', 'outlining'), ('progress', 'report', 'outlining', 'agreement'), ('report', 'outlining', 'agreement', 'on'), ('outlining', 'agreement', 'on', 'issues'), ('agreement', 'on', 'issues', 'including'), ('on', 'issues', 'including', 'customs'), ('issues', 'including', 'customs', ','), ('including', 'customs', ',', 'VAT'), ('customs', ',', 'VAT', 'and'), (',', 'VAT', 'and', 'Euratom'), ('VAT', 'and', 'Euratom', '.'), ('and', 'Euratom', '.', 'The'), ('Euratom', '.', 'The', 'UK'), ('.', 'The', 'UK', 'joined'), ('The', 'UK', 'joined', 'the'), ('UK', 'joined', 'the', 'European'), ('joined', 'the', 'European', 'Communities'), ('the', 'European', 'Communities', '('), ('European', 'Communities', '(', 'EC'), ('Communities', '(', 'EC', ')'), ('(', 'EC', ')', 'in'), ('EC', ')', 'in', '1973'), (')', 'in', '1973', ','), ('in', '1973', ',', 'with'), ('1973', ',', 'with', 'membership'), (',', 'with', 'membership', 'confirmed'), ('with', 'membership', 'confirmed', 'by'), ('membership', 'confirmed', 'by', 'a'), ('confirmed', 'by', 'a', 'referendum'), ('by', 'a', 'referendum', 'in'), ('a', 'referendum', 'in', '1975'), ('referendum', 'in', '1975', '.'), ('in', '1975', '.', 'In'), ('1975', '.', 'In', 'the'), ('.', 'In', 'the', '1970s'), ('In', 'the', '1970s', 'and'), ('the', '1970s', 'and', '1980s'), ('1970s', 'and', '1980s', ','), ('and', '1980s', ',', 'withdrawal'), ('1980s', ',', 'withdrawal', 'from'), (',', 'withdrawal', 'from', 'the'), ('withdrawal', 'from', 'the', 'EC'), ('from', 'the', 'EC', 'was'), ('the', 'EC', 'was', 'advocated'), ('EC', 'was', 'advocated', 'mainly'), ('was', 'advocated', 'mainly', 'by'), ('advocated', 'mainly', 'by', 'Labour'), ('mainly', 'by', 'Labour', 'Party'), ('by', 'Labour', 'Party', 'members'), ('Labour', 'Party', 'members', 'and'), ('Party', 'members', 'and', 'trade'), ('members', 'and', 'trade', 'union'), ('and', 'trade', 'union', 'figures'), ('trade', 'union', 'figures', '.'), ('union', 'figures', '.', 'From'), ('figures', '.', 'From', 'the'), ('.', 'From', 'the', '1990s'), ('From', 'the', '1990s', ','), ('the', '1990s', ',', 'the'), ('1990s', ',', 'the', 'main'), (',', 'the', 'main', 'advocates'), ('the', 'main', 'advocates', 'of'), ('main', 'advocates', 'of', 'withdrawal'), ('advocates', 'of', 'withdrawal', 'were'), ('of', 'withdrawal', 'were', 'the'), ('withdrawal', 'were', 'the', 'newly'), ('were', 'the', 'newly', 'founded'), ('the', 'newly', 'founded', 'UK'), ('newly', 'founded', 'UK', 'Independence'), ('founded', 'UK', 'Independence', 'Party'), ('UK', 'Independence', 'Party', '('), ('Independence', 'Party', '(', 'UKIP'), ('Party', '(', 'UKIP', ')'), ('(', 'UKIP', ')', 'and'), ('UKIP', ')', 'and', 'an'), (')', 'and', 'an', 'increasing'), ('and', 'an', 'increasing', 'number'), ('an', 'increasing', 'number', 'of'), ('increasing', 'number', 'of', 'Eurosceptic'), ('number', 'of', 'Eurosceptic', 'Conservative'), ('of', 'Eurosceptic', 'Conservative', 'Party'), ('Eurosceptic', 'Conservative', 'Party', 'members'), ('Conservative', 'Party', 'members', '.'), ('Party', 'members', '.', 'Prime'), ('members', '.', 'Prime', 'Minister'), ('.', 'Prime', 'Minister', 'David'), ('Prime', 'Minister', 'David', 'Cameron'), ('Minister', 'David', 'Cameron', 'held'), ('David', 'Cameron', 'held', 'the'), ('Cameron', 'held', 'the', 'referendum'), ('held', 'the', 'referendum', 'in'), ('the', 'referendum', 'in', 'fulfilment'), ('referendum', 'in', 'fulfilment', 'of'), ('in', 'fulfilment', 'of', 'a'), ('fulfilment', 'of', 'a', '2015'), ('of', 'a', '2015', 'manifesto'), ('a', '2015', 'manifesto', 'pledge'), ('2015', 'manifesto', 'pledge', '.'), ('manifesto', 'pledge', '.', 'Cameron'), ('pledge', '.', 'Cameron', ','), ('.', 'Cameron', ',', 'who'), ('Cameron', ',', 'who', 'had'), (',', 'who', 'had', 'campaigned'), ('who', 'had', 'campaigned', 'for'), ('had', 'campaigned', 'for', '``'), ('campaigned', 'for', '``', 'Remain'), ('for', '``', 'Remain', \"''\"), ('``', 'Remain', \"''\", ','), ('Remain', \"''\", ',', 'resigned'), (\"''\", ',', 'resigned', 'after'), (',', 'resigned', 'after', 'the'), ('resigned', 'after', 'the', 'referendum'), ('after', 'the', 'referendum', 'result'), ('the', 'referendum', 'result', 'and'), ('referendum', 'result', 'and', 'was'), ('result', 'and', 'was', 'succeeded'), ('and', 'was', 'succeeded', 'by'), ('was', 'succeeded', 'by', 'Theresa'), ('succeeded', 'by', 'Theresa', 'May'), ('by', 'Theresa', 'May', ','), ('Theresa', 'May', ',', 'who'), ('May', ',', 'who', 'called'), (',', 'who', 'called', 'a'), ('who', 'called', 'a', 'snap'), ('called', 'a', 'snap', 'general'), ('a', 'snap', 'general', 'election'), ('snap', 'general', 'election', 'less'), ('general', 'election', 'less', 'than'), ('election', 'less', 'than', 'a'), ('less', 'than', 'a', 'year'), ('than', 'a', 'year', 'later'), ('a', 'year', 'later', ','), ('year', 'later', ',', 'in'), ('later', ',', 'in', 'which'), (',', 'in', 'which', 'she'), ('in', 'which', 'she', 'lost'), ('which', 'she', 'lost', 'her'), ('she', 'lost', 'her', 'overall'), ('lost', 'her', 'overall', 'majority'), ('her', 'overall', 'majority', '.'), ('overall', 'majority', '.', 'Her'), ('majority', '.', 'Her', 'minority'), ('.', 'Her', 'minority', 'government'), ('Her', 'minority', 'government', 'is'), ('minority', 'government', 'is', 'supported'), ('government', 'is', 'supported', 'in'), ('is', 'supported', 'in', 'key'), ('supported', 'in', 'key', 'votes'), ('in', 'key', 'votes', 'by'), ('key', 'votes', 'by', 'the'), ('votes', 'by', 'the', 'Democratic'), ('by', 'the', 'Democratic', 'Unionist'), ('the', 'Democratic', 'Unionist', 'Party'), ('Democratic', 'Unionist', 'Party', '.'), ('Unionist', 'Party', '.', 'Six'), ('Party', '.', 'Six', 'weeks'), ('.', 'Six', 'weeks', 'after'), ('Six', 'weeks', 'after', 'the'), ('weeks', 'after', 'the', 'referendum'), ('after', 'the', 'referendum', ','), ('the', 'referendum', ',', 'the'), ('referendum', ',', 'the', 'Bank'), (',', 'the', 'Bank', 'of'), ('the', 'Bank', 'of', 'England'), ('Bank', 'of', 'England', 'introduced'), ('of', 'England', 'introduced', 'quantitative'), ('England', 'introduced', 'quantitative', 'easing'), ('introduced', 'quantitative', 'easing', 'and'), ('quantitative', 'easing', 'and', 'lower'), ('easing', 'and', 'lower', 'interest'), ('and', 'lower', 'interest', 'rates'), ('lower', 'interest', 'rates', ','), ('interest', 'rates', ',', 'thus'), ('rates', ',', 'thus', 'allowing'), (',', 'thus', 'allowing', 'both'), ('thus', 'allowing', 'both', 'depreciation'), ('allowing', 'both', 'depreciation', 'of'), ('both', 'depreciation', 'of', 'sterling'), ('depreciation', 'of', 'sterling', 'and'), ('of', 'sterling', 'and', 'a'), ('sterling', 'and', 'a', 'rise'), ('and', 'a', 'rise', 'in'), ('a', 'rise', 'in', 'inflation'), ('rise', 'in', 'inflation', 'that'), ('in', 'inflation', 'that', 'outpaced'), ('inflation', 'that', 'outpaced', 'wage'), ('that', 'outpaced', 'wage', 'growth'), ('outpaced', 'wage', 'growth', 'for'), ('wage', 'growth', 'for', 'most'), ('growth', 'for', 'most', 'of'), ('for', 'most', 'of', '2017'), ('most', 'of', '2017', '.'), ('of', '2017', '.', 'The'), ('2017', '.', 'The', 'drop'), ('.', 'The', 'drop', 'in'), ('The', 'drop', 'in', 'the'), ('drop', 'in', 'the', 'value'), ('in', 'the', 'value', 'of'), ('the', 'value', 'of', 'sterling'), ('value', 'of', 'sterling', 'has'), ('of', 'sterling', 'has', 'been'), ('sterling', 'has', 'been', 'claimed'), ('has', 'been', 'claimed', 'to'), ('been', 'claimed', 'to', 'have'), ('claimed', 'to', 'have', 'been'), ('to', 'have', 'been', 'caused'), ('have', 'been', 'caused', 'in'), ('been', 'caused', 'in', 'part'), ('caused', 'in', 'part', 'by'), ('in', 'part', 'by', 'hedge-fund'), ('part', 'by', 'hedge-fund', 'managers'), ('by', 'hedge-fund', 'managers', 'betting'), ('hedge-fund', 'managers', 'betting', 'on'), ('managers', 'betting', 'on', 'Brexit'), ('betting', 'on', 'Brexit', 'against'), ('on', 'Brexit', 'against', 'polls'), ('Brexit', 'against', 'polls', 'predicting'), ('against', 'polls', 'predicting', 'a'), ('polls', 'predicting', 'a', 'narrow'), ('predicting', 'a', 'narrow', 'victory'), ('a', 'narrow', 'victory', 'for'), ('narrow', 'victory', 'for', 'the'), ('victory', 'for', 'the', '``'), ('for', 'the', '``', 'Remain'), ('the', '``', 'Remain', \"''\"), ('``', 'Remain', \"''\", 'camp'), ('Remain', \"''\", 'camp', '.'), (\"''\", 'camp', '.', 'There'), ('camp', '.', 'There', 'is'), ('.', 'There', 'is', 'a'), ('There', 'is', 'a', 'broad'), ('is', 'a', 'broad', 'consensus'), ('a', 'broad', 'consensus', 'in'), ('broad', 'consensus', 'in', 'existing'), ('consensus', 'in', 'existing', 'economic'), ('in', 'existing', 'economic', 'research'), ('existing', 'economic', 'research', 'that'), ('economic', 'research', 'that', 'Brexit'), ('research', 'that', 'Brexit', 'is'), ('that', 'Brexit', 'is', 'likely'), ('Brexit', 'is', 'likely', 'to'), ('is', 'likely', 'to', 'reduce'), ('likely', 'to', 'reduce', 'the'), ('to', 'reduce', 'the', 'UK'), ('reduce', 'the', 'UK', \"'s\"), ('the', 'UK', \"'s\", 'real'), ('UK', \"'s\", 'real', 'per'), (\"'s\", 'real', 'per', 'capita'), ('real', 'per', 'capita', 'income'), ('per', 'capita', 'income', 'in'), ('capita', 'income', 'in', 'the'), ('income', 'in', 'the', 'medium'), ('in', 'the', 'medium', 'term'), ('the', 'medium', 'term', 'and'), ('medium', 'term', 'and', 'long'), ('term', 'and', 'long', 'term'), ('and', 'long', 'term', '.'), ('long', 'term', '.', 'There'), ('term', '.', 'There', 'is'), ('.', 'There', 'is', 'also'), ('There', 'is', 'also', 'agreement'), ('is', 'also', 'agreement', 'among'), ('also', 'agreement', 'among', 'economists'), ('agreement', 'among', 'economists', 'that'), ('among', 'economists', 'that', 'the'), ('economists', 'that', 'the', 'Brexit'), ('that', 'the', 'Brexit', 'referendum'), ('the', 'Brexit', 'referendum', 'itself'), ('Brexit', 'referendum', 'itself', 'damaged'), ('referendum', 'itself', 'damaged', 'the'), ('itself', 'damaged', 'the', 'economy'), ('damaged', 'the', 'economy', 'in'), ('the', 'economy', 'in', 'the'), ('economy', 'in', 'the', 'subsequent'), ('in', 'the', 'subsequent', 'two'), ('the', 'subsequent', 'two', 'years'), ('subsequent', 'two', 'years', '.'), ('two', 'years', '.', 'Studies'), ('years', '.', 'Studies', 'on'), ('.', 'Studies', 'on', 'effects'), ('Studies', 'on', 'effects', 'that'), ('on', 'effects', 'that', 'have'), ('effects', 'that', 'have', 'materialised'), ('that', 'have', 'materialised', 'since'), ('have', 'materialised', 'since', 'the'), ('materialised', 'since', 'the', 'referendum'), ('since', 'the', 'referendum', 'show'), ('the', 'referendum', 'show', 'annual'), ('referendum', 'show', 'annual', 'losses'), ('show', 'annual', 'losses', 'of'), ('annual', 'losses', 'of', '£404'), ('losses', 'of', '£404', 'for'), ('of', '£404', 'for', 'the'), ('£404', 'for', 'the', 'average'), ('for', 'the', 'average', 'UK'), ('the', 'average', 'UK', 'household'), ('average', 'UK', 'household', ','), ('UK', 'household', ',', 'and'), ('household', ',', 'and', 'losses'), (',', 'and', 'losses', 'between'), ('and', 'losses', 'between', '1.3'), ('losses', 'between', '1.3', '%'), ('between', '1.3', '%', 'and'), ('1.3', '%', 'and', '2.1'), ('%', 'and', '2.1', '%'), ('and', '2.1', '%', 'of'), ('2.1', '%', 'of', 'UK'), ('%', 'of', 'UK', 'GDP'), ('of', 'UK', 'GDP', '.'), ('UK', 'GDP', '.', 'Brexit'), ('GDP', '.', 'Brexit', 'is'), ('.', 'Brexit', 'is', 'likely'), ('Brexit', 'is', 'likely', 'to'), ('is', 'likely', 'to', 'reduce'), ('likely', 'to', 'reduce', 'immigration'), ('to', 'reduce', 'immigration', 'from'), ('reduce', 'immigration', 'from', 'European'), ('immigration', 'from', 'European', 'Economic'), ('from', 'European', 'Economic', 'Area'), ('European', 'Economic', 'Area', '('), ('Economic', 'Area', '(', 'EEA'), ('Area', '(', 'EEA', ')'), ('(', 'EEA', ')', 'countries'), ('EEA', ')', 'countries', 'to'), (')', 'countries', 'to', 'the'), ('countries', 'to', 'the', 'UK'), ('to', 'the', 'UK', ','), ('the', 'UK', ',', 'and'), ('UK', ',', 'and', 'poses'), (',', 'and', 'poses', 'challenges'), ('and', 'poses', 'challenges', 'for'), ('poses', 'challenges', 'for', 'UK'), ('challenges', 'for', 'UK', 'higher'), ('for', 'UK', 'higher', 'education'), ('UK', 'higher', 'education', 'and'), ('higher', 'education', 'and', 'academic'), ('education', 'and', 'academic', 'research'), ('and', 'academic', 'research', '.'), ('academic', 'research', '.', 'As'), ('research', '.', 'As', 'of'), ('.', 'As', 'of', 'June'), ('As', 'of', 'June', '2018'), ('of', 'June', '2018', ','), ('June', '2018', ',', 'the'), ('2018', ',', 'the', 'size'), (',', 'the', 'size', 'of'), ('the', 'size', 'of', 'the'), ('size', 'of', 'the', '``'), ('of', 'the', '``', 'divorce'), ('the', '``', 'divorce', 'bill'), ('``', 'divorce', 'bill', \"''\"), ('divorce', 'bill', \"''\", ','), ('bill', \"''\", ',', 'the'), (\"''\", ',', 'the', 'UK'), (',', 'the', 'UK', \"'s\"), ('the', 'UK', \"'s\", 'inheritance'), ('UK', \"'s\", 'inheritance', 'of'), (\"'s\", 'inheritance', 'of', 'existing'), ('inheritance', 'of', 'existing', 'EU'), ('of', 'existing', 'EU', 'trade'), ('existing', 'EU', 'trade', 'agreements'), ('EU', 'trade', 'agreements', ','), ('trade', 'agreements', ',', 'and'), ('agreements', ',', 'and', 'relations'), (',', 'and', 'relations', 'with'), ('and', 'relations', 'with', 'Ireland'), ('relations', 'with', 'Ireland', 'and'), ('with', 'Ireland', 'and', 'other'), ('Ireland', 'and', 'other', 'EU'), ('and', 'other', 'EU', 'member'), ('other', 'EU', 'member', 'states'), ('EU', 'member', 'states', 'remain'), ('member', 'states', 'remain', 'uncertain'), ('states', 'remain', 'uncertain', '.'), ('remain', 'uncertain', '.', 'The'), ('uncertain', '.', 'The', 'precise'), ('.', 'The', 'precise', 'impact'), ('The', 'precise', 'impact', 'on'), ('precise', 'impact', 'on', 'the'), ('impact', 'on', 'the', 'UK'), ('on', 'the', 'UK', 'depends'), ('the', 'UK', 'depends', 'on'), ('UK', 'depends', 'on', 'whether'), ('depends', 'on', 'whether', 'the'), ('on', 'whether', 'the', 'process'), ('whether', 'the', 'process', 'will'), ('the', 'process', 'will', 'be'), ('process', 'will', 'be', 'a'), ('will', 'be', 'a', \"''\"), ('be', 'a', \"''\", 'hard'), ('a', \"''\", 'hard', \"''\"), (\"''\", 'hard', \"''\", 'or'), ('hard', \"''\", 'or', 'a'), (\"''\", 'or', 'a', '``'), ('or', 'a', '``', 'soft'), ('a', '``', 'soft', \"''\"), ('``', 'soft', \"''\", 'Brexit'), ('soft', \"''\", 'Brexit', '.')]\n"
     ]
    }
   ],
   "source": [
    "def GetNGrams(str, n):\n",
    "    tokens = word_tokenize(str)\n",
    "    return ngrams(tokens, n)\n",
    "\n",
    "print(list(GetNGrams(brexit_text, 2)))\n",
    "print(list(GetNGrams(brexit_text, 3)))\n",
    "print(list(GetNGrams(brexit_text, 4)))"
   ]
  },
  {
   "cell_type": "code",
   "execution_count": 40,
   "metadata": {},
   "outputs": [],
   "source": [
    "# nltk.download('averaged_perceptron_tagger')\n",
    "\n",
    "# from collections import Counter\n",
    "# pos_counts = Counter(tag for word,tag in brexit_pos)\n",
    "# print(\"Brexit Total POS:\")\n",
    "# print(dict(pos_counts.items()))"
   ]
  },
  {
   "cell_type": "markdown",
   "metadata": {},
   "source": [
    "Question 2:"
   ]
  },
  {
   "cell_type": "code",
   "execution_count": 41,
   "metadata": {},
   "outputs": [
    {
     "name": "stdout",
     "output_type": "stream",
     "text": [
      "Nouns Count:  195\n"
     ]
    }
   ],
   "source": [
    "fdist_noun = FreqDist()\n",
    "\n",
    "def NounsCount(txt):\n",
    "    nouns_count = 0\n",
    "\n",
    "    brexit_pos = nltk.pos_tag(word_tokenize(txt))\n",
    "    for word, tag in brexit_pos:\n",
    "        if tag in ['NN', 'NNP', 'NNS', 'NNPS']:\n",
    "            nouns_count = nouns_count + 1\n",
    "            fdist_noun[word.upper()] += 1\n",
    "    \n",
    "    return nouns_count\n",
    "\n",
    "print(\"Nouns Count: \", NounsCount(brexit_text))"
   ]
  },
  {
   "cell_type": "code",
   "execution_count": 42,
   "metadata": {},
   "outputs": [
    {
     "name": "stdout",
     "output_type": "stream",
     "text": [
      "Pronouns Count:  6\n"
     ]
    }
   ],
   "source": [
    "def PronounsCount(txt):\n",
    "    pronouns_count = 0\n",
    "\n",
    "    brexit_pos = nltk.pos_tag(word_tokenize(txt))\n",
    "    for word, tag in brexit_pos:\n",
    "        if tag in ['PRP', 'PRP$', 'WP', 'WP$']:\n",
    "            pronouns_count = pronouns_count + 1\n",
    "    \n",
    "    return pronouns_count\n",
    "\n",
    "print(\"Pronouns Count: \", PronounsCount(brexit_text))"
   ]
  },
  {
   "cell_type": "code",
   "execution_count": 43,
   "metadata": {},
   "outputs": [
    {
     "name": "stdout",
     "output_type": "stream",
     "text": [
      "Adjectives Count:  41\n"
     ]
    }
   ],
   "source": [
    "def AdjectivesCount(txt):\n",
    "    adjective_count = 0\n",
    "\n",
    "    brexit_pos = nltk.pos_tag(word_tokenize(txt))\n",
    "    for word, tag in brexit_pos:\n",
    "        if tag in ['JJ', 'JJS', 'JJR']:\n",
    "            adjective_count = adjective_count + 1\n",
    "    \n",
    "    return adjective_count\n",
    "\n",
    "print(\"Adjectives Count: \", AdjectivesCount(brexit_text))"
   ]
  },
  {
   "cell_type": "code",
   "execution_count": 44,
   "metadata": {},
   "outputs": [
    {
     "name": "stdout",
     "output_type": "stream",
     "text": [
      "Verbs Count:  67\n"
     ]
    }
   ],
   "source": [
    "def VerbsCount(txt):\n",
    "    verbs_count = 0\n",
    "\n",
    "    brexit_pos = nltk.pos_tag(word_tokenize(txt))\n",
    "    for word, tag in brexit_pos:\n",
    "        if tag in ['VB', 'VBD', 'VBG', 'VBN', 'VBP', 'VBZ']:\n",
    "            verbs_count = verbs_count + 1\n",
    "    \n",
    "    return verbs_count\n",
    "\n",
    "print(\"Verbs Count: \", VerbsCount(brexit_text))"
   ]
  },
  {
   "cell_type": "code",
   "execution_count": 45,
   "metadata": {},
   "outputs": [
    {
     "name": "stdout",
     "output_type": "stream",
     "text": [
      "Adverbs Count:  7\n"
     ]
    }
   ],
   "source": [
    "def AdverbsCount(txt):\n",
    "    adverbs_count = 0\n",
    "\n",
    "    brexit_pos = nltk.pos_tag(word_tokenize(txt))\n",
    "    for word, tag in brexit_pos:\n",
    "        if tag in ['RB', 'RBS', 'RBR']:\n",
    "            adverbs_count = adverbs_count + 1\n",
    "    \n",
    "    return adverbs_count\n",
    "\n",
    "print(\"Adverbs Count: \", AdverbsCount(brexit_text))"
   ]
  },
  {
   "cell_type": "code",
   "execution_count": 46,
   "metadata": {},
   "outputs": [],
   "source": [
    "#nltk.download('maxent_ne_chunker')\n",
    "#nltk.download('words')\n",
    "#%pip install svgling"
   ]
  },
  {
   "cell_type": "markdown",
   "metadata": {},
   "source": [
    "Question 3:"
   ]
  },
  {
   "cell_type": "code",
   "execution_count": 47,
   "metadata": {},
   "outputs": [
    {
     "name": "stdout",
     "output_type": "stream",
     "text": [
      "GeoPoliticalCount:  19\n",
      "PersonsCount:  6\n",
      "OrganizationsCount:  29\n"
     ]
    }
   ],
   "source": [
    "# GPE ORGANIZATION PERSON\n",
    "fdist_geopolitical = FreqDist()\n",
    "fdist_person = FreqDist()\n",
    "\n",
    "def GeoPoliticalCount(txt):\n",
    "    count = 0\n",
    "    brexit_pos = nltk.pos_tag(word_tokenize(txt))\n",
    "    ner = nltk.ne_chunk(brexit_pos)\n",
    "    for chunk in ner:\n",
    "        if type(chunk) == nltk.tree.Tree:\n",
    "            if chunk.label() == 'GPE':\n",
    "                count = count + 1\n",
    "                fdist_geopolitical[chunk.leaves()[0][0].upper()] += 1\n",
    "    return count    \n",
    "\n",
    "def PersonsCount(txt):\n",
    "    count = 0\n",
    "    brexit_pos = nltk.pos_tag(word_tokenize(txt))\n",
    "    ner = nltk.ne_chunk(brexit_pos)\n",
    "    for chunk in ner:\n",
    "        if type(chunk) == nltk.tree.Tree:\n",
    "            if chunk.label() == 'PERSON':\n",
    "                count = count + 1\n",
    "                fdist_person[chunk.leaves()[0][0].upper()] += 1\n",
    "    return count \n",
    "\n",
    "def OrganizationsCount(txt):\n",
    "    count = 0\n",
    "    brexit_pos = nltk.pos_tag(word_tokenize(txt))\n",
    "    ner = nltk.ne_chunk(brexit_pos)\n",
    "    for chunk in ner:\n",
    "        if type(chunk) == nltk.tree.Tree:\n",
    "            if chunk.label() == 'ORGANIZATION':\n",
    "                count = count + 1\n",
    "    return count        \n",
    "\n",
    "print(\"GeoPoliticalCount: \", GeoPoliticalCount(brexit_text))\n",
    "print(\"PersonsCount: \", PersonsCount(brexit_text))\n",
    "print(\"OrganizationsCount: \", OrganizationsCount(brexit_text))"
   ]
  },
  {
   "cell_type": "markdown",
   "metadata": {},
   "source": [
    "Question 4:"
   ]
  },
  {
   "cell_type": "code",
   "execution_count": 48,
   "metadata": {},
   "outputs": [
    {
     "name": "stdout",
     "output_type": "stream",
     "text": [
      "Most frequent Noun:  [('UK', 13), ('EU', 8), ('UNION', 7), ('BREXIT', 6), ('EUROPEAN', 6)]\n",
      "Most frequent GeoPolitical Entity:  [('EU', 8), ('EUROPEAN', 4), ('BREXIT', 2), ('BRITISH', 1), ('EURATOM', 1)]\n",
      "Most frequent Person:  [('THERESA', 2), ('BREXIT', 2), ('DAVID', 1), ('CAMERON', 1)]\n"
     ]
    }
   ],
   "source": [
    "print(\"Most frequent Noun: \", fdist_noun.most_common(5))\n",
    "print(\"Most frequent GeoPolitical Entity: \", fdist_geopolitical.most_common(5))\n",
    "print(\"Most frequent Person: \", fdist_person.most_common(5))"
   ]
  },
  {
   "cell_type": "code",
   "execution_count": 50,
   "metadata": {},
   "outputs": [
    {
     "name": "stdout",
     "output_type": "stream",
     "text": [
      "Most frequent BiGram:  [((',', 'the'), 7), (('the', 'UK'), 6), (('the', 'European'), 5), (('European', 'Union'), 5), (('the', 'EU'), 5)]\n"
     ]
    }
   ],
   "source": [
    "fdist_bigrams = FreqDist(GetNGrams(brexit_text, 2))\n",
    "print(\"Most frequent BiGram: \", fdist_bigrams.most_common(5))"
   ]
  }
 ],
 "metadata": {
  "kernelspec": {
   "display_name": "Python 3",
   "language": "python",
   "name": "python3"
  },
  "language_info": {
   "codemirror_mode": {
    "name": "ipython",
    "version": 3
   },
   "file_extension": ".py",
   "mimetype": "text/x-python",
   "name": "python",
   "nbconvert_exporter": "python",
   "pygments_lexer": "ipython3",
   "version": "3.12.1"
  }
 },
 "nbformat": 4,
 "nbformat_minor": 2
}
