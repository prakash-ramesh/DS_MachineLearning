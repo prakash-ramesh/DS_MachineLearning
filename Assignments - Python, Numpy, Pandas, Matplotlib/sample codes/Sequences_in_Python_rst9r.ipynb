{
 "cells": [
  {
   "cell_type": "code",
   "execution_count": null,
   "id": "2977fdd2-9a76-4046-8eed-cecab9bc91a6",
   "metadata": {},
   "outputs": [],
   "source": [
    "#Sequences/Collection Data types/Built-in Data structures\n",
    "\n",
    "#List,Tuple,Set,Dict\n",
    "\n",
    "#Ordered/Unordered(index)\n",
    "#Mutable/Immutable(can change items)\n",
    "#Allow Duplicates or not\n",
    "\n",
    "#List[]:ordered(index),Mutable(changes are allowed),Allow duplicates\n",
    "#Tuple():ordered(index),Immutable(changes are not allowed),duplicates\n",
    "#Set{}:Unordered,Mutable,DO NOT ALLOW DUPLICATES\n",
    "#Dict{key:value}:Unordered,Values are mutable but keys are immutable"
   ]
  },
  {
   "cell_type": "code",
   "execution_count": 4,
   "id": "34800f5c-157b-490c-b923-f4d446d33417",
   "metadata": {},
   "outputs": [
    {
     "name": "stdout",
     "output_type": "stream",
     "text": [
      "<class 'list'>\n",
      "3.65\n"
     ]
    }
   ],
   "source": [
    "#Python List\n",
    "lst=[45,36,98,75,45,12]\n",
    "lst=['zero',1,2,3.65,\"Amit\",[10,20,30]]\n",
    "print(type(lst))\n",
    "print(lst[3]) #index\n"
   ]
  },
  {
   "cell_type": "code",
   "execution_count": 11,
   "id": "9a8a618c-92ea-4079-8ac5-40c75229c44f",
   "metadata": {},
   "outputs": [
    {
     "name": "stdout",
     "output_type": "stream",
     "text": [
      "[10, 100, 10, 20, 20, 30, 30, 40, 50]\n",
      "[10, 100, 10, 20, 20, 30, 30, 40, 50]\n",
      "[1001, 'Amit Kumar', 25000, 'Mumbai', ['proj1', 'proj2'], 4.6]\n",
      "[1001, 'Amit Kumar', 35000, 'Mumbai', ['proj1', 'proj2'], 4.6]\n",
      "proj1\n"
     ]
    }
   ],
   "source": [
    "print(lst)\n",
    "lst[1]=100\n",
    "print(lst) #Mutable\n",
    "emp=[1001,'Amit Kumar',25000,'Mumbai',['proj1','proj2'],4.6]\n",
    "print(emp)\n",
    "emp[2]=35000\n",
    "print(emp)\n",
    "print(emp[4][0])  #Forwarded indexing"
   ]
  },
  {
   "cell_type": "code",
   "execution_count": 9,
   "id": "8fef1ca8-add7-4abc-93cd-32ee10f7c478",
   "metadata": {},
   "outputs": [
    {
     "name": "stdout",
     "output_type": "stream",
     "text": [
      "[10, 10, 10, 20, 20, 30, 30, 40, 50]\n"
     ]
    }
   ],
   "source": [
    "lst=[10,10,10,20,20,30,30,40,50]  #Allows duplicates\n",
    "print(lst)"
   ]
  },
  {
   "cell_type": "code",
   "execution_count": 12,
   "id": "03f80b85-a702-41b5-8992-bf2e9671d4dd",
   "metadata": {},
   "outputs": [
    {
     "name": "stdout",
     "output_type": "stream",
     "text": [
      "index:0, item:10\n",
      "index:1, item:100\n",
      "index:2, item:10\n",
      "index:3, item:20\n",
      "index:4, item:20\n",
      "index:5, item:30\n",
      "index:6, item:30\n",
      "index:7, item:40\n",
      "index:8, item:50\n"
     ]
    }
   ],
   "source": [
    "indx=0\n",
    "for item in lst:\n",
    "    print(f\"index:{indx}, item:{item}\")\n",
    "    indx+=1"
   ]
  },
  {
   "cell_type": "code",
   "execution_count": 13,
   "id": "90540da4-c239-4db2-a910-0155ed5d5924",
   "metadata": {},
   "outputs": [
    {
     "name": "stdout",
     "output_type": "stream",
     "text": [
      "Total items: 9\n"
     ]
    }
   ],
   "source": [
    "print(\"Total items:\",len(lst))"
   ]
  },
  {
   "cell_type": "code",
   "execution_count": 20,
   "id": "898edba5-9191-40e5-a542-1b9330ce08a6",
   "metadata": {},
   "outputs": [
    {
     "name": "stdout",
     "output_type": "stream",
     "text": [
      "[75, 32, 15]\n",
      "[15, 98, 32, 78]\n",
      "[15, 36, 98, 75]\n",
      "[98, 75, 32, 15, 78, 96, 32, 52]\n",
      "96\n",
      "[52, 32, 96, 78, 15, 32, 75, 98, 36, 15]\n"
     ]
    }
   ],
   "source": [
    "#Slicing [start:stop:step]\n",
    "lst=[15,36,98,75,32,15,78,96,32,52]\n",
    "print(lst[3:6])\n",
    "print(lst[0:7:2])\n",
    "print(lst[:4])  #by default start is 0 and by deault stop is end of the list\n",
    "print(lst[2:])\n",
    "print(lst[-3])  #Negative Indexing\n",
    "print(lst[::-1])  #Reverese the list"
   ]
  },
  {
   "cell_type": "code",
   "execution_count": 21,
   "id": "6369cff6-862c-4aae-939e-46565374dd37",
   "metadata": {},
   "outputs": [
    {
     "name": "stdout",
     "output_type": "stream",
     "text": [
      "15\n",
      "36\n",
      "98\n",
      "75\n",
      "32\n",
      "15\n",
      "78\n",
      "96\n",
      "32\n",
      "52\n"
     ]
    }
   ],
   "source": [
    "for i in lst:\n",
    "    print(i)"
   ]
  },
  {
   "cell_type": "code",
   "execution_count": 23,
   "id": "5a92a0ac-6666-4d8d-bd53-35d320950681",
   "metadata": {},
   "outputs": [
    {
     "name": "stdout",
     "output_type": "stream",
     "text": [
      "__add__\n",
      "__class__\n",
      "__class_getitem__\n",
      "__contains__\n",
      "__delattr__\n",
      "__delitem__\n",
      "__dir__\n",
      "__doc__\n",
      "__eq__\n",
      "__format__\n",
      "__ge__\n",
      "__getattribute__\n",
      "__getitem__\n",
      "__getstate__\n",
      "__gt__\n",
      "__hash__\n",
      "__iadd__\n",
      "__imul__\n",
      "__init__\n",
      "__init_subclass__\n",
      "__iter__\n",
      "__le__\n",
      "__len__\n",
      "__lt__\n",
      "__mul__\n",
      "__ne__\n",
      "__new__\n",
      "__reduce__\n",
      "__reduce_ex__\n",
      "__repr__\n",
      "__reversed__\n",
      "__rmul__\n",
      "__setattr__\n",
      "__setitem__\n",
      "__sizeof__\n",
      "__str__\n",
      "__subclasshook__\n",
      "append\n",
      "clear\n",
      "copy\n",
      "count\n",
      "extend\n",
      "index\n",
      "insert\n",
      "pop\n",
      "remove\n",
      "reverse\n",
      "sort\n"
     ]
    }
   ],
   "source": [
    "#To get functions asoociated with list(objects)\n",
    "#print(dir(lst))\n",
    "for i in dir(lst):\n",
    "    print(i)"
   ]
  },
  {
   "cell_type": "code",
   "execution_count": 24,
   "id": "5042ffe2-1652-49db-8148-7043eabe2b10",
   "metadata": {},
   "outputs": [
    {
     "name": "stdout",
     "output_type": "stream",
     "text": [
      "Insert object before index.\n"
     ]
    }
   ],
   "source": [
    "print(lst.insert.__doc__) #Document String"
   ]
  },
  {
   "cell_type": "code",
   "execution_count": 28,
   "id": "c67e2d54-c041-45e9-85c9-5fe6480f32e2",
   "metadata": {},
   "outputs": [
    {
     "name": "stdout",
     "output_type": "stream",
     "text": [
      "[12, 36, 98, 78, 45, 12, 36, 98, 100]\n",
      "[12, 36, 98, 78, 45, 12, 36, 98, 100, 200, 300, 400]\n",
      "[12, 36, 98, 1000, 78, 45, 12, 36, 98, 100, 200, 300, 400]\n"
     ]
    }
   ],
   "source": [
    "#Insert and delete elements \n",
    "#Insertion: append(),insert(),extend()\n",
    "lst=[12,36,98,78,45,12,36,98]\n",
    "lst.append(100) #add new element(only one) at the end of list\n",
    "print(lst)\n",
    "\n",
    "lst.extend([200,300,400])\n",
    "print(lst)\n",
    "\n",
    "lst.insert(3,1000) #(index, new item)\n",
    "print(lst)"
   ]
  },
  {
   "cell_type": "code",
   "execution_count": 31,
   "id": "14a29851-3cb9-4a74-b0b5-9c0566f6be25",
   "metadata": {},
   "outputs": [
    {
     "name": "stdout",
     "output_type": "stream",
     "text": [
      "[12, 36, 98, 1000, 78, 45, 12, 36, 98, 100, 200, 300]\n",
      "[12, 36, 98, 1000, 78, 45, 12, 36, 98, 100, 200]\n",
      "[12, 36, 98, 78, 45, 12, 36, 98, 100, 200]\n"
     ]
    }
   ],
   "source": [
    "#Deletion: pop(),remove()\n",
    "print(lst)\n",
    "lst.pop()\n",
    "print(lst)\n",
    "lst.pop(3)\n",
    "print(lst)"
   ]
  },
  {
   "cell_type": "code",
   "execution_count": 33,
   "id": "bc13c8e6-0acc-460b-b0f0-c56110d28d21",
   "metadata": {},
   "outputs": [
    {
     "name": "stdout",
     "output_type": "stream",
     "text": [
      "2\n"
     ]
    }
   ],
   "source": [
    "print(lst.index(98))"
   ]
  },
  {
   "cell_type": "code",
   "execution_count": 35,
   "id": "07f2897d-4916-44ea-b706-c40e3efd1e25",
   "metadata": {},
   "outputs": [
    {
     "name": "stdout",
     "output_type": "stream",
     "text": [
      "[12, 36, 98, 78, 45, 12, 36, 98, 100, 200]\n",
      "[12, 36, 78, 45, 12, 36, 98, 100, 200]\n"
     ]
    }
   ],
   "source": [
    "print(lst)\n",
    "lst.remove(98)\n",
    "print(lst)"
   ]
  },
  {
   "cell_type": "code",
   "execution_count": 36,
   "id": "0585ebd0-eb61-4e59-9bfc-30c5fb50e9b1",
   "metadata": {},
   "outputs": [
    {
     "name": "stdout",
     "output_type": "stream",
     "text": [
      "[12, 36, 78, 45, 12, 36, 100, 200]\n"
     ]
    }
   ],
   "source": [
    "lst=[12, 36, 98, 78, 45, 12, 36, 98, 100, 200]\n",
    "for i in lst:\n",
    "    if i==98:\n",
    "        lst.remove(98)\n",
    "\n",
    "print(lst)"
   ]
  },
  {
   "cell_type": "code",
   "execution_count": 37,
   "id": "57e01cff-a871-44d5-914d-9503e652bdbd",
   "metadata": {},
   "outputs": [
    {
     "name": "stdout",
     "output_type": "stream",
     "text": [
      "3\n"
     ]
    }
   ],
   "source": [
    "lst=[45,45,26,23,89,78,45,12,23,56]\n",
    "print(lst.count(45))"
   ]
  },
  {
   "cell_type": "code",
   "execution_count": 40,
   "id": "4781db7d-52ba-40cf-965e-78d0e82fdf54",
   "metadata": {},
   "outputs": [
    {
     "name": "stdout",
     "output_type": "stream",
     "text": [
      "[12, 23, 23, 26, 45, 45, 45, 56, 78, 89]\n",
      "[89, 78, 56, 45, 45, 45, 26, 23, 23, 12]\n"
     ]
    }
   ],
   "source": [
    "lst.sort()  #By default ascending\n",
    "print(lst)\n",
    "print(lst[::-1])"
   ]
  },
  {
   "cell_type": "code",
   "execution_count": 44,
   "id": "9334a4d1-e16f-4a66-aa25-81ede5960450",
   "metadata": {},
   "outputs": [
    {
     "name": "stdout",
     "output_type": "stream",
     "text": [
      "<class 'tuple'>\n",
      "45\n"
     ]
    },
    {
     "ename": "TypeError",
     "evalue": "'tuple' object does not support item assignment",
     "output_type": "error",
     "traceback": [
      "\u001b[1;31m---------------------------------------------------------------------------\u001b[0m",
      "\u001b[1;31mTypeError\u001b[0m                                 Traceback (most recent call last)",
      "Cell \u001b[1;32mIn[44], line 6\u001b[0m\n\u001b[0;32m      3\u001b[0m \u001b[38;5;28mprint\u001b[39m(\u001b[38;5;28mtype\u001b[39m(tup))\n\u001b[0;32m      4\u001b[0m \u001b[38;5;28mprint\u001b[39m(tup[\u001b[38;5;241m0\u001b[39m]) \u001b[38;5;66;03m#indexing\u001b[39;00m\n\u001b[1;32m----> 6\u001b[0m \u001b[43mtup\u001b[49m\u001b[43m[\u001b[49m\u001b[38;5;241;43m0\u001b[39;49m\u001b[43m]\u001b[49m\u001b[38;5;241m=\u001b[39m\u001b[38;5;241m100\u001b[39m\n",
      "\u001b[1;31mTypeError\u001b[0m: 'tuple' object does not support item assignment"
     ]
    }
   ],
   "source": [
    "#Python Tuple\n",
    "tup=(45,63,98,52,32,78,97,45,97)\n",
    "print(type(tup))\n",
    "print(tup[0]) #indexing\n",
    "\n",
    "tup[0]=100  #Immutable"
   ]
  },
  {
   "cell_type": "code",
   "execution_count": 45,
   "id": "96d3685f-b80a-4ce7-a39c-97d00708d868",
   "metadata": {},
   "outputs": [
    {
     "name": "stdout",
     "output_type": "stream",
     "text": [
      "__add__\n",
      "__class__\n",
      "__class_getitem__\n",
      "__contains__\n",
      "__delattr__\n",
      "__dir__\n",
      "__doc__\n",
      "__eq__\n",
      "__format__\n",
      "__ge__\n",
      "__getattribute__\n",
      "__getitem__\n",
      "__getnewargs__\n",
      "__getstate__\n",
      "__gt__\n",
      "__hash__\n",
      "__init__\n",
      "__init_subclass__\n",
      "__iter__\n",
      "__le__\n",
      "__len__\n",
      "__lt__\n",
      "__mul__\n",
      "__ne__\n",
      "__new__\n",
      "__reduce__\n",
      "__reduce_ex__\n",
      "__repr__\n",
      "__rmul__\n",
      "__setattr__\n",
      "__sizeof__\n",
      "__str__\n",
      "__subclasshook__\n",
      "count\n",
      "index\n"
     ]
    }
   ],
   "source": [
    "for i in dir(tup):\n",
    "    print(i)"
   ]
  },
  {
   "cell_type": "code",
   "execution_count": 46,
   "id": "f0e053d7-23d1-4ce8-b6c8-b35b22ee46eb",
   "metadata": {},
   "outputs": [
    {
     "name": "stdout",
     "output_type": "stream",
     "text": [
      "[40, 10, 20, 50]\n"
     ]
    }
   ],
   "source": [
    "lst=[10,20,20,20,10,40,40,50]\n",
    "lst=list(set(lst))\n",
    "print(lst)"
   ]
  },
  {
   "cell_type": "code",
   "execution_count": 49,
   "id": "1e2d4769-68d3-4442-b7c5-5fd750ab2f5b",
   "metadata": {},
   "outputs": [
    {
     "name": "stdout",
     "output_type": "stream",
     "text": [
      "True\n",
      "False\n",
      "False\n"
     ]
    }
   ],
   "source": [
    "#Membership operators in, not in\n",
    "lst=[12, 36, 78, 45, 12, 36, 100, 200]\n",
    "print(45 in lst)\n",
    "print(45 not in lst)\n",
    "print(1000 in lst)"
   ]
  },
  {
   "cell_type": "code",
   "execution_count": 53,
   "id": "3ad126b1-7da9-4f9b-b15f-4ec14b73d5f8",
   "metadata": {},
   "outputs": [
    {
     "name": "stdout",
     "output_type": "stream",
     "text": [
      "0\n",
      "4\n"
     ]
    }
   ],
   "source": [
    "lst=[12, 36, 78, 45, 12, 36, 100, 200]\n",
    "ind=0\n",
    "for i in lst:  \n",
    "  if i == 12:\n",
    "    print(ind)\n",
    "  ind+=1"
   ]
  },
  {
   "cell_type": "code",
   "execution_count": null,
   "id": "a216caba-91e1-476c-a1c5-aafda51d6ecc",
   "metadata": {},
   "outputs": [],
   "source": []
  }
 ],
 "metadata": {
  "kernelspec": {
   "display_name": "Python 3 (ipykernel)",
   "language": "python",
   "name": "python3"
  },
  "language_info": {
   "codemirror_mode": {
    "name": "ipython",
    "version": 3
   },
   "file_extension": ".py",
   "mimetype": "text/x-python",
   "name": "python",
   "nbconvert_exporter": "python",
   "pygments_lexer": "ipython3",
   "version": "3.12.1"
  }
 },
 "nbformat": 4,
 "nbformat_minor": 5
}
